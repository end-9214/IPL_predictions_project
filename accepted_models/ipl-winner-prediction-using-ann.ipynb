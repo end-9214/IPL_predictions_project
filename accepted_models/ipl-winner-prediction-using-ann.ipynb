{
 "cells": [
  {
   "cell_type": "code",
   "execution_count": 1,
   "id": "f850a66d",
   "metadata": {
    "execution": {
     "iopub.execute_input": "2025-04-30T16:49:22.496885Z",
     "iopub.status.busy": "2025-04-30T16:49:22.496562Z",
     "iopub.status.idle": "2025-04-30T16:49:25.033885Z",
     "shell.execute_reply": "2025-04-30T16:49:25.033354Z"
    },
    "papermill": {
     "duration": 2.548802,
     "end_time": "2025-04-30T16:49:25.035160",
     "exception": false,
     "start_time": "2025-04-30T16:49:22.486358",
     "status": "completed"
    },
    "tags": []
   },
   "outputs": [],
   "source": [
    "import pandas as pd\n",
    "import numpy as np\n",
    "import matplotlib.pyplot as plt\n",
    "import seaborn as sns"
   ]
  },
  {
   "cell_type": "code",
   "execution_count": 2,
   "id": "cd25c842",
   "metadata": {
    "execution": {
     "iopub.execute_input": "2025-04-30T16:49:25.057308Z",
     "iopub.status.busy": "2025-04-30T16:49:25.056480Z",
     "iopub.status.idle": "2025-04-30T16:49:26.094530Z",
     "shell.execute_reply": "2025-04-30T16:49:26.093950Z"
    },
    "papermill": {
     "duration": 1.050456,
     "end_time": "2025-04-30T16:49:26.095817",
     "exception": false,
     "start_time": "2025-04-30T16:49:25.045361",
     "status": "completed"
    },
    "tags": []
   },
   "outputs": [],
   "source": [
    "matches = pd.read_csv(\"data/matches.csv\")\n",
    "deliveries = pd.read_csv(\"data/deliveries.csv\")"
   ]
  },
  {
   "cell_type": "code",
   "execution_count": 3,
   "id": "645099ef",
   "metadata": {
    "execution": {
     "iopub.execute_input": "2025-04-30T16:49:26.117789Z",
     "iopub.status.busy": "2025-04-30T16:49:26.117376Z",
     "iopub.status.idle": "2025-04-30T16:49:26.146912Z",
     "shell.execute_reply": "2025-04-30T16:49:26.146290Z"
    },
    "papermill": {
     "duration": 0.041524,
     "end_time": "2025-04-30T16:49:26.148021",
     "exception": false,
     "start_time": "2025-04-30T16:49:26.106497",
     "status": "completed"
    },
    "tags": []
   },
   "outputs": [
    {
     "data": {
      "text/html": [
       "<div>\n",
       "<style scoped>\n",
       "    .dataframe tbody tr th:only-of-type {\n",
       "        vertical-align: middle;\n",
       "    }\n",
       "\n",
       "    .dataframe tbody tr th {\n",
       "        vertical-align: top;\n",
       "    }\n",
       "\n",
       "    .dataframe thead th {\n",
       "        text-align: right;\n",
       "    }\n",
       "</style>\n",
       "<table border=\"1\" class=\"dataframe\">\n",
       "  <thead>\n",
       "    <tr style=\"text-align: right;\">\n",
       "      <th></th>\n",
       "      <th>id</th>\n",
       "      <th>season</th>\n",
       "      <th>city</th>\n",
       "      <th>date</th>\n",
       "      <th>match_type</th>\n",
       "      <th>player_of_match</th>\n",
       "      <th>venue</th>\n",
       "      <th>team1</th>\n",
       "      <th>team2</th>\n",
       "      <th>toss_winner</th>\n",
       "      <th>toss_decision</th>\n",
       "      <th>winner</th>\n",
       "      <th>result</th>\n",
       "      <th>result_margin</th>\n",
       "      <th>target_runs</th>\n",
       "      <th>target_overs</th>\n",
       "      <th>super_over</th>\n",
       "      <th>method</th>\n",
       "      <th>umpire1</th>\n",
       "      <th>umpire2</th>\n",
       "    </tr>\n",
       "  </thead>\n",
       "  <tbody>\n",
       "    <tr>\n",
       "      <th>0</th>\n",
       "      <td>335982</td>\n",
       "      <td>2007/08</td>\n",
       "      <td>Bangalore</td>\n",
       "      <td>2008-04-18</td>\n",
       "      <td>League</td>\n",
       "      <td>BB McCullum</td>\n",
       "      <td>M Chinnaswamy Stadium</td>\n",
       "      <td>Royal Challengers Bangalore</td>\n",
       "      <td>Kolkata Knight Riders</td>\n",
       "      <td>Royal Challengers Bangalore</td>\n",
       "      <td>field</td>\n",
       "      <td>Kolkata Knight Riders</td>\n",
       "      <td>runs</td>\n",
       "      <td>140.0</td>\n",
       "      <td>223.0</td>\n",
       "      <td>20.0</td>\n",
       "      <td>N</td>\n",
       "      <td>NaN</td>\n",
       "      <td>Asad Rauf</td>\n",
       "      <td>RE Koertzen</td>\n",
       "    </tr>\n",
       "    <tr>\n",
       "      <th>1</th>\n",
       "      <td>335983</td>\n",
       "      <td>2007/08</td>\n",
       "      <td>Chandigarh</td>\n",
       "      <td>2008-04-19</td>\n",
       "      <td>League</td>\n",
       "      <td>MEK Hussey</td>\n",
       "      <td>Punjab Cricket Association Stadium, Mohali</td>\n",
       "      <td>Kings XI Punjab</td>\n",
       "      <td>Chennai Super Kings</td>\n",
       "      <td>Chennai Super Kings</td>\n",
       "      <td>bat</td>\n",
       "      <td>Chennai Super Kings</td>\n",
       "      <td>runs</td>\n",
       "      <td>33.0</td>\n",
       "      <td>241.0</td>\n",
       "      <td>20.0</td>\n",
       "      <td>N</td>\n",
       "      <td>NaN</td>\n",
       "      <td>MR Benson</td>\n",
       "      <td>SL Shastri</td>\n",
       "    </tr>\n",
       "    <tr>\n",
       "      <th>2</th>\n",
       "      <td>335984</td>\n",
       "      <td>2007/08</td>\n",
       "      <td>Delhi</td>\n",
       "      <td>2008-04-19</td>\n",
       "      <td>League</td>\n",
       "      <td>MF Maharoof</td>\n",
       "      <td>Feroz Shah Kotla</td>\n",
       "      <td>Delhi Daredevils</td>\n",
       "      <td>Rajasthan Royals</td>\n",
       "      <td>Rajasthan Royals</td>\n",
       "      <td>bat</td>\n",
       "      <td>Delhi Daredevils</td>\n",
       "      <td>wickets</td>\n",
       "      <td>9.0</td>\n",
       "      <td>130.0</td>\n",
       "      <td>20.0</td>\n",
       "      <td>N</td>\n",
       "      <td>NaN</td>\n",
       "      <td>Aleem Dar</td>\n",
       "      <td>GA Pratapkumar</td>\n",
       "    </tr>\n",
       "    <tr>\n",
       "      <th>3</th>\n",
       "      <td>335985</td>\n",
       "      <td>2007/08</td>\n",
       "      <td>Mumbai</td>\n",
       "      <td>2008-04-20</td>\n",
       "      <td>League</td>\n",
       "      <td>MV Boucher</td>\n",
       "      <td>Wankhede Stadium</td>\n",
       "      <td>Mumbai Indians</td>\n",
       "      <td>Royal Challengers Bangalore</td>\n",
       "      <td>Mumbai Indians</td>\n",
       "      <td>bat</td>\n",
       "      <td>Royal Challengers Bangalore</td>\n",
       "      <td>wickets</td>\n",
       "      <td>5.0</td>\n",
       "      <td>166.0</td>\n",
       "      <td>20.0</td>\n",
       "      <td>N</td>\n",
       "      <td>NaN</td>\n",
       "      <td>SJ Davis</td>\n",
       "      <td>DJ Harper</td>\n",
       "    </tr>\n",
       "    <tr>\n",
       "      <th>4</th>\n",
       "      <td>335986</td>\n",
       "      <td>2007/08</td>\n",
       "      <td>Kolkata</td>\n",
       "      <td>2008-04-20</td>\n",
       "      <td>League</td>\n",
       "      <td>DJ Hussey</td>\n",
       "      <td>Eden Gardens</td>\n",
       "      <td>Kolkata Knight Riders</td>\n",
       "      <td>Deccan Chargers</td>\n",
       "      <td>Deccan Chargers</td>\n",
       "      <td>bat</td>\n",
       "      <td>Kolkata Knight Riders</td>\n",
       "      <td>wickets</td>\n",
       "      <td>5.0</td>\n",
       "      <td>111.0</td>\n",
       "      <td>20.0</td>\n",
       "      <td>N</td>\n",
       "      <td>NaN</td>\n",
       "      <td>BF Bowden</td>\n",
       "      <td>K Hariharan</td>\n",
       "    </tr>\n",
       "  </tbody>\n",
       "</table>\n",
       "</div>"
      ],
      "text/plain": [
       "       id   season        city        date match_type player_of_match  \\\n",
       "0  335982  2007/08   Bangalore  2008-04-18     League     BB McCullum   \n",
       "1  335983  2007/08  Chandigarh  2008-04-19     League      MEK Hussey   \n",
       "2  335984  2007/08       Delhi  2008-04-19     League     MF Maharoof   \n",
       "3  335985  2007/08      Mumbai  2008-04-20     League      MV Boucher   \n",
       "4  335986  2007/08     Kolkata  2008-04-20     League       DJ Hussey   \n",
       "\n",
       "                                        venue                        team1  \\\n",
       "0                       M Chinnaswamy Stadium  Royal Challengers Bangalore   \n",
       "1  Punjab Cricket Association Stadium, Mohali              Kings XI Punjab   \n",
       "2                            Feroz Shah Kotla             Delhi Daredevils   \n",
       "3                            Wankhede Stadium               Mumbai Indians   \n",
       "4                                Eden Gardens        Kolkata Knight Riders   \n",
       "\n",
       "                         team2                  toss_winner toss_decision  \\\n",
       "0        Kolkata Knight Riders  Royal Challengers Bangalore         field   \n",
       "1          Chennai Super Kings          Chennai Super Kings           bat   \n",
       "2             Rajasthan Royals             Rajasthan Royals           bat   \n",
       "3  Royal Challengers Bangalore               Mumbai Indians           bat   \n",
       "4              Deccan Chargers              Deccan Chargers           bat   \n",
       "\n",
       "                        winner   result  result_margin  target_runs  \\\n",
       "0        Kolkata Knight Riders     runs          140.0        223.0   \n",
       "1          Chennai Super Kings     runs           33.0        241.0   \n",
       "2             Delhi Daredevils  wickets            9.0        130.0   \n",
       "3  Royal Challengers Bangalore  wickets            5.0        166.0   \n",
       "4        Kolkata Knight Riders  wickets            5.0        111.0   \n",
       "\n",
       "   target_overs super_over method    umpire1         umpire2  \n",
       "0          20.0          N    NaN  Asad Rauf     RE Koertzen  \n",
       "1          20.0          N    NaN  MR Benson      SL Shastri  \n",
       "2          20.0          N    NaN  Aleem Dar  GA Pratapkumar  \n",
       "3          20.0          N    NaN   SJ Davis       DJ Harper  \n",
       "4          20.0          N    NaN  BF Bowden     K Hariharan  "
      ]
     },
     "execution_count": 3,
     "metadata": {},
     "output_type": "execute_result"
    }
   ],
   "source": [
    "matches.head()"
   ]
  },
  {
   "cell_type": "code",
   "execution_count": 4,
   "id": "4df9b6ab",
   "metadata": {
    "execution": {
     "iopub.execute_input": "2025-04-30T16:49:26.168891Z",
     "iopub.status.busy": "2025-04-30T16:49:26.168340Z",
     "iopub.status.idle": "2025-04-30T16:49:26.179037Z",
     "shell.execute_reply": "2025-04-30T16:49:26.178377Z"
    },
    "papermill": {
     "duration": 0.021929,
     "end_time": "2025-04-30T16:49:26.180035",
     "exception": false,
     "start_time": "2025-04-30T16:49:26.158106",
     "status": "completed"
    },
    "tags": []
   },
   "outputs": [
    {
     "data": {
      "text/html": [
       "<div>\n",
       "<style scoped>\n",
       "    .dataframe tbody tr th:only-of-type {\n",
       "        vertical-align: middle;\n",
       "    }\n",
       "\n",
       "    .dataframe tbody tr th {\n",
       "        vertical-align: top;\n",
       "    }\n",
       "\n",
       "    .dataframe thead th {\n",
       "        text-align: right;\n",
       "    }\n",
       "</style>\n",
       "<table border=\"1\" class=\"dataframe\">\n",
       "  <thead>\n",
       "    <tr style=\"text-align: right;\">\n",
       "      <th></th>\n",
       "      <th>match_id</th>\n",
       "      <th>inning</th>\n",
       "      <th>batting_team</th>\n",
       "      <th>bowling_team</th>\n",
       "      <th>over</th>\n",
       "      <th>ball</th>\n",
       "      <th>batter</th>\n",
       "      <th>bowler</th>\n",
       "      <th>non_striker</th>\n",
       "      <th>batsman_runs</th>\n",
       "      <th>extra_runs</th>\n",
       "      <th>total_runs</th>\n",
       "      <th>extras_type</th>\n",
       "      <th>is_wicket</th>\n",
       "      <th>player_dismissed</th>\n",
       "      <th>dismissal_kind</th>\n",
       "      <th>fielder</th>\n",
       "    </tr>\n",
       "  </thead>\n",
       "  <tbody>\n",
       "    <tr>\n",
       "      <th>0</th>\n",
       "      <td>335982</td>\n",
       "      <td>1</td>\n",
       "      <td>Kolkata Knight Riders</td>\n",
       "      <td>Royal Challengers Bangalore</td>\n",
       "      <td>0</td>\n",
       "      <td>1</td>\n",
       "      <td>SC Ganguly</td>\n",
       "      <td>P Kumar</td>\n",
       "      <td>BB McCullum</td>\n",
       "      <td>0</td>\n",
       "      <td>1</td>\n",
       "      <td>1</td>\n",
       "      <td>legbyes</td>\n",
       "      <td>0</td>\n",
       "      <td>NaN</td>\n",
       "      <td>NaN</td>\n",
       "      <td>NaN</td>\n",
       "    </tr>\n",
       "    <tr>\n",
       "      <th>1</th>\n",
       "      <td>335982</td>\n",
       "      <td>1</td>\n",
       "      <td>Kolkata Knight Riders</td>\n",
       "      <td>Royal Challengers Bangalore</td>\n",
       "      <td>0</td>\n",
       "      <td>2</td>\n",
       "      <td>BB McCullum</td>\n",
       "      <td>P Kumar</td>\n",
       "      <td>SC Ganguly</td>\n",
       "      <td>0</td>\n",
       "      <td>0</td>\n",
       "      <td>0</td>\n",
       "      <td>NaN</td>\n",
       "      <td>0</td>\n",
       "      <td>NaN</td>\n",
       "      <td>NaN</td>\n",
       "      <td>NaN</td>\n",
       "    </tr>\n",
       "    <tr>\n",
       "      <th>2</th>\n",
       "      <td>335982</td>\n",
       "      <td>1</td>\n",
       "      <td>Kolkata Knight Riders</td>\n",
       "      <td>Royal Challengers Bangalore</td>\n",
       "      <td>0</td>\n",
       "      <td>3</td>\n",
       "      <td>BB McCullum</td>\n",
       "      <td>P Kumar</td>\n",
       "      <td>SC Ganguly</td>\n",
       "      <td>0</td>\n",
       "      <td>1</td>\n",
       "      <td>1</td>\n",
       "      <td>wides</td>\n",
       "      <td>0</td>\n",
       "      <td>NaN</td>\n",
       "      <td>NaN</td>\n",
       "      <td>NaN</td>\n",
       "    </tr>\n",
       "    <tr>\n",
       "      <th>3</th>\n",
       "      <td>335982</td>\n",
       "      <td>1</td>\n",
       "      <td>Kolkata Knight Riders</td>\n",
       "      <td>Royal Challengers Bangalore</td>\n",
       "      <td>0</td>\n",
       "      <td>4</td>\n",
       "      <td>BB McCullum</td>\n",
       "      <td>P Kumar</td>\n",
       "      <td>SC Ganguly</td>\n",
       "      <td>0</td>\n",
       "      <td>0</td>\n",
       "      <td>0</td>\n",
       "      <td>NaN</td>\n",
       "      <td>0</td>\n",
       "      <td>NaN</td>\n",
       "      <td>NaN</td>\n",
       "      <td>NaN</td>\n",
       "    </tr>\n",
       "    <tr>\n",
       "      <th>4</th>\n",
       "      <td>335982</td>\n",
       "      <td>1</td>\n",
       "      <td>Kolkata Knight Riders</td>\n",
       "      <td>Royal Challengers Bangalore</td>\n",
       "      <td>0</td>\n",
       "      <td>5</td>\n",
       "      <td>BB McCullum</td>\n",
       "      <td>P Kumar</td>\n",
       "      <td>SC Ganguly</td>\n",
       "      <td>0</td>\n",
       "      <td>0</td>\n",
       "      <td>0</td>\n",
       "      <td>NaN</td>\n",
       "      <td>0</td>\n",
       "      <td>NaN</td>\n",
       "      <td>NaN</td>\n",
       "      <td>NaN</td>\n",
       "    </tr>\n",
       "  </tbody>\n",
       "</table>\n",
       "</div>"
      ],
      "text/plain": [
       "   match_id  inning           batting_team                 bowling_team  over  \\\n",
       "0    335982       1  Kolkata Knight Riders  Royal Challengers Bangalore     0   \n",
       "1    335982       1  Kolkata Knight Riders  Royal Challengers Bangalore     0   \n",
       "2    335982       1  Kolkata Knight Riders  Royal Challengers Bangalore     0   \n",
       "3    335982       1  Kolkata Knight Riders  Royal Challengers Bangalore     0   \n",
       "4    335982       1  Kolkata Knight Riders  Royal Challengers Bangalore     0   \n",
       "\n",
       "   ball       batter   bowler  non_striker  batsman_runs  extra_runs  \\\n",
       "0     1   SC Ganguly  P Kumar  BB McCullum             0           1   \n",
       "1     2  BB McCullum  P Kumar   SC Ganguly             0           0   \n",
       "2     3  BB McCullum  P Kumar   SC Ganguly             0           1   \n",
       "3     4  BB McCullum  P Kumar   SC Ganguly             0           0   \n",
       "4     5  BB McCullum  P Kumar   SC Ganguly             0           0   \n",
       "\n",
       "   total_runs extras_type  is_wicket player_dismissed dismissal_kind fielder  \n",
       "0           1     legbyes          0              NaN            NaN     NaN  \n",
       "1           0         NaN          0              NaN            NaN     NaN  \n",
       "2           1       wides          0              NaN            NaN     NaN  \n",
       "3           0         NaN          0              NaN            NaN     NaN  \n",
       "4           0         NaN          0              NaN            NaN     NaN  "
      ]
     },
     "execution_count": 4,
     "metadata": {},
     "output_type": "execute_result"
    }
   ],
   "source": [
    "deliveries.head()"
   ]
  },
  {
   "cell_type": "code",
   "execution_count": 5,
   "id": "954fad63",
   "metadata": {
    "execution": {
     "iopub.execute_input": "2025-04-30T16:49:26.201052Z",
     "iopub.status.busy": "2025-04-30T16:49:26.200573Z",
     "iopub.status.idle": "2025-04-30T16:49:26.204775Z",
     "shell.execute_reply": "2025-04-30T16:49:26.204286Z"
    },
    "papermill": {
     "duration": 0.015929,
     "end_time": "2025-04-30T16:49:26.205945",
     "exception": false,
     "start_time": "2025-04-30T16:49:26.190016",
     "status": "completed"
    },
    "tags": []
   },
   "outputs": [
    {
     "data": {
      "text/plain": [
       "(260920, 17)"
      ]
     },
     "execution_count": 5,
     "metadata": {},
     "output_type": "execute_result"
    }
   ],
   "source": [
    "deliveries.shape"
   ]
  },
  {
   "cell_type": "markdown",
   "id": "1f814a4a",
   "metadata": {
    "papermill": {
     "duration": 0.010012,
     "end_time": "2025-04-30T16:49:26.226225",
     "exception": false,
     "start_time": "2025-04-30T16:49:26.216213",
     "status": "completed"
    },
    "tags": []
   },
   "source": [
    "## Feature Engineering"
   ]
  },
  {
   "cell_type": "code",
   "execution_count": 6,
   "id": "dc1fe568",
   "metadata": {
    "execution": {
     "iopub.execute_input": "2025-04-30T16:49:26.247808Z",
     "iopub.status.busy": "2025-04-30T16:49:26.247309Z",
     "iopub.status.idle": "2025-04-30T16:49:26.962032Z",
     "shell.execute_reply": "2025-04-30T16:49:26.961299Z"
    },
    "papermill": {
     "duration": 0.727155,
     "end_time": "2025-04-30T16:49:26.963437",
     "exception": false,
     "start_time": "2025-04-30T16:49:26.236282",
     "status": "completed"
    },
    "tags": []
   },
   "outputs": [
    {
     "data": {
      "text/html": [
       "<div>\n",
       "<style scoped>\n",
       "    .dataframe tbody tr th:only-of-type {\n",
       "        vertical-align: middle;\n",
       "    }\n",
       "\n",
       "    .dataframe tbody tr th {\n",
       "        vertical-align: top;\n",
       "    }\n",
       "\n",
       "    .dataframe thead th {\n",
       "        text-align: right;\n",
       "    }\n",
       "</style>\n",
       "<table border=\"1\" class=\"dataframe\">\n",
       "  <thead>\n",
       "    <tr style=\"text-align: right;\">\n",
       "      <th></th>\n",
       "      <th>match_id</th>\n",
       "      <th>inning</th>\n",
       "      <th>batting_team</th>\n",
       "      <th>bowling_team</th>\n",
       "      <th>over</th>\n",
       "      <th>ball</th>\n",
       "      <th>batter</th>\n",
       "      <th>bowler</th>\n",
       "      <th>non_striker</th>\n",
       "      <th>batsman_runs</th>\n",
       "      <th>...</th>\n",
       "      <th>fielder</th>\n",
       "      <th>ball_number</th>\n",
       "      <th>is_dot_ball</th>\n",
       "      <th>is_boundary</th>\n",
       "      <th>is_six</th>\n",
       "      <th>is_four</th>\n",
       "      <th>over_ball</th>\n",
       "      <th>season</th>\n",
       "      <th>date</th>\n",
       "      <th>venue</th>\n",
       "    </tr>\n",
       "  </thead>\n",
       "  <tbody>\n",
       "    <tr>\n",
       "      <th>0</th>\n",
       "      <td>335982</td>\n",
       "      <td>1</td>\n",
       "      <td>Kolkata Knight Riders</td>\n",
       "      <td>Royal Challengers Bangalore</td>\n",
       "      <td>0</td>\n",
       "      <td>1</td>\n",
       "      <td>SC Ganguly</td>\n",
       "      <td>P Kumar</td>\n",
       "      <td>BB McCullum</td>\n",
       "      <td>0</td>\n",
       "      <td>...</td>\n",
       "      <td>NaN</td>\n",
       "      <td>1</td>\n",
       "      <td>0</td>\n",
       "      <td>0</td>\n",
       "      <td>0</td>\n",
       "      <td>0</td>\n",
       "      <td>0.1</td>\n",
       "      <td>2007/08</td>\n",
       "      <td>2008-04-18</td>\n",
       "      <td>M Chinnaswamy Stadium</td>\n",
       "    </tr>\n",
       "    <tr>\n",
       "      <th>1</th>\n",
       "      <td>335982</td>\n",
       "      <td>1</td>\n",
       "      <td>Kolkata Knight Riders</td>\n",
       "      <td>Royal Challengers Bangalore</td>\n",
       "      <td>0</td>\n",
       "      <td>2</td>\n",
       "      <td>BB McCullum</td>\n",
       "      <td>P Kumar</td>\n",
       "      <td>SC Ganguly</td>\n",
       "      <td>0</td>\n",
       "      <td>...</td>\n",
       "      <td>NaN</td>\n",
       "      <td>2</td>\n",
       "      <td>1</td>\n",
       "      <td>0</td>\n",
       "      <td>0</td>\n",
       "      <td>0</td>\n",
       "      <td>0.2</td>\n",
       "      <td>2007/08</td>\n",
       "      <td>2008-04-18</td>\n",
       "      <td>M Chinnaswamy Stadium</td>\n",
       "    </tr>\n",
       "    <tr>\n",
       "      <th>2</th>\n",
       "      <td>335982</td>\n",
       "      <td>1</td>\n",
       "      <td>Kolkata Knight Riders</td>\n",
       "      <td>Royal Challengers Bangalore</td>\n",
       "      <td>0</td>\n",
       "      <td>3</td>\n",
       "      <td>BB McCullum</td>\n",
       "      <td>P Kumar</td>\n",
       "      <td>SC Ganguly</td>\n",
       "      <td>0</td>\n",
       "      <td>...</td>\n",
       "      <td>NaN</td>\n",
       "      <td>3</td>\n",
       "      <td>0</td>\n",
       "      <td>0</td>\n",
       "      <td>0</td>\n",
       "      <td>0</td>\n",
       "      <td>0.3</td>\n",
       "      <td>2007/08</td>\n",
       "      <td>2008-04-18</td>\n",
       "      <td>M Chinnaswamy Stadium</td>\n",
       "    </tr>\n",
       "    <tr>\n",
       "      <th>3</th>\n",
       "      <td>335982</td>\n",
       "      <td>1</td>\n",
       "      <td>Kolkata Knight Riders</td>\n",
       "      <td>Royal Challengers Bangalore</td>\n",
       "      <td>0</td>\n",
       "      <td>4</td>\n",
       "      <td>BB McCullum</td>\n",
       "      <td>P Kumar</td>\n",
       "      <td>SC Ganguly</td>\n",
       "      <td>0</td>\n",
       "      <td>...</td>\n",
       "      <td>NaN</td>\n",
       "      <td>4</td>\n",
       "      <td>1</td>\n",
       "      <td>0</td>\n",
       "      <td>0</td>\n",
       "      <td>0</td>\n",
       "      <td>0.4</td>\n",
       "      <td>2007/08</td>\n",
       "      <td>2008-04-18</td>\n",
       "      <td>M Chinnaswamy Stadium</td>\n",
       "    </tr>\n",
       "    <tr>\n",
       "      <th>4</th>\n",
       "      <td>335982</td>\n",
       "      <td>1</td>\n",
       "      <td>Kolkata Knight Riders</td>\n",
       "      <td>Royal Challengers Bangalore</td>\n",
       "      <td>0</td>\n",
       "      <td>5</td>\n",
       "      <td>BB McCullum</td>\n",
       "      <td>P Kumar</td>\n",
       "      <td>SC Ganguly</td>\n",
       "      <td>0</td>\n",
       "      <td>...</td>\n",
       "      <td>NaN</td>\n",
       "      <td>5</td>\n",
       "      <td>1</td>\n",
       "      <td>0</td>\n",
       "      <td>0</td>\n",
       "      <td>0</td>\n",
       "      <td>0.5</td>\n",
       "      <td>2007/08</td>\n",
       "      <td>2008-04-18</td>\n",
       "      <td>M Chinnaswamy Stadium</td>\n",
       "    </tr>\n",
       "  </tbody>\n",
       "</table>\n",
       "<p>5 rows × 26 columns</p>\n",
       "</div>"
      ],
      "text/plain": [
       "   match_id  inning           batting_team                 bowling_team  over  \\\n",
       "0    335982       1  Kolkata Knight Riders  Royal Challengers Bangalore     0   \n",
       "1    335982       1  Kolkata Knight Riders  Royal Challengers Bangalore     0   \n",
       "2    335982       1  Kolkata Knight Riders  Royal Challengers Bangalore     0   \n",
       "3    335982       1  Kolkata Knight Riders  Royal Challengers Bangalore     0   \n",
       "4    335982       1  Kolkata Knight Riders  Royal Challengers Bangalore     0   \n",
       "\n",
       "   ball       batter   bowler  non_striker  batsman_runs  ...  fielder  \\\n",
       "0     1   SC Ganguly  P Kumar  BB McCullum             0  ...      NaN   \n",
       "1     2  BB McCullum  P Kumar   SC Ganguly             0  ...      NaN   \n",
       "2     3  BB McCullum  P Kumar   SC Ganguly             0  ...      NaN   \n",
       "3     4  BB McCullum  P Kumar   SC Ganguly             0  ...      NaN   \n",
       "4     5  BB McCullum  P Kumar   SC Ganguly             0  ...      NaN   \n",
       "\n",
       "   ball_number is_dot_ball  is_boundary is_six is_four over_ball   season  \\\n",
       "0            1           0            0      0       0       0.1  2007/08   \n",
       "1            2           1            0      0       0       0.2  2007/08   \n",
       "2            3           0            0      0       0       0.3  2007/08   \n",
       "3            4           1            0      0       0       0.4  2007/08   \n",
       "4            5           1            0      0       0       0.5  2007/08   \n",
       "\n",
       "         date                  venue  \n",
       "0  2008-04-18  M Chinnaswamy Stadium  \n",
       "1  2008-04-18  M Chinnaswamy Stadium  \n",
       "2  2008-04-18  M Chinnaswamy Stadium  \n",
       "3  2008-04-18  M Chinnaswamy Stadium  \n",
       "4  2008-04-18  M Chinnaswamy Stadium  \n",
       "\n",
       "[5 rows x 26 columns]"
      ]
     },
     "execution_count": 6,
     "metadata": {},
     "output_type": "execute_result"
    }
   ],
   "source": [
    "# Feature 1: Ball number in the innings (0.1 = over 0, ball 1 → becomes 1)\n",
    "deliveries['ball_number'] = deliveries['over'] * 6 + deliveries['ball']\n",
    "\n",
    "# Feature 2: Dot ball indicator\n",
    "deliveries['is_dot_ball'] = deliveries['total_runs'].apply(lambda x: 1 if x == 0 else 0)\n",
    "\n",
    "# Feature 3: Boundary indicator\n",
    "deliveries['is_boundary'] = deliveries['batsman_runs'].apply(lambda x: 1 if x in [4, 6] else 0)\n",
    "\n",
    "# Feature 4: Six and four indicators\n",
    "deliveries['is_six'] = deliveries['batsman_runs'].apply(lambda x: 1 if x == 6 else 0)\n",
    "deliveries['is_four'] = deliveries['batsman_runs'].apply(lambda x: 1 if x == 4 else 0)\n",
    "\n",
    "# Feature 5: Wicket indicator\n",
    "deliveries['is_wicket'] = deliveries['dismissal_kind'].notna().astype(int)\n",
    "\n",
    "# Feature 6: Over.ball format for readability (e.g., 15.2)\n",
    "deliveries['over_ball'] = deliveries['over'].astype(str) + '.' + deliveries['ball'].astype(str)\n",
    "\n",
    "# Feature 7: Join match-level info (e.g., date, venue)\n",
    "deliveries = deliveries.merge(matches[['id', 'season', 'date', 'venue']], left_on='match_id', right_on='id', how='left')\n",
    "\n",
    "# Drop redundant 'id' column from merge\n",
    "deliveries.drop('id', axis=1, inplace=True)\n",
    "\n",
    "# View enhanced dataframe\n",
    "deliveries.head()"
   ]
  },
  {
   "cell_type": "code",
   "execution_count": 7,
   "id": "714120dd",
   "metadata": {
    "execution": {
     "iopub.execute_input": "2025-04-30T16:49:27.033430Z",
     "iopub.status.busy": "2025-04-30T16:49:27.032697Z",
     "iopub.status.idle": "2025-04-30T16:49:27.449319Z",
     "shell.execute_reply": "2025-04-30T16:49:27.448653Z"
    },
    "papermill": {
     "duration": 0.475027,
     "end_time": "2025-04-30T16:49:27.450736",
     "exception": false,
     "start_time": "2025-04-30T16:49:26.975709",
     "status": "completed"
    },
    "tags": []
   },
   "outputs": [],
   "source": [
    "total_score = deliveries.groupby(['match_id','inning']).sum()['total_runs'].reset_index()"
   ]
  },
  {
   "cell_type": "code",
   "execution_count": 8,
   "id": "6ff5103f",
   "metadata": {
    "execution": {
     "iopub.execute_input": "2025-04-30T16:49:27.472792Z",
     "iopub.status.busy": "2025-04-30T16:49:27.472598Z",
     "iopub.status.idle": "2025-04-30T16:49:27.476381Z",
     "shell.execute_reply": "2025-04-30T16:49:27.475882Z"
    },
    "papermill": {
     "duration": 0.015622,
     "end_time": "2025-04-30T16:49:27.477398",
     "exception": false,
     "start_time": "2025-04-30T16:49:27.461776",
     "status": "completed"
    },
    "tags": []
   },
   "outputs": [],
   "source": [
    "total_score = total_score[total_score['inning']==1]"
   ]
  },
  {
   "cell_type": "code",
   "execution_count": 9,
   "id": "8b975a03",
   "metadata": {
    "execution": {
     "iopub.execute_input": "2025-04-30T16:49:27.498787Z",
     "iopub.status.busy": "2025-04-30T16:49:27.498388Z",
     "iopub.status.idle": "2025-04-30T16:49:27.505211Z",
     "shell.execute_reply": "2025-04-30T16:49:27.504682Z"
    },
    "papermill": {
     "duration": 0.018534,
     "end_time": "2025-04-30T16:49:27.506172",
     "exception": false,
     "start_time": "2025-04-30T16:49:27.487638",
     "status": "completed"
    },
    "tags": []
   },
   "outputs": [
    {
     "data": {
      "text/html": [
       "<div>\n",
       "<style scoped>\n",
       "    .dataframe tbody tr th:only-of-type {\n",
       "        vertical-align: middle;\n",
       "    }\n",
       "\n",
       "    .dataframe tbody tr th {\n",
       "        vertical-align: top;\n",
       "    }\n",
       "\n",
       "    .dataframe thead th {\n",
       "        text-align: right;\n",
       "    }\n",
       "</style>\n",
       "<table border=\"1\" class=\"dataframe\">\n",
       "  <thead>\n",
       "    <tr style=\"text-align: right;\">\n",
       "      <th></th>\n",
       "      <th>match_id</th>\n",
       "      <th>inning</th>\n",
       "      <th>total_runs</th>\n",
       "    </tr>\n",
       "  </thead>\n",
       "  <tbody>\n",
       "    <tr>\n",
       "      <th>0</th>\n",
       "      <td>335982</td>\n",
       "      <td>1</td>\n",
       "      <td>222</td>\n",
       "    </tr>\n",
       "    <tr>\n",
       "      <th>2</th>\n",
       "      <td>335983</td>\n",
       "      <td>1</td>\n",
       "      <td>240</td>\n",
       "    </tr>\n",
       "    <tr>\n",
       "      <th>4</th>\n",
       "      <td>335984</td>\n",
       "      <td>1</td>\n",
       "      <td>129</td>\n",
       "    </tr>\n",
       "    <tr>\n",
       "      <th>6</th>\n",
       "      <td>335985</td>\n",
       "      <td>1</td>\n",
       "      <td>165</td>\n",
       "    </tr>\n",
       "    <tr>\n",
       "      <th>8</th>\n",
       "      <td>335986</td>\n",
       "      <td>1</td>\n",
       "      <td>110</td>\n",
       "    </tr>\n",
       "    <tr>\n",
       "      <th>...</th>\n",
       "      <td>...</td>\n",
       "      <td>...</td>\n",
       "      <td>...</td>\n",
       "    </tr>\n",
       "    <tr>\n",
       "      <th>2207</th>\n",
       "      <td>1426307</td>\n",
       "      <td>1</td>\n",
       "      <td>214</td>\n",
       "    </tr>\n",
       "    <tr>\n",
       "      <th>2209</th>\n",
       "      <td>1426309</td>\n",
       "      <td>1</td>\n",
       "      <td>159</td>\n",
       "    </tr>\n",
       "    <tr>\n",
       "      <th>2211</th>\n",
       "      <td>1426310</td>\n",
       "      <td>1</td>\n",
       "      <td>172</td>\n",
       "    </tr>\n",
       "    <tr>\n",
       "      <th>2213</th>\n",
       "      <td>1426311</td>\n",
       "      <td>1</td>\n",
       "      <td>175</td>\n",
       "    </tr>\n",
       "    <tr>\n",
       "      <th>2215</th>\n",
       "      <td>1426312</td>\n",
       "      <td>1</td>\n",
       "      <td>113</td>\n",
       "    </tr>\n",
       "  </tbody>\n",
       "</table>\n",
       "<p>1095 rows × 3 columns</p>\n",
       "</div>"
      ],
      "text/plain": [
       "      match_id  inning  total_runs\n",
       "0       335982       1         222\n",
       "2       335983       1         240\n",
       "4       335984       1         129\n",
       "6       335985       1         165\n",
       "8       335986       1         110\n",
       "...        ...     ...         ...\n",
       "2207   1426307       1         214\n",
       "2209   1426309       1         159\n",
       "2211   1426310       1         172\n",
       "2213   1426311       1         175\n",
       "2215   1426312       1         113\n",
       "\n",
       "[1095 rows x 3 columns]"
      ]
     },
     "execution_count": 9,
     "metadata": {},
     "output_type": "execute_result"
    }
   ],
   "source": [
    "total_score"
   ]
  },
  {
   "cell_type": "markdown",
   "id": "44242be7",
   "metadata": {
    "papermill": {
     "duration": 0.010364,
     "end_time": "2025-04-30T16:49:27.526858",
     "exception": false,
     "start_time": "2025-04-30T16:49:27.516494",
     "status": "completed"
    },
    "tags": []
   },
   "source": [
    "## Data Visualtion"
   ]
  },
  {
   "cell_type": "code",
   "execution_count": 10,
   "id": "17f57e92",
   "metadata": {
    "execution": {
     "iopub.execute_input": "2025-04-30T16:49:27.548381Z",
     "iopub.status.busy": "2025-04-30T16:49:27.548206Z",
     "iopub.status.idle": "2025-04-30T16:49:27.887037Z",
     "shell.execute_reply": "2025-04-30T16:49:27.886340Z"
    },
    "papermill": {
     "duration": 0.351128,
     "end_time": "2025-04-30T16:49:27.888386",
     "exception": false,
     "start_time": "2025-04-30T16:49:27.537258",
     "status": "completed"
    },
    "tags": []
   },
   "outputs": [
    {
     "name": "stderr",
     "output_type": "stream",
     "text": [
      "C:\\Users\\DELL-7373\\AppData\\Local\\Temp\\ipykernel_11432\\691847804.py:3: FutureWarning: \n",
      "\n",
      "Passing `palette` without assigning `hue` is deprecated and will be removed in v0.14.0. Assign the `y` variable to `hue` and set `legend=False` for the same effect.\n",
      "\n",
      "  sns.barplot(x=top_batters.values, y=top_batters.index, palette='plasma')\n"
     ]
    },
    {
     "data": {
      "image/png": "[encoded data removed]",
      "text/plain": [
       "<Figure size 640x480 with 1 Axes>"
      ]
     },
     "metadata": {},
     "output_type": "display_data"
    }
   ],
   "source": [
    "# 1. 🔝 Top 10 run scorers\n",
    "top_batters = deliveries.groupby('batter')['batsman_runs'].sum().sort_values(ascending=False).head(10)\n",
    "sns.barplot(x=top_batters.values, y=top_batters.index, palette='plasma')\n",
    "plt.title(\"Top 10 Run Scorers\")\n",
    "plt.xlabel(\"Total Runs\")\n",
    "plt.ylabel(\"Batsman\")\n",
    "plt.show()"
   ]
  },
  {
   "cell_type": "code",
   "execution_count": 11,
   "id": "09446446",
   "metadata": {
    "execution": {
     "iopub.execute_input": "2025-04-30T16:49:27.912516Z",
     "iopub.status.busy": "2025-04-30T16:49:27.912326Z",
     "iopub.status.idle": "2025-04-30T16:49:28.087575Z",
     "shell.execute_reply": "2025-04-30T16:49:28.086832Z"
    },
    "papermill": {
     "duration": 0.188196,
     "end_time": "2025-04-30T16:49:28.088661",
     "exception": false,
     "start_time": "2025-04-30T16:49:27.900465",
     "status": "completed"
    },
    "tags": []
   },
   "outputs": [
    {
     "name": "stderr",
     "output_type": "stream",
     "text": [
      "C:\\Users\\DELL-7373\\AppData\\Local\\Temp\\ipykernel_11432\\3416148247.py:4: FutureWarning: \n",
      "\n",
      "Passing `palette` without assigning `hue` is deprecated and will be removed in v0.14.0. Assign the `y` variable to `hue` and set `legend=False` for the same effect.\n",
      "\n",
      "  sns.barplot(x=top_bowlers.values, y=top_bowlers.index, palette='coolwarm')\n"
     ]
    },
    {
     "data": {
      "image/png": "[encoded data removed]",
      "text/plain": [
       "<Figure size 640x480 with 1 Axes>"
      ]
     },
     "metadata": {},
     "output_type": "display_data"
    }
   ],
   "source": [
    "# 2. 🎯 Top 10 wicket-takers\n",
    "wickets = deliveries[deliveries['is_wicket'] == 1]\n",
    "top_bowlers = wickets.groupby('bowler').size().sort_values(ascending=False).head(10)\n",
    "sns.barplot(x=top_bowlers.values, y=top_bowlers.index, palette='coolwarm')\n",
    "plt.title(\"Top 10 Wicket Takers\")\n",
    "plt.xlabel(\"Wickets\")\n",
    "plt.ylabel(\"Bowler\")\n",
    "plt.show()"
   ]
  },
  {
   "cell_type": "code",
   "execution_count": 12,
   "id": "c9c47c4d",
   "metadata": {
    "execution": {
     "iopub.execute_input": "2025-04-30T16:49:28.114173Z",
     "iopub.status.busy": "2025-04-30T16:49:28.113717Z",
     "iopub.status.idle": "2025-04-30T16:49:28.313918Z",
     "shell.execute_reply": "2025-04-30T16:49:28.313093Z"
    },
    "papermill": {
     "duration": 0.213988,
     "end_time": "2025-04-30T16:49:28.315247",
     "exception": false,
     "start_time": "2025-04-30T16:49:28.101259",
     "status": "completed"
    },
    "tags": []
   },
   "outputs": [
    {
     "data": {
      "image/png": "[encoded data removed]",
      "text/plain": [
       "<Figure size 640x480 with 1 Axes>"
      ]
     },
     "metadata": {},
     "output_type": "display_data"
    }
   ],
   "source": [
    "# 3. 📈 Runs per season\n",
    "season_runs = deliveries.groupby('season')['total_runs'].sum()\n",
    "sns.lineplot(x=season_runs.index, y=season_runs.values, marker='o')\n",
    "plt.title(\"Total Runs per Season\")\n",
    "plt.ylabel(\"Total Runs\")\n",
    "plt.xlabel(\"Season\")\n",
    "plt.show()"
   ]
  },
  {
   "cell_type": "code",
   "execution_count": 13,
   "id": "93b3324b",
   "metadata": {
    "execution": {
     "iopub.execute_input": "2025-04-30T16:49:28.342394Z",
     "iopub.status.busy": "2025-04-30T16:49:28.341975Z",
     "iopub.status.idle": "2025-04-30T16:49:28.600583Z",
     "shell.execute_reply": "2025-04-30T16:49:28.599809Z"
    },
    "papermill": {
     "duration": 0.27369,
     "end_time": "2025-04-30T16:49:28.602309",
     "exception": false,
     "start_time": "2025-04-30T16:49:28.328619",
     "status": "completed"
    },
    "tags": []
   },
   "outputs": [
    {
     "name": "stderr",
     "output_type": "stream",
     "text": [
      "C:\\Users\\DELL-7373\\AppData\\Local\\Temp\\ipykernel_11432\\3963615407.py:3: FutureWarning: \n",
      "\n",
      "Passing `palette` without assigning `hue` is deprecated and will be removed in v0.14.0. Assign the `y` variable to `hue` and set `legend=False` for the same effect.\n",
      "\n",
      "  sns.barplot(x=team_wickets.values, y=team_wickets.index, palette='viridis')\n"
     ]
    },
    {
     "data": {
      "image/png": "[encoded data removed]",
      "text/plain": [
       "<Figure size 640x480 with 1 Axes>"
      ]
     },
     "metadata": {},
     "output_type": "display_data"
    }
   ],
   "source": [
    "# 4. 🎳 Team-wise total wickets taken\n",
    "team_wickets = deliveries[deliveries['is_wicket'] == 1].groupby('bowling_team').size().sort_values(ascending=False)\n",
    "sns.barplot(x=team_wickets.values, y=team_wickets.index, palette='viridis')\n",
    "plt.title(\"Total Wickets Taken by Teams\")\n",
    "plt.xlabel(\"Wickets\")\n",
    "plt.ylabel(\"Team\")\n",
    "plt.show()\n"
   ]
  },
  {
   "cell_type": "code",
   "execution_count": 14,
   "id": "7d3ce15e",
   "metadata": {
    "execution": {
     "iopub.execute_input": "2025-04-30T16:49:28.632392Z",
     "iopub.status.busy": "2025-04-30T16:49:28.631817Z",
     "iopub.status.idle": "2025-04-30T16:49:28.759279Z",
     "shell.execute_reply": "2025-04-30T16:49:28.758569Z"
    },
    "papermill": {
     "duration": 0.143269,
     "end_time": "2025-04-30T16:49:28.760505",
     "exception": false,
     "start_time": "2025-04-30T16:49:28.617236",
     "status": "completed"
    },
    "tags": []
   },
   "outputs": [
    {
     "name": "stderr",
     "output_type": "stream",
     "text": [
      "C:\\Users\\DELL-7373\\AppData\\Local\\Temp\\ipykernel_11432\\3757380281.py:5: FutureWarning: \n",
      "\n",
      "Passing `palette` without assigning `hue` is deprecated and will be removed in v0.14.0. Assign the `x` variable to `hue` and set `legend=False` for the same effect.\n",
      "\n",
      "  sns.barplot(x=['Fours', 'Sixes'], y=[fours, sixes], palette='Set2')\n"
     ]
    },
    {
     "data": {
      "image/png": "[encoded data removed]",
      "text/plain": [
       "<Figure size 640x480 with 1 Axes>"
      ]
     },
     "metadata": {},
     "output_type": "display_data"
    }
   ],
   "source": [
    "# 5. 💥 Boundary count (4s vs 6s)\n",
    "fours = deliveries[deliveries['is_four'] == 1].shape[0]\n",
    "sixes = deliveries[deliveries['is_six'] == 1].shape[0]\n",
    "\n",
    "sns.barplot(x=['Fours', 'Sixes'], y=[fours, sixes], palette='Set2')\n",
    "plt.title(\"Comparison of Fours vs Sixes\")\n",
    "plt.ylabel(\"Count\")\n",
    "plt.show()"
   ]
  },
  {
   "cell_type": "code",
   "execution_count": 15,
   "id": "c5c3f13d",
   "metadata": {
    "execution": {
     "iopub.execute_input": "2025-04-30T16:49:28.791334Z",
     "iopub.status.busy": "2025-04-30T16:49:28.790871Z",
     "iopub.status.idle": "2025-04-30T16:49:28.797611Z",
     "shell.execute_reply": "2025-04-30T16:49:28.797034Z"
    },
    "papermill": {
     "duration": 0.022925,
     "end_time": "2025-04-30T16:49:28.798708",
     "exception": false,
     "start_time": "2025-04-30T16:49:28.775783",
     "status": "completed"
    },
    "tags": []
   },
   "outputs": [],
   "source": [
    "matches_df = matches.merge(total_score[['match_id','total_runs']],left_on='id',right_on='match_id')"
   ]
  },
  {
   "cell_type": "code",
   "execution_count": 16,
   "id": "4b29bfa3",
   "metadata": {
    "execution": {
     "iopub.execute_input": "2025-04-30T16:49:28.828641Z",
     "iopub.status.busy": "2025-04-30T16:49:28.828467Z",
     "iopub.status.idle": "2025-04-30T16:49:28.845460Z",
     "shell.execute_reply": "2025-04-30T16:49:28.844912Z"
    },
    "papermill": {
     "duration": 0.032925,
     "end_time": "2025-04-30T16:49:28.846447",
     "exception": false,
     "start_time": "2025-04-30T16:49:28.813522",
     "status": "completed"
    },
    "tags": []
   },
   "outputs": [
    {
     "data": {
      "text/html": [
       "<div>\n",
       "<style scoped>\n",
       "    .dataframe tbody tr th:only-of-type {\n",
       "        vertical-align: middle;\n",
       "    }\n",
       "\n",
       "    .dataframe tbody tr th {\n",
       "        vertical-align: top;\n",
       "    }\n",
       "\n",
       "    .dataframe thead th {\n",
       "        text-align: right;\n",
       "    }\n",
       "</style>\n",
       "<table border=\"1\" class=\"dataframe\">\n",
       "  <thead>\n",
       "    <tr style=\"text-align: right;\">\n",
       "      <th></th>\n",
       "      <th>id</th>\n",
       "      <th>season</th>\n",
       "      <th>city</th>\n",
       "      <th>date</th>\n",
       "      <th>match_type</th>\n",
       "      <th>player_of_match</th>\n",
       "      <th>venue</th>\n",
       "      <th>team1</th>\n",
       "      <th>team2</th>\n",
       "      <th>toss_winner</th>\n",
       "      <th>...</th>\n",
       "      <th>result</th>\n",
       "      <th>result_margin</th>\n",
       "      <th>target_runs</th>\n",
       "      <th>target_overs</th>\n",
       "      <th>super_over</th>\n",
       "      <th>method</th>\n",
       "      <th>umpire1</th>\n",
       "      <th>umpire2</th>\n",
       "      <th>match_id</th>\n",
       "      <th>total_runs</th>\n",
       "    </tr>\n",
       "  </thead>\n",
       "  <tbody>\n",
       "    <tr>\n",
       "      <th>0</th>\n",
       "      <td>335982</td>\n",
       "      <td>2007/08</td>\n",
       "      <td>Bangalore</td>\n",
       "      <td>2008-04-18</td>\n",
       "      <td>League</td>\n",
       "      <td>BB McCullum</td>\n",
       "      <td>M Chinnaswamy Stadium</td>\n",
       "      <td>Royal Challengers Bangalore</td>\n",
       "      <td>Kolkata Knight Riders</td>\n",
       "      <td>Royal Challengers Bangalore</td>\n",
       "      <td>...</td>\n",
       "      <td>runs</td>\n",
       "      <td>140.0</td>\n",
       "      <td>223.0</td>\n",
       "      <td>20.0</td>\n",
       "      <td>N</td>\n",
       "      <td>NaN</td>\n",
       "      <td>Asad Rauf</td>\n",
       "      <td>RE Koertzen</td>\n",
       "      <td>335982</td>\n",
       "      <td>222</td>\n",
       "    </tr>\n",
       "    <tr>\n",
       "      <th>1</th>\n",
       "      <td>335983</td>\n",
       "      <td>2007/08</td>\n",
       "      <td>Chandigarh</td>\n",
       "      <td>2008-04-19</td>\n",
       "      <td>League</td>\n",
       "      <td>MEK Hussey</td>\n",
       "      <td>Punjab Cricket Association Stadium, Mohali</td>\n",
       "      <td>Kings XI Punjab</td>\n",
       "      <td>Chennai Super Kings</td>\n",
       "      <td>Chennai Super Kings</td>\n",
       "      <td>...</td>\n",
       "      <td>runs</td>\n",
       "      <td>33.0</td>\n",
       "      <td>241.0</td>\n",
       "      <td>20.0</td>\n",
       "      <td>N</td>\n",
       "      <td>NaN</td>\n",
       "      <td>MR Benson</td>\n",
       "      <td>SL Shastri</td>\n",
       "      <td>335983</td>\n",
       "      <td>240</td>\n",
       "    </tr>\n",
       "    <tr>\n",
       "      <th>2</th>\n",
       "      <td>335984</td>\n",
       "      <td>2007/08</td>\n",
       "      <td>Delhi</td>\n",
       "      <td>2008-04-19</td>\n",
       "      <td>League</td>\n",
       "      <td>MF Maharoof</td>\n",
       "      <td>Feroz Shah Kotla</td>\n",
       "      <td>Delhi Daredevils</td>\n",
       "      <td>Rajasthan Royals</td>\n",
       "      <td>Rajasthan Royals</td>\n",
       "      <td>...</td>\n",
       "      <td>wickets</td>\n",
       "      <td>9.0</td>\n",
       "      <td>130.0</td>\n",
       "      <td>20.0</td>\n",
       "      <td>N</td>\n",
       "      <td>NaN</td>\n",
       "      <td>Aleem Dar</td>\n",
       "      <td>GA Pratapkumar</td>\n",
       "      <td>335984</td>\n",
       "      <td>129</td>\n",
       "    </tr>\n",
       "    <tr>\n",
       "      <th>3</th>\n",
       "      <td>335985</td>\n",
       "      <td>2007/08</td>\n",
       "      <td>Mumbai</td>\n",
       "      <td>2008-04-20</td>\n",
       "      <td>League</td>\n",
       "      <td>MV Boucher</td>\n",
       "      <td>Wankhede Stadium</td>\n",
       "      <td>Mumbai Indians</td>\n",
       "      <td>Royal Challengers Bangalore</td>\n",
       "      <td>Mumbai Indians</td>\n",
       "      <td>...</td>\n",
       "      <td>wickets</td>\n",
       "      <td>5.0</td>\n",
       "      <td>166.0</td>\n",
       "      <td>20.0</td>\n",
       "      <td>N</td>\n",
       "      <td>NaN</td>\n",
       "      <td>SJ Davis</td>\n",
       "      <td>DJ Harper</td>\n",
       "      <td>335985</td>\n",
       "      <td>165</td>\n",
       "    </tr>\n",
       "    <tr>\n",
       "      <th>4</th>\n",
       "      <td>335986</td>\n",
       "      <td>2007/08</td>\n",
       "      <td>Kolkata</td>\n",
       "      <td>2008-04-20</td>\n",
       "      <td>League</td>\n",
       "      <td>DJ Hussey</td>\n",
       "      <td>Eden Gardens</td>\n",
       "      <td>Kolkata Knight Riders</td>\n",
       "      <td>Deccan Chargers</td>\n",
       "      <td>Deccan Chargers</td>\n",
       "      <td>...</td>\n",
       "      <td>wickets</td>\n",
       "      <td>5.0</td>\n",
       "      <td>111.0</td>\n",
       "      <td>20.0</td>\n",
       "      <td>N</td>\n",
       "      <td>NaN</td>\n",
       "      <td>BF Bowden</td>\n",
       "      <td>K Hariharan</td>\n",
       "      <td>335986</td>\n",
       "      <td>110</td>\n",
       "    </tr>\n",
       "  </tbody>\n",
       "</table>\n",
       "<p>5 rows × 22 columns</p>\n",
       "</div>"
      ],
      "text/plain": [
       "       id   season        city        date match_type player_of_match  \\\n",
       "0  335982  2007/08   Bangalore  2008-04-18     League     BB McCullum   \n",
       "1  335983  2007/08  Chandigarh  2008-04-19     League      MEK Hussey   \n",
       "2  335984  2007/08       Delhi  2008-04-19     League     MF Maharoof   \n",
       "3  335985  2007/08      Mumbai  2008-04-20     League      MV Boucher   \n",
       "4  335986  2007/08     Kolkata  2008-04-20     League       DJ Hussey   \n",
       "\n",
       "                                        venue                        team1  \\\n",
       "0                       M Chinnaswamy Stadium  Royal Challengers Bangalore   \n",
       "1  Punjab Cricket Association Stadium, Mohali              Kings XI Punjab   \n",
       "2                            Feroz Shah Kotla             Delhi Daredevils   \n",
       "3                            Wankhede Stadium               Mumbai Indians   \n",
       "4                                Eden Gardens        Kolkata Knight Riders   \n",
       "\n",
       "                         team2                  toss_winner  ...   result  \\\n",
       "0        Kolkata Knight Riders  Royal Challengers Bangalore  ...     runs   \n",
       "1          Chennai Super Kings          Chennai Super Kings  ...     runs   \n",
       "2             Rajasthan Royals             Rajasthan Royals  ...  wickets   \n",
       "3  Royal Challengers Bangalore               Mumbai Indians  ...  wickets   \n",
       "4              Deccan Chargers              Deccan Chargers  ...  wickets   \n",
       "\n",
       "  result_margin target_runs  target_overs  super_over  method    umpire1  \\\n",
       "0         140.0       223.0          20.0           N     NaN  Asad Rauf   \n",
       "1          33.0       241.0          20.0           N     NaN  MR Benson   \n",
       "2           9.0       130.0          20.0           N     NaN  Aleem Dar   \n",
       "3           5.0       166.0          20.0           N     NaN   SJ Davis   \n",
       "4           5.0       111.0          20.0           N     NaN  BF Bowden   \n",
       "\n",
       "          umpire2 match_id total_runs  \n",
       "0     RE Koertzen   335982        222  \n",
       "1      SL Shastri   335983        240  \n",
       "2  GA Pratapkumar   335984        129  \n",
       "3       DJ Harper   335985        165  \n",
       "4     K Hariharan   335986        110  \n",
       "\n",
       "[5 rows x 22 columns]"
      ]
     },
     "execution_count": 16,
     "metadata": {},
     "output_type": "execute_result"
    }
   ],
   "source": [
    "matches_df.head()"
   ]
  },
  {
   "cell_type": "code",
   "execution_count": 17,
   "id": "e1084167",
   "metadata": {
    "execution": {
     "iopub.execute_input": "2025-04-30T16:49:28.877231Z",
     "iopub.status.busy": "2025-04-30T16:49:28.876479Z",
     "iopub.status.idle": "2025-04-30T16:49:28.881567Z",
     "shell.execute_reply": "2025-04-30T16:49:28.880912Z"
    },
    "papermill": {
     "duration": 0.021224,
     "end_time": "2025-04-30T16:49:28.882598",
     "exception": false,
     "start_time": "2025-04-30T16:49:28.861374",
     "status": "completed"
    },
    "tags": []
   },
   "outputs": [
    {
     "data": {
      "text/plain": [
       "array(['Royal Challengers Bangalore', 'Kings XI Punjab',\n",
       "       'Delhi Daredevils', 'Mumbai Indians', 'Kolkata Knight Riders',\n",
       "       'Rajasthan Royals', 'Deccan Chargers', 'Chennai Super Kings',\n",
       "       'Kochi Tuskers Kerala', 'Pune Warriors', 'Sunrisers Hyderabad',\n",
       "       'Gujarat Lions', 'Rising Pune Supergiants',\n",
       "       'Rising Pune Supergiant', 'Delhi Capitals', 'Punjab Kings',\n",
       "       'Lucknow Super Giants', 'Gujarat Titans',\n",
       "       'Royal Challengers Bengaluru'], dtype=object)"
      ]
     },
     "execution_count": 17,
     "metadata": {},
     "output_type": "execute_result"
    }
   ],
   "source": [
    "matches_df['team1'].unique()"
   ]
  },
  {
   "cell_type": "code",
   "execution_count": 18,
   "id": "a9baa44f",
   "metadata": {
    "execution": {
     "iopub.execute_input": "2025-04-30T16:49:28.913454Z",
     "iopub.status.busy": "2025-04-30T16:49:28.912968Z",
     "iopub.status.idle": "2025-04-30T16:49:28.915969Z",
     "shell.execute_reply": "2025-04-30T16:49:28.915507Z"
    },
    "papermill": {
     "duration": 0.019494,
     "end_time": "2025-04-30T16:49:28.917052",
     "exception": false,
     "start_time": "2025-04-30T16:49:28.897558",
     "status": "completed"
    },
    "tags": []
   },
   "outputs": [],
   "source": [
    "teams = [ 'Mumbai Indians', 'Kolkata Knight Riders',\n",
    "       'Rajasthan Royals', 'Chennai Super Kings',\n",
    "        'Sunrisers Hyderabad',\n",
    "        'Delhi Capitals', 'Punjab Kings',\n",
    "       'Lucknow Super Giants', 'Gujarat Titans',\n",
    "       'Royal Challengers Bengaluru']"
   ]
  },
  {
   "cell_type": "code",
   "execution_count": 19,
   "id": "a331bade",
   "metadata": {
    "execution": {
     "iopub.execute_input": "2025-04-30T16:49:28.948028Z",
     "iopub.status.busy": "2025-04-30T16:49:28.947843Z",
     "iopub.status.idle": "2025-04-30T16:49:28.956198Z",
     "shell.execute_reply": "2025-04-30T16:49:28.955650Z"
    },
    "papermill": {
     "duration": 0.025019,
     "end_time": "2025-04-30T16:49:28.957145",
     "exception": false,
     "start_time": "2025-04-30T16:49:28.932126",
     "status": "completed"
    },
    "tags": []
   },
   "outputs": [],
   "source": [
    "matches_df['team1'] = matches_df['team1'].str.replace('Delhi Daredevils','Delhi Capitals')\n",
    "\n",
    "matches_df[\"team2\"]=matches_df[\"team2\"].str.replace(\"Delhi Daredevils\",\"Delhi Capitals\")\n",
    "matches_df[\"team1\"]=matches_df[\"team1\"].str.replace(\"Deccan Chargers\",\"Sunrisers Hyderabad\")\n",
    "matches_df[\"team2\"]=matches_df[\"team2\"].str.replace(\"Deccan Chargers\",\"Sunrisers Hyderabad\")\n",
    "matches_df[\"team1\"]=matches_df[\"team1\"].str.replace(\"Royal Challengers Bangalore\",\"Royal Challengers Bengaluru\")\n",
    "matches_df[\"team2\"]=matches_df[\"team2\"].str.replace(\"Royal Challengers Bangalore\",\"Royal Challengers Bengaluru\")"
   ]
  },
  {
   "cell_type": "code",
   "execution_count": 20,
   "id": "3d272c56",
   "metadata": {
    "execution": {
     "iopub.execute_input": "2025-04-30T16:49:28.988068Z",
     "iopub.status.busy": "2025-04-30T16:49:28.987672Z",
     "iopub.status.idle": "2025-04-30T16:49:28.995602Z",
     "shell.execute_reply": "2025-04-30T16:49:28.995116Z"
    },
    "papermill": {
     "duration": 0.023936,
     "end_time": "2025-04-30T16:49:28.996523",
     "exception": false,
     "start_time": "2025-04-30T16:49:28.972587",
     "status": "completed"
    },
    "tags": []
   },
   "outputs": [],
   "source": [
    "matches_df = matches_df[matches_df['team1'].isin(teams)]\n",
    "matches_df = matches_df[matches_df['team2'].isin(teams)]"
   ]
  },
  {
   "cell_type": "code",
   "execution_count": 21,
   "id": "dbe3d0dd",
   "metadata": {
    "execution": {
     "iopub.execute_input": "2025-04-30T16:49:29.027167Z",
     "iopub.status.busy": "2025-04-30T16:49:29.026742Z",
     "iopub.status.idle": "2025-04-30T16:49:29.041153Z",
     "shell.execute_reply": "2025-04-30T16:49:29.040473Z"
    },
    "papermill": {
     "duration": 0.030894,
     "end_time": "2025-04-30T16:49:29.042175",
     "exception": false,
     "start_time": "2025-04-30T16:49:29.011281",
     "status": "completed"
    },
    "tags": []
   },
   "outputs": [
    {
     "data": {
      "text/html": [
       "<div>\n",
       "<style scoped>\n",
       "    .dataframe tbody tr th:only-of-type {\n",
       "        vertical-align: middle;\n",
       "    }\n",
       "\n",
       "    .dataframe tbody tr th {\n",
       "        vertical-align: top;\n",
       "    }\n",
       "\n",
       "    .dataframe thead th {\n",
       "        text-align: right;\n",
       "    }\n",
       "</style>\n",
       "<table border=\"1\" class=\"dataframe\">\n",
       "  <thead>\n",
       "    <tr style=\"text-align: right;\">\n",
       "      <th></th>\n",
       "      <th>id</th>\n",
       "      <th>season</th>\n",
       "      <th>city</th>\n",
       "      <th>date</th>\n",
       "      <th>match_type</th>\n",
       "      <th>player_of_match</th>\n",
       "      <th>venue</th>\n",
       "      <th>team1</th>\n",
       "      <th>team2</th>\n",
       "      <th>toss_winner</th>\n",
       "      <th>...</th>\n",
       "      <th>result</th>\n",
       "      <th>result_margin</th>\n",
       "      <th>target_runs</th>\n",
       "      <th>target_overs</th>\n",
       "      <th>super_over</th>\n",
       "      <th>method</th>\n",
       "      <th>umpire1</th>\n",
       "      <th>umpire2</th>\n",
       "      <th>match_id</th>\n",
       "      <th>total_runs</th>\n",
       "    </tr>\n",
       "  </thead>\n",
       "  <tbody>\n",
       "    <tr>\n",
       "      <th>0</th>\n",
       "      <td>335982</td>\n",
       "      <td>2007/08</td>\n",
       "      <td>Bangalore</td>\n",
       "      <td>2008-04-18</td>\n",
       "      <td>League</td>\n",
       "      <td>BB McCullum</td>\n",
       "      <td>M Chinnaswamy Stadium</td>\n",
       "      <td>Royal Challengers Bengaluru</td>\n",
       "      <td>Kolkata Knight Riders</td>\n",
       "      <td>Royal Challengers Bangalore</td>\n",
       "      <td>...</td>\n",
       "      <td>runs</td>\n",
       "      <td>140.0</td>\n",
       "      <td>223.0</td>\n",
       "      <td>20.0</td>\n",
       "      <td>N</td>\n",
       "      <td>NaN</td>\n",
       "      <td>Asad Rauf</td>\n",
       "      <td>RE Koertzen</td>\n",
       "      <td>335982</td>\n",
       "      <td>222</td>\n",
       "    </tr>\n",
       "    <tr>\n",
       "      <th>2</th>\n",
       "      <td>335984</td>\n",
       "      <td>2007/08</td>\n",
       "      <td>Delhi</td>\n",
       "      <td>2008-04-19</td>\n",
       "      <td>League</td>\n",
       "      <td>MF Maharoof</td>\n",
       "      <td>Feroz Shah Kotla</td>\n",
       "      <td>Delhi Capitals</td>\n",
       "      <td>Rajasthan Royals</td>\n",
       "      <td>Rajasthan Royals</td>\n",
       "      <td>...</td>\n",
       "      <td>wickets</td>\n",
       "      <td>9.0</td>\n",
       "      <td>130.0</td>\n",
       "      <td>20.0</td>\n",
       "      <td>N</td>\n",
       "      <td>NaN</td>\n",
       "      <td>Aleem Dar</td>\n",
       "      <td>GA Pratapkumar</td>\n",
       "      <td>335984</td>\n",
       "      <td>129</td>\n",
       "    </tr>\n",
       "    <tr>\n",
       "      <th>3</th>\n",
       "      <td>335985</td>\n",
       "      <td>2007/08</td>\n",
       "      <td>Mumbai</td>\n",
       "      <td>2008-04-20</td>\n",
       "      <td>League</td>\n",
       "      <td>MV Boucher</td>\n",
       "      <td>Wankhede Stadium</td>\n",
       "      <td>Mumbai Indians</td>\n",
       "      <td>Royal Challengers Bengaluru</td>\n",
       "      <td>Mumbai Indians</td>\n",
       "      <td>...</td>\n",
       "      <td>wickets</td>\n",
       "      <td>5.0</td>\n",
       "      <td>166.0</td>\n",
       "      <td>20.0</td>\n",
       "      <td>N</td>\n",
       "      <td>NaN</td>\n",
       "      <td>SJ Davis</td>\n",
       "      <td>DJ Harper</td>\n",
       "      <td>335985</td>\n",
       "      <td>165</td>\n",
       "    </tr>\n",
       "    <tr>\n",
       "      <th>4</th>\n",
       "      <td>335986</td>\n",
       "      <td>2007/08</td>\n",
       "      <td>Kolkata</td>\n",
       "      <td>2008-04-20</td>\n",
       "      <td>League</td>\n",
       "      <td>DJ Hussey</td>\n",
       "      <td>Eden Gardens</td>\n",
       "      <td>Kolkata Knight Riders</td>\n",
       "      <td>Sunrisers Hyderabad</td>\n",
       "      <td>Deccan Chargers</td>\n",
       "      <td>...</td>\n",
       "      <td>wickets</td>\n",
       "      <td>5.0</td>\n",
       "      <td>111.0</td>\n",
       "      <td>20.0</td>\n",
       "      <td>N</td>\n",
       "      <td>NaN</td>\n",
       "      <td>BF Bowden</td>\n",
       "      <td>K Hariharan</td>\n",
       "      <td>335986</td>\n",
       "      <td>110</td>\n",
       "    </tr>\n",
       "    <tr>\n",
       "      <th>6</th>\n",
       "      <td>335988</td>\n",
       "      <td>2007/08</td>\n",
       "      <td>Hyderabad</td>\n",
       "      <td>2008-04-22</td>\n",
       "      <td>League</td>\n",
       "      <td>V Sehwag</td>\n",
       "      <td>Rajiv Gandhi International Stadium, Uppal</td>\n",
       "      <td>Sunrisers Hyderabad</td>\n",
       "      <td>Delhi Capitals</td>\n",
       "      <td>Deccan Chargers</td>\n",
       "      <td>...</td>\n",
       "      <td>wickets</td>\n",
       "      <td>9.0</td>\n",
       "      <td>143.0</td>\n",
       "      <td>20.0</td>\n",
       "      <td>N</td>\n",
       "      <td>NaN</td>\n",
       "      <td>IL Howell</td>\n",
       "      <td>AM Saheba</td>\n",
       "      <td>335988</td>\n",
       "      <td>142</td>\n",
       "    </tr>\n",
       "  </tbody>\n",
       "</table>\n",
       "<p>5 rows × 22 columns</p>\n",
       "</div>"
      ],
      "text/plain": [
       "       id   season       city        date match_type player_of_match  \\\n",
       "0  335982  2007/08  Bangalore  2008-04-18     League     BB McCullum   \n",
       "2  335984  2007/08      Delhi  2008-04-19     League     MF Maharoof   \n",
       "3  335985  2007/08     Mumbai  2008-04-20     League      MV Boucher   \n",
       "4  335986  2007/08    Kolkata  2008-04-20     League       DJ Hussey   \n",
       "6  335988  2007/08  Hyderabad  2008-04-22     League        V Sehwag   \n",
       "\n",
       "                                       venue                        team1  \\\n",
       "0                      M Chinnaswamy Stadium  Royal Challengers Bengaluru   \n",
       "2                           Feroz Shah Kotla               Delhi Capitals   \n",
       "3                           Wankhede Stadium               Mumbai Indians   \n",
       "4                               Eden Gardens        Kolkata Knight Riders   \n",
       "6  Rajiv Gandhi International Stadium, Uppal          Sunrisers Hyderabad   \n",
       "\n",
       "                         team2                  toss_winner  ...   result  \\\n",
       "0        Kolkata Knight Riders  Royal Challengers Bangalore  ...     runs   \n",
       "2             Rajasthan Royals             Rajasthan Royals  ...  wickets   \n",
       "3  Royal Challengers Bengaluru               Mumbai Indians  ...  wickets   \n",
       "4          Sunrisers Hyderabad              Deccan Chargers  ...  wickets   \n",
       "6               Delhi Capitals              Deccan Chargers  ...  wickets   \n",
       "\n",
       "  result_margin target_runs  target_overs  super_over  method    umpire1  \\\n",
       "0         140.0       223.0          20.0           N     NaN  Asad Rauf   \n",
       "2           9.0       130.0          20.0           N     NaN  Aleem Dar   \n",
       "3           5.0       166.0          20.0           N     NaN   SJ Davis   \n",
       "4           5.0       111.0          20.0           N     NaN  BF Bowden   \n",
       "6           9.0       143.0          20.0           N     NaN  IL Howell   \n",
       "\n",
       "          umpire2 match_id total_runs  \n",
       "0     RE Koertzen   335982        222  \n",
       "2  GA Pratapkumar   335984        129  \n",
       "3       DJ Harper   335985        165  \n",
       "4     K Hariharan   335986        110  \n",
       "6       AM Saheba   335988        142  \n",
       "\n",
       "[5 rows x 22 columns]"
      ]
     },
     "execution_count": 21,
     "metadata": {},
     "output_type": "execute_result"
    }
   ],
   "source": [
    "matches_df.head()"
   ]
  },
  {
   "cell_type": "code",
   "execution_count": 22,
   "id": "fe3f1a97",
   "metadata": {
    "execution": {
     "iopub.execute_input": "2025-04-30T16:49:29.074017Z",
     "iopub.status.busy": "2025-04-30T16:49:29.073686Z",
     "iopub.status.idle": "2025-04-30T16:49:29.077643Z",
     "shell.execute_reply": "2025-04-30T16:49:29.076989Z"
    },
    "papermill": {
     "duration": 0.020668,
     "end_time": "2025-04-30T16:49:29.078741",
     "exception": false,
     "start_time": "2025-04-30T16:49:29.058073",
     "status": "completed"
    },
    "tags": []
   },
   "outputs": [
    {
     "data": {
      "text/plain": [
       "(805, 22)"
      ]
     },
     "execution_count": 22,
     "metadata": {},
     "output_type": "execute_result"
    }
   ],
   "source": [
    "matches_df.shape"
   ]
  },
  {
   "cell_type": "code",
   "execution_count": 23,
   "id": "e6dec608",
   "metadata": {
    "execution": {
     "iopub.execute_input": "2025-04-30T16:49:29.109838Z",
     "iopub.status.busy": "2025-04-30T16:49:29.109649Z",
     "iopub.status.idle": "2025-04-30T16:49:29.113854Z",
     "shell.execute_reply": "2025-04-30T16:49:29.113239Z"
    },
    "papermill": {
     "duration": 0.020658,
     "end_time": "2025-04-30T16:49:29.114864",
     "exception": false,
     "start_time": "2025-04-30T16:49:29.094206",
     "status": "completed"
    },
    "tags": []
   },
   "outputs": [
    {
     "data": {
      "text/plain": [
       "Index(['id', 'season', 'city', 'date', 'match_type', 'player_of_match',\n",
       "       'venue', 'team1', 'team2', 'toss_winner', 'toss_decision', 'winner',\n",
       "       'result', 'result_margin', 'target_runs', 'target_overs', 'super_over',\n",
       "       'method', 'umpire1', 'umpire2', 'match_id', 'total_runs'],\n",
       "      dtype='object')"
      ]
     },
     "execution_count": 23,
     "metadata": {},
     "output_type": "execute_result"
    }
   ],
   "source": [
    "matches_df.columns"
   ]
  },
  {
   "cell_type": "code",
   "execution_count": 24,
   "id": "a4a6cc73",
   "metadata": {
    "execution": {
     "iopub.execute_input": "2025-04-30T16:49:29.146159Z",
     "iopub.status.busy": "2025-04-30T16:49:29.145731Z",
     "iopub.status.idle": "2025-04-30T16:49:29.149355Z",
     "shell.execute_reply": "2025-04-30T16:49:29.148797Z"
    },
    "papermill": {
     "duration": 0.020269,
     "end_time": "2025-04-30T16:49:29.150370",
     "exception": false,
     "start_time": "2025-04-30T16:49:29.130101",
     "status": "completed"
    },
    "tags": []
   },
   "outputs": [],
   "source": [
    "matches_df = matches_df[['match_id','city','winner','total_runs']]"
   ]
  },
  {
   "cell_type": "code",
   "execution_count": 25,
   "id": "eb6835d0",
   "metadata": {
    "execution": {
     "iopub.execute_input": "2025-04-30T16:49:29.181835Z",
     "iopub.status.busy": "2025-04-30T16:49:29.181456Z",
     "iopub.status.idle": "2025-04-30T16:49:29.188020Z",
     "shell.execute_reply": "2025-04-30T16:49:29.187472Z"
    },
    "papermill": {
     "duration": 0.023413,
     "end_time": "2025-04-30T16:49:29.189069",
     "exception": false,
     "start_time": "2025-04-30T16:49:29.165656",
     "status": "completed"
    },
    "tags": []
   },
   "outputs": [
    {
     "data": {
      "text/html": [
       "<div>\n",
       "<style scoped>\n",
       "    .dataframe tbody tr th:only-of-type {\n",
       "        vertical-align: middle;\n",
       "    }\n",
       "\n",
       "    .dataframe tbody tr th {\n",
       "        vertical-align: top;\n",
       "    }\n",
       "\n",
       "    .dataframe thead th {\n",
       "        text-align: right;\n",
       "    }\n",
       "</style>\n",
       "<table border=\"1\" class=\"dataframe\">\n",
       "  <thead>\n",
       "    <tr style=\"text-align: right;\">\n",
       "      <th></th>\n",
       "      <th>match_id</th>\n",
       "      <th>city</th>\n",
       "      <th>winner</th>\n",
       "      <th>total_runs</th>\n",
       "    </tr>\n",
       "  </thead>\n",
       "  <tbody>\n",
       "    <tr>\n",
       "      <th>0</th>\n",
       "      <td>335982</td>\n",
       "      <td>Bangalore</td>\n",
       "      <td>Kolkata Knight Riders</td>\n",
       "      <td>222</td>\n",
       "    </tr>\n",
       "    <tr>\n",
       "      <th>2</th>\n",
       "      <td>335984</td>\n",
       "      <td>Delhi</td>\n",
       "      <td>Delhi Daredevils</td>\n",
       "      <td>129</td>\n",
       "    </tr>\n",
       "    <tr>\n",
       "      <th>3</th>\n",
       "      <td>335985</td>\n",
       "      <td>Mumbai</td>\n",
       "      <td>Royal Challengers Bangalore</td>\n",
       "      <td>165</td>\n",
       "    </tr>\n",
       "    <tr>\n",
       "      <th>4</th>\n",
       "      <td>335986</td>\n",
       "      <td>Kolkata</td>\n",
       "      <td>Kolkata Knight Riders</td>\n",
       "      <td>110</td>\n",
       "    </tr>\n",
       "    <tr>\n",
       "      <th>6</th>\n",
       "      <td>335988</td>\n",
       "      <td>Hyderabad</td>\n",
       "      <td>Delhi Daredevils</td>\n",
       "      <td>142</td>\n",
       "    </tr>\n",
       "  </tbody>\n",
       "</table>\n",
       "</div>"
      ],
      "text/plain": [
       "   match_id       city                       winner  total_runs\n",
       "0    335982  Bangalore        Kolkata Knight Riders         222\n",
       "2    335984      Delhi             Delhi Daredevils         129\n",
       "3    335985     Mumbai  Royal Challengers Bangalore         165\n",
       "4    335986    Kolkata        Kolkata Knight Riders         110\n",
       "6    335988  Hyderabad             Delhi Daredevils         142"
      ]
     },
     "execution_count": 25,
     "metadata": {},
     "output_type": "execute_result"
    }
   ],
   "source": [
    "matches_df.head()"
   ]
  },
  {
   "cell_type": "code",
   "execution_count": 26,
   "id": "bbcb96b9",
   "metadata": {
    "execution": {
     "iopub.execute_input": "2025-04-30T16:49:29.222215Z",
     "iopub.status.busy": "2025-04-30T16:49:29.221989Z",
     "iopub.status.idle": "2025-04-30T16:49:29.444937Z",
     "shell.execute_reply": "2025-04-30T16:49:29.444333Z"
    },
    "papermill": {
     "duration": 0.240142,
     "end_time": "2025-04-30T16:49:29.446218",
     "exception": false,
     "start_time": "2025-04-30T16:49:29.206076",
     "status": "completed"
    },
    "tags": []
   },
   "outputs": [],
   "source": [
    "deliveries_df = matches_df.merge(deliveries,on='match_id')"
   ]
  },
  {
   "cell_type": "code",
   "execution_count": 27,
   "id": "0fffccd4",
   "metadata": {
    "execution": {
     "iopub.execute_input": "2025-04-30T16:49:29.479288Z",
     "iopub.status.busy": "2025-04-30T16:49:29.478971Z",
     "iopub.status.idle": "2025-04-30T16:49:29.493335Z",
     "shell.execute_reply": "2025-04-30T16:49:29.492689Z"
    },
    "papermill": {
     "duration": 0.032183,
     "end_time": "2025-04-30T16:49:29.494593",
     "exception": false,
     "start_time": "2025-04-30T16:49:29.462410",
     "status": "completed"
    },
    "tags": []
   },
   "outputs": [
    {
     "data": {
      "text/html": [
       "<div>\n",
       "<style scoped>\n",
       "    .dataframe tbody tr th:only-of-type {\n",
       "        vertical-align: middle;\n",
       "    }\n",
       "\n",
       "    .dataframe tbody tr th {\n",
       "        vertical-align: top;\n",
       "    }\n",
       "\n",
       "    .dataframe thead th {\n",
       "        text-align: right;\n",
       "    }\n",
       "</style>\n",
       "<table border=\"1\" class=\"dataframe\">\n",
       "  <thead>\n",
       "    <tr style=\"text-align: right;\">\n",
       "      <th></th>\n",
       "      <th>match_id</th>\n",
       "      <th>city</th>\n",
       "      <th>winner</th>\n",
       "      <th>total_runs_x</th>\n",
       "      <th>inning</th>\n",
       "      <th>batting_team</th>\n",
       "      <th>bowling_team</th>\n",
       "      <th>over</th>\n",
       "      <th>ball</th>\n",
       "      <th>batter</th>\n",
       "      <th>...</th>\n",
       "      <th>fielder</th>\n",
       "      <th>ball_number</th>\n",
       "      <th>is_dot_ball</th>\n",
       "      <th>is_boundary</th>\n",
       "      <th>is_six</th>\n",
       "      <th>is_four</th>\n",
       "      <th>over_ball</th>\n",
       "      <th>season</th>\n",
       "      <th>date</th>\n",
       "      <th>venue</th>\n",
       "    </tr>\n",
       "  </thead>\n",
       "  <tbody>\n",
       "    <tr>\n",
       "      <th>0</th>\n",
       "      <td>335982</td>\n",
       "      <td>Bangalore</td>\n",
       "      <td>Kolkata Knight Riders</td>\n",
       "      <td>222</td>\n",
       "      <td>1</td>\n",
       "      <td>Kolkata Knight Riders</td>\n",
       "      <td>Royal Challengers Bangalore</td>\n",
       "      <td>0</td>\n",
       "      <td>1</td>\n",
       "      <td>SC Ganguly</td>\n",
       "      <td>...</td>\n",
       "      <td>NaN</td>\n",
       "      <td>1</td>\n",
       "      <td>0</td>\n",
       "      <td>0</td>\n",
       "      <td>0</td>\n",
       "      <td>0</td>\n",
       "      <td>0.1</td>\n",
       "      <td>2007/08</td>\n",
       "      <td>2008-04-18</td>\n",
       "      <td>M Chinnaswamy Stadium</td>\n",
       "    </tr>\n",
       "    <tr>\n",
       "      <th>1</th>\n",
       "      <td>335982</td>\n",
       "      <td>Bangalore</td>\n",
       "      <td>Kolkata Knight Riders</td>\n",
       "      <td>222</td>\n",
       "      <td>1</td>\n",
       "      <td>Kolkata Knight Riders</td>\n",
       "      <td>Royal Challengers Bangalore</td>\n",
       "      <td>0</td>\n",
       "      <td>2</td>\n",
       "      <td>BB McCullum</td>\n",
       "      <td>...</td>\n",
       "      <td>NaN</td>\n",
       "      <td>2</td>\n",
       "      <td>1</td>\n",
       "      <td>0</td>\n",
       "      <td>0</td>\n",
       "      <td>0</td>\n",
       "      <td>0.2</td>\n",
       "      <td>2007/08</td>\n",
       "      <td>2008-04-18</td>\n",
       "      <td>M Chinnaswamy Stadium</td>\n",
       "    </tr>\n",
       "    <tr>\n",
       "      <th>2</th>\n",
       "      <td>335982</td>\n",
       "      <td>Bangalore</td>\n",
       "      <td>Kolkata Knight Riders</td>\n",
       "      <td>222</td>\n",
       "      <td>1</td>\n",
       "      <td>Kolkata Knight Riders</td>\n",
       "      <td>Royal Challengers Bangalore</td>\n",
       "      <td>0</td>\n",
       "      <td>3</td>\n",
       "      <td>BB McCullum</td>\n",
       "      <td>...</td>\n",
       "      <td>NaN</td>\n",
       "      <td>3</td>\n",
       "      <td>0</td>\n",
       "      <td>0</td>\n",
       "      <td>0</td>\n",
       "      <td>0</td>\n",
       "      <td>0.3</td>\n",
       "      <td>2007/08</td>\n",
       "      <td>2008-04-18</td>\n",
       "      <td>M Chinnaswamy Stadium</td>\n",
       "    </tr>\n",
       "    <tr>\n",
       "      <th>3</th>\n",
       "      <td>335982</td>\n",
       "      <td>Bangalore</td>\n",
       "      <td>Kolkata Knight Riders</td>\n",
       "      <td>222</td>\n",
       "      <td>1</td>\n",
       "      <td>Kolkata Knight Riders</td>\n",
       "      <td>Royal Challengers Bangalore</td>\n",
       "      <td>0</td>\n",
       "      <td>4</td>\n",
       "      <td>BB McCullum</td>\n",
       "      <td>...</td>\n",
       "      <td>NaN</td>\n",
       "      <td>4</td>\n",
       "      <td>1</td>\n",
       "      <td>0</td>\n",
       "      <td>0</td>\n",
       "      <td>0</td>\n",
       "      <td>0.4</td>\n",
       "      <td>2007/08</td>\n",
       "      <td>2008-04-18</td>\n",
       "      <td>M Chinnaswamy Stadium</td>\n",
       "    </tr>\n",
       "    <tr>\n",
       "      <th>4</th>\n",
       "      <td>335982</td>\n",
       "      <td>Bangalore</td>\n",
       "      <td>Kolkata Knight Riders</td>\n",
       "      <td>222</td>\n",
       "      <td>1</td>\n",
       "      <td>Kolkata Knight Riders</td>\n",
       "      <td>Royal Challengers Bangalore</td>\n",
       "      <td>0</td>\n",
       "      <td>5</td>\n",
       "      <td>BB McCullum</td>\n",
       "      <td>...</td>\n",
       "      <td>NaN</td>\n",
       "      <td>5</td>\n",
       "      <td>1</td>\n",
       "      <td>0</td>\n",
       "      <td>0</td>\n",
       "      <td>0</td>\n",
       "      <td>0.5</td>\n",
       "      <td>2007/08</td>\n",
       "      <td>2008-04-18</td>\n",
       "      <td>M Chinnaswamy Stadium</td>\n",
       "    </tr>\n",
       "  </tbody>\n",
       "</table>\n",
       "<p>5 rows × 29 columns</p>\n",
       "</div>"
      ],
      "text/plain": [
       "   match_id       city                 winner  total_runs_x  inning  \\\n",
       "0    335982  Bangalore  Kolkata Knight Riders           222       1   \n",
       "1    335982  Bangalore  Kolkata Knight Riders           222       1   \n",
       "2    335982  Bangalore  Kolkata Knight Riders           222       1   \n",
       "3    335982  Bangalore  Kolkata Knight Riders           222       1   \n",
       "4    335982  Bangalore  Kolkata Knight Riders           222       1   \n",
       "\n",
       "            batting_team                 bowling_team  over  ball  \\\n",
       "0  Kolkata Knight Riders  Royal Challengers Bangalore     0     1   \n",
       "1  Kolkata Knight Riders  Royal Challengers Bangalore     0     2   \n",
       "2  Kolkata Knight Riders  Royal Challengers Bangalore     0     3   \n",
       "3  Kolkata Knight Riders  Royal Challengers Bangalore     0     4   \n",
       "4  Kolkata Knight Riders  Royal Challengers Bangalore     0     5   \n",
       "\n",
       "        batter  ... fielder ball_number  is_dot_ball  is_boundary  is_six  \\\n",
       "0   SC Ganguly  ...     NaN           1            0            0       0   \n",
       "1  BB McCullum  ...     NaN           2            1            0       0   \n",
       "2  BB McCullum  ...     NaN           3            0            0       0   \n",
       "3  BB McCullum  ...     NaN           4            1            0       0   \n",
       "4  BB McCullum  ...     NaN           5            1            0       0   \n",
       "\n",
       "  is_four  over_ball   season        date                  venue  \n",
       "0       0        0.1  2007/08  2008-04-18  M Chinnaswamy Stadium  \n",
       "1       0        0.2  2007/08  2008-04-18  M Chinnaswamy Stadium  \n",
       "2       0        0.3  2007/08  2008-04-18  M Chinnaswamy Stadium  \n",
       "3       0        0.4  2007/08  2008-04-18  M Chinnaswamy Stadium  \n",
       "4       0        0.5  2007/08  2008-04-18  M Chinnaswamy Stadium  \n",
       "\n",
       "[5 rows x 29 columns]"
      ]
     },
     "execution_count": 27,
     "metadata": {},
     "output_type": "execute_result"
    }
   ],
   "source": [
    "deliveries_df.head()"
   ]
  },
  {
   "cell_type": "code",
   "execution_count": 28,
   "id": "22095f70",
   "metadata": {
    "execution": {
     "iopub.execute_input": "2025-04-30T16:49:29.529739Z",
     "iopub.status.busy": "2025-04-30T16:49:29.529085Z",
     "iopub.status.idle": "2025-04-30T16:49:29.545566Z",
     "shell.execute_reply": "2025-04-30T16:49:29.545076Z"
    },
    "papermill": {
     "duration": 0.034281,
     "end_time": "2025-04-30T16:49:29.546656",
     "exception": false,
     "start_time": "2025-04-30T16:49:29.512375",
     "status": "completed"
    },
    "tags": []
   },
   "outputs": [],
   "source": [
    "deliveries_df = deliveries_df[deliveries_df['inning']==2]"
   ]
  },
  {
   "cell_type": "code",
   "execution_count": 29,
   "id": "bae540dd",
   "metadata": {
    "execution": {
     "iopub.execute_input": "2025-04-30T16:49:29.579666Z",
     "iopub.status.busy": "2025-04-30T16:49:29.579251Z",
     "iopub.status.idle": "2025-04-30T16:49:29.592804Z",
     "shell.execute_reply": "2025-04-30T16:49:29.592165Z"
    },
    "papermill": {
     "duration": 0.030912,
     "end_time": "2025-04-30T16:49:29.593813",
     "exception": false,
     "start_time": "2025-04-30T16:49:29.562901",
     "status": "completed"
    },
    "tags": []
   },
   "outputs": [
    {
     "data": {
      "text/html": [
       "<div>\n",
       "<style scoped>\n",
       "    .dataframe tbody tr th:only-of-type {\n",
       "        vertical-align: middle;\n",
       "    }\n",
       "\n",
       "    .dataframe tbody tr th {\n",
       "        vertical-align: top;\n",
       "    }\n",
       "\n",
       "    .dataframe thead th {\n",
       "        text-align: right;\n",
       "    }\n",
       "</style>\n",
       "<table border=\"1\" class=\"dataframe\">\n",
       "  <thead>\n",
       "    <tr style=\"text-align: right;\">\n",
       "      <th></th>\n",
       "      <th>match_id</th>\n",
       "      <th>city</th>\n",
       "      <th>winner</th>\n",
       "      <th>total_runs_x</th>\n",
       "      <th>inning</th>\n",
       "      <th>batting_team</th>\n",
       "      <th>bowling_team</th>\n",
       "      <th>over</th>\n",
       "      <th>ball</th>\n",
       "      <th>batter</th>\n",
       "      <th>...</th>\n",
       "      <th>fielder</th>\n",
       "      <th>ball_number</th>\n",
       "      <th>is_dot_ball</th>\n",
       "      <th>is_boundary</th>\n",
       "      <th>is_six</th>\n",
       "      <th>is_four</th>\n",
       "      <th>over_ball</th>\n",
       "      <th>season</th>\n",
       "      <th>date</th>\n",
       "      <th>venue</th>\n",
       "    </tr>\n",
       "  </thead>\n",
       "  <tbody>\n",
       "    <tr>\n",
       "      <th>124</th>\n",
       "      <td>335982</td>\n",
       "      <td>Bangalore</td>\n",
       "      <td>Kolkata Knight Riders</td>\n",
       "      <td>222</td>\n",
       "      <td>2</td>\n",
       "      <td>Royal Challengers Bangalore</td>\n",
       "      <td>Kolkata Knight Riders</td>\n",
       "      <td>0</td>\n",
       "      <td>1</td>\n",
       "      <td>R Dravid</td>\n",
       "      <td>...</td>\n",
       "      <td>NaN</td>\n",
       "      <td>1</td>\n",
       "      <td>0</td>\n",
       "      <td>0</td>\n",
       "      <td>0</td>\n",
       "      <td>0</td>\n",
       "      <td>0.1</td>\n",
       "      <td>2007/08</td>\n",
       "      <td>2008-04-18</td>\n",
       "      <td>M Chinnaswamy Stadium</td>\n",
       "    </tr>\n",
       "    <tr>\n",
       "      <th>125</th>\n",
       "      <td>335982</td>\n",
       "      <td>Bangalore</td>\n",
       "      <td>Kolkata Knight Riders</td>\n",
       "      <td>222</td>\n",
       "      <td>2</td>\n",
       "      <td>Royal Challengers Bangalore</td>\n",
       "      <td>Kolkata Knight Riders</td>\n",
       "      <td>0</td>\n",
       "      <td>2</td>\n",
       "      <td>W Jaffer</td>\n",
       "      <td>...</td>\n",
       "      <td>NaN</td>\n",
       "      <td>2</td>\n",
       "      <td>0</td>\n",
       "      <td>0</td>\n",
       "      <td>0</td>\n",
       "      <td>0</td>\n",
       "      <td>0.2</td>\n",
       "      <td>2007/08</td>\n",
       "      <td>2008-04-18</td>\n",
       "      <td>M Chinnaswamy Stadium</td>\n",
       "    </tr>\n",
       "    <tr>\n",
       "      <th>126</th>\n",
       "      <td>335982</td>\n",
       "      <td>Bangalore</td>\n",
       "      <td>Kolkata Knight Riders</td>\n",
       "      <td>222</td>\n",
       "      <td>2</td>\n",
       "      <td>Royal Challengers Bangalore</td>\n",
       "      <td>Kolkata Knight Riders</td>\n",
       "      <td>0</td>\n",
       "      <td>3</td>\n",
       "      <td>W Jaffer</td>\n",
       "      <td>...</td>\n",
       "      <td>NaN</td>\n",
       "      <td>3</td>\n",
       "      <td>1</td>\n",
       "      <td>0</td>\n",
       "      <td>0</td>\n",
       "      <td>0</td>\n",
       "      <td>0.3</td>\n",
       "      <td>2007/08</td>\n",
       "      <td>2008-04-18</td>\n",
       "      <td>M Chinnaswamy Stadium</td>\n",
       "    </tr>\n",
       "    <tr>\n",
       "      <th>127</th>\n",
       "      <td>335982</td>\n",
       "      <td>Bangalore</td>\n",
       "      <td>Kolkata Knight Riders</td>\n",
       "      <td>222</td>\n",
       "      <td>2</td>\n",
       "      <td>Royal Challengers Bangalore</td>\n",
       "      <td>Kolkata Knight Riders</td>\n",
       "      <td>0</td>\n",
       "      <td>4</td>\n",
       "      <td>W Jaffer</td>\n",
       "      <td>...</td>\n",
       "      <td>NaN</td>\n",
       "      <td>4</td>\n",
       "      <td>0</td>\n",
       "      <td>0</td>\n",
       "      <td>0</td>\n",
       "      <td>0</td>\n",
       "      <td>0.4</td>\n",
       "      <td>2007/08</td>\n",
       "      <td>2008-04-18</td>\n",
       "      <td>M Chinnaswamy Stadium</td>\n",
       "    </tr>\n",
       "    <tr>\n",
       "      <th>128</th>\n",
       "      <td>335982</td>\n",
       "      <td>Bangalore</td>\n",
       "      <td>Kolkata Knight Riders</td>\n",
       "      <td>222</td>\n",
       "      <td>2</td>\n",
       "      <td>Royal Challengers Bangalore</td>\n",
       "      <td>Kolkata Knight Riders</td>\n",
       "      <td>0</td>\n",
       "      <td>5</td>\n",
       "      <td>R Dravid</td>\n",
       "      <td>...</td>\n",
       "      <td>NaN</td>\n",
       "      <td>5</td>\n",
       "      <td>0</td>\n",
       "      <td>0</td>\n",
       "      <td>0</td>\n",
       "      <td>0</td>\n",
       "      <td>0.5</td>\n",
       "      <td>2007/08</td>\n",
       "      <td>2008-04-18</td>\n",
       "      <td>M Chinnaswamy Stadium</td>\n",
       "    </tr>\n",
       "  </tbody>\n",
       "</table>\n",
       "<p>5 rows × 29 columns</p>\n",
       "</div>"
      ],
      "text/plain": [
       "     match_id       city                 winner  total_runs_x  inning  \\\n",
       "124    335982  Bangalore  Kolkata Knight Riders           222       2   \n",
       "125    335982  Bangalore  Kolkata Knight Riders           222       2   \n",
       "126    335982  Bangalore  Kolkata Knight Riders           222       2   \n",
       "127    335982  Bangalore  Kolkata Knight Riders           222       2   \n",
       "128    335982  Bangalore  Kolkata Knight Riders           222       2   \n",
       "\n",
       "                    batting_team           bowling_team  over  ball    batter  \\\n",
       "124  Royal Challengers Bangalore  Kolkata Knight Riders     0     1  R Dravid   \n",
       "125  Royal Challengers Bangalore  Kolkata Knight Riders     0     2  W Jaffer   \n",
       "126  Royal Challengers Bangalore  Kolkata Knight Riders     0     3  W Jaffer   \n",
       "127  Royal Challengers Bangalore  Kolkata Knight Riders     0     4  W Jaffer   \n",
       "128  Royal Challengers Bangalore  Kolkata Knight Riders     0     5  R Dravid   \n",
       "\n",
       "     ... fielder ball_number  is_dot_ball  is_boundary  is_six is_four  \\\n",
       "124  ...     NaN           1            0            0       0       0   \n",
       "125  ...     NaN           2            0            0       0       0   \n",
       "126  ...     NaN           3            1            0       0       0   \n",
       "127  ...     NaN           4            0            0       0       0   \n",
       "128  ...     NaN           5            0            0       0       0   \n",
       "\n",
       "     over_ball   season        date                  venue  \n",
       "124        0.1  2007/08  2008-04-18  M Chinnaswamy Stadium  \n",
       "125        0.2  2007/08  2008-04-18  M Chinnaswamy Stadium  \n",
       "126        0.3  2007/08  2008-04-18  M Chinnaswamy Stadium  \n",
       "127        0.4  2007/08  2008-04-18  M Chinnaswamy Stadium  \n",
       "128        0.5  2007/08  2008-04-18  M Chinnaswamy Stadium  \n",
       "\n",
       "[5 rows x 29 columns]"
      ]
     },
     "execution_count": 29,
     "metadata": {},
     "output_type": "execute_result"
    }
   ],
   "source": [
    "deliveries_df.head()"
   ]
  },
  {
   "cell_type": "code",
   "execution_count": 30,
   "id": "9863c749",
   "metadata": {
    "execution": {
     "iopub.execute_input": "2025-04-30T16:49:29.626495Z",
     "iopub.status.busy": "2025-04-30T16:49:29.626303Z",
     "iopub.status.idle": "2025-04-30T16:49:29.630014Z",
     "shell.execute_reply": "2025-04-30T16:49:29.629531Z"
    },
    "papermill": {
     "duration": 0.021148,
     "end_time": "2025-04-30T16:49:29.631062",
     "exception": false,
     "start_time": "2025-04-30T16:49:29.609914",
     "status": "completed"
    },
    "tags": []
   },
   "outputs": [],
   "source": [
    "deliveries_df['total_runs_y'] = deliveries_df['total_runs_y'].astype(int)"
   ]
  },
  {
   "cell_type": "code",
   "execution_count": 31,
   "id": "65719820",
   "metadata": {
    "execution": {
     "iopub.execute_input": "2025-04-30T16:49:29.663732Z",
     "iopub.status.busy": "2025-04-30T16:49:29.663234Z",
     "iopub.status.idle": "2025-04-30T16:49:29.673039Z",
     "shell.execute_reply": "2025-04-30T16:49:29.672559Z"
    },
    "papermill": {
     "duration": 0.02693,
     "end_time": "2025-04-30T16:49:29.673997",
     "exception": false,
     "start_time": "2025-04-30T16:49:29.647067",
     "status": "completed"
    },
    "tags": []
   },
   "outputs": [],
   "source": [
    "deliveries_df['current_run'] = deliveries_df.groupby(['match_id'])['total_runs_y'].cumsum()"
   ]
  },
  {
   "cell_type": "code",
   "execution_count": 32,
   "id": "6e9ba308",
   "metadata": {
    "execution": {
     "iopub.execute_input": "2025-04-30T16:49:29.706316Z",
     "iopub.status.busy": "2025-04-30T16:49:29.705901Z",
     "iopub.status.idle": "2025-04-30T16:49:29.718776Z",
     "shell.execute_reply": "2025-04-30T16:49:29.718173Z"
    },
    "papermill": {
     "duration": 0.029947,
     "end_time": "2025-04-30T16:49:29.719816",
     "exception": false,
     "start_time": "2025-04-30T16:49:29.689869",
     "status": "completed"
    },
    "tags": []
   },
   "outputs": [
    {
     "data": {
      "text/html": [
       "<div>\n",
       "<style scoped>\n",
       "    .dataframe tbody tr th:only-of-type {\n",
       "        vertical-align: middle;\n",
       "    }\n",
       "\n",
       "    .dataframe tbody tr th {\n",
       "        vertical-align: top;\n",
       "    }\n",
       "\n",
       "    .dataframe thead th {\n",
       "        text-align: right;\n",
       "    }\n",
       "</style>\n",
       "<table border=\"1\" class=\"dataframe\">\n",
       "  <thead>\n",
       "    <tr style=\"text-align: right;\">\n",
       "      <th></th>\n",
       "      <th>match_id</th>\n",
       "      <th>city</th>\n",
       "      <th>winner</th>\n",
       "      <th>total_runs_x</th>\n",
       "      <th>inning</th>\n",
       "      <th>batting_team</th>\n",
       "      <th>bowling_team</th>\n",
       "      <th>over</th>\n",
       "      <th>ball</th>\n",
       "      <th>batter</th>\n",
       "      <th>...</th>\n",
       "      <th>ball_number</th>\n",
       "      <th>is_dot_ball</th>\n",
       "      <th>is_boundary</th>\n",
       "      <th>is_six</th>\n",
       "      <th>is_four</th>\n",
       "      <th>over_ball</th>\n",
       "      <th>season</th>\n",
       "      <th>date</th>\n",
       "      <th>venue</th>\n",
       "      <th>current_run</th>\n",
       "    </tr>\n",
       "  </thead>\n",
       "  <tbody>\n",
       "    <tr>\n",
       "      <th>124</th>\n",
       "      <td>335982</td>\n",
       "      <td>Bangalore</td>\n",
       "      <td>Kolkata Knight Riders</td>\n",
       "      <td>222</td>\n",
       "      <td>2</td>\n",
       "      <td>Royal Challengers Bangalore</td>\n",
       "      <td>Kolkata Knight Riders</td>\n",
       "      <td>0</td>\n",
       "      <td>1</td>\n",
       "      <td>R Dravid</td>\n",
       "      <td>...</td>\n",
       "      <td>1</td>\n",
       "      <td>0</td>\n",
       "      <td>0</td>\n",
       "      <td>0</td>\n",
       "      <td>0</td>\n",
       "      <td>0.1</td>\n",
       "      <td>2007/08</td>\n",
       "      <td>2008-04-18</td>\n",
       "      <td>M Chinnaswamy Stadium</td>\n",
       "      <td>1</td>\n",
       "    </tr>\n",
       "    <tr>\n",
       "      <th>125</th>\n",
       "      <td>335982</td>\n",
       "      <td>Bangalore</td>\n",
       "      <td>Kolkata Knight Riders</td>\n",
       "      <td>222</td>\n",
       "      <td>2</td>\n",
       "      <td>Royal Challengers Bangalore</td>\n",
       "      <td>Kolkata Knight Riders</td>\n",
       "      <td>0</td>\n",
       "      <td>2</td>\n",
       "      <td>W Jaffer</td>\n",
       "      <td>...</td>\n",
       "      <td>2</td>\n",
       "      <td>0</td>\n",
       "      <td>0</td>\n",
       "      <td>0</td>\n",
       "      <td>0</td>\n",
       "      <td>0.2</td>\n",
       "      <td>2007/08</td>\n",
       "      <td>2008-04-18</td>\n",
       "      <td>M Chinnaswamy Stadium</td>\n",
       "      <td>2</td>\n",
       "    </tr>\n",
       "    <tr>\n",
       "      <th>126</th>\n",
       "      <td>335982</td>\n",
       "      <td>Bangalore</td>\n",
       "      <td>Kolkata Knight Riders</td>\n",
       "      <td>222</td>\n",
       "      <td>2</td>\n",
       "      <td>Royal Challengers Bangalore</td>\n",
       "      <td>Kolkata Knight Riders</td>\n",
       "      <td>0</td>\n",
       "      <td>3</td>\n",
       "      <td>W Jaffer</td>\n",
       "      <td>...</td>\n",
       "      <td>3</td>\n",
       "      <td>1</td>\n",
       "      <td>0</td>\n",
       "      <td>0</td>\n",
       "      <td>0</td>\n",
       "      <td>0.3</td>\n",
       "      <td>2007/08</td>\n",
       "      <td>2008-04-18</td>\n",
       "      <td>M Chinnaswamy Stadium</td>\n",
       "      <td>2</td>\n",
       "    </tr>\n",
       "    <tr>\n",
       "      <th>127</th>\n",
       "      <td>335982</td>\n",
       "      <td>Bangalore</td>\n",
       "      <td>Kolkata Knight Riders</td>\n",
       "      <td>222</td>\n",
       "      <td>2</td>\n",
       "      <td>Royal Challengers Bangalore</td>\n",
       "      <td>Kolkata Knight Riders</td>\n",
       "      <td>0</td>\n",
       "      <td>4</td>\n",
       "      <td>W Jaffer</td>\n",
       "      <td>...</td>\n",
       "      <td>4</td>\n",
       "      <td>0</td>\n",
       "      <td>0</td>\n",
       "      <td>0</td>\n",
       "      <td>0</td>\n",
       "      <td>0.4</td>\n",
       "      <td>2007/08</td>\n",
       "      <td>2008-04-18</td>\n",
       "      <td>M Chinnaswamy Stadium</td>\n",
       "      <td>3</td>\n",
       "    </tr>\n",
       "    <tr>\n",
       "      <th>128</th>\n",
       "      <td>335982</td>\n",
       "      <td>Bangalore</td>\n",
       "      <td>Kolkata Knight Riders</td>\n",
       "      <td>222</td>\n",
       "      <td>2</td>\n",
       "      <td>Royal Challengers Bangalore</td>\n",
       "      <td>Kolkata Knight Riders</td>\n",
       "      <td>0</td>\n",
       "      <td>5</td>\n",
       "      <td>R Dravid</td>\n",
       "      <td>...</td>\n",
       "      <td>5</td>\n",
       "      <td>0</td>\n",
       "      <td>0</td>\n",
       "      <td>0</td>\n",
       "      <td>0</td>\n",
       "      <td>0.5</td>\n",
       "      <td>2007/08</td>\n",
       "      <td>2008-04-18</td>\n",
       "      <td>M Chinnaswamy Stadium</td>\n",
       "      <td>4</td>\n",
       "    </tr>\n",
       "  </tbody>\n",
       "</table>\n",
       "<p>5 rows × 30 columns</p>\n",
       "</div>"
      ],
      "text/plain": [
       "     match_id       city                 winner  total_runs_x  inning  \\\n",
       "124    335982  Bangalore  Kolkata Knight Riders           222       2   \n",
       "125    335982  Bangalore  Kolkata Knight Riders           222       2   \n",
       "126    335982  Bangalore  Kolkata Knight Riders           222       2   \n",
       "127    335982  Bangalore  Kolkata Knight Riders           222       2   \n",
       "128    335982  Bangalore  Kolkata Knight Riders           222       2   \n",
       "\n",
       "                    batting_team           bowling_team  over  ball    batter  \\\n",
       "124  Royal Challengers Bangalore  Kolkata Knight Riders     0     1  R Dravid   \n",
       "125  Royal Challengers Bangalore  Kolkata Knight Riders     0     2  W Jaffer   \n",
       "126  Royal Challengers Bangalore  Kolkata Knight Riders     0     3  W Jaffer   \n",
       "127  Royal Challengers Bangalore  Kolkata Knight Riders     0     4  W Jaffer   \n",
       "128  Royal Challengers Bangalore  Kolkata Knight Riders     0     5  R Dravid   \n",
       "\n",
       "     ... ball_number is_dot_ball  is_boundary  is_six  is_four over_ball  \\\n",
       "124  ...           1           0            0       0        0       0.1   \n",
       "125  ...           2           0            0       0        0       0.2   \n",
       "126  ...           3           1            0       0        0       0.3   \n",
       "127  ...           4           0            0       0        0       0.4   \n",
       "128  ...           5           0            0       0        0       0.5   \n",
       "\n",
       "      season        date                  venue current_run  \n",
       "124  2007/08  2008-04-18  M Chinnaswamy Stadium           1  \n",
       "125  2007/08  2008-04-18  M Chinnaswamy Stadium           2  \n",
       "126  2007/08  2008-04-18  M Chinnaswamy Stadium           2  \n",
       "127  2007/08  2008-04-18  M Chinnaswamy Stadium           3  \n",
       "128  2007/08  2008-04-18  M Chinnaswamy Stadium           4  \n",
       "\n",
       "[5 rows x 30 columns]"
      ]
     },
     "execution_count": 32,
     "metadata": {},
     "output_type": "execute_result"
    }
   ],
   "source": [
    "deliveries_df.head()"
   ]
  },
  {
   "cell_type": "code",
   "execution_count": 33,
   "id": "729fef31",
   "metadata": {
    "execution": {
     "iopub.execute_input": "2025-04-30T16:49:29.753304Z",
     "iopub.status.busy": "2025-04-30T16:49:29.752761Z",
     "iopub.status.idle": "2025-04-30T16:49:29.756398Z",
     "shell.execute_reply": "2025-04-30T16:49:29.755862Z"
    },
    "papermill": {
     "duration": 0.021219,
     "end_time": "2025-04-30T16:49:29.757530",
     "exception": false,
     "start_time": "2025-04-30T16:49:29.736311",
     "status": "completed"
    },
    "tags": []
   },
   "outputs": [],
   "source": [
    "deliveries_df['runs_left'] = deliveries_df['total_runs_x'] - deliveries_df['current_run']"
   ]
  },
  {
   "cell_type": "code",
   "execution_count": 34,
   "id": "0aa4a700",
   "metadata": {
    "execution": {
     "iopub.execute_input": "2025-04-30T16:49:29.790830Z",
     "iopub.status.busy": "2025-04-30T16:49:29.790448Z",
     "iopub.status.idle": "2025-04-30T16:49:29.804845Z",
     "shell.execute_reply": "2025-04-30T16:49:29.804156Z"
    },
    "papermill": {
     "duration": 0.032095,
     "end_time": "2025-04-30T16:49:29.806001",
     "exception": false,
     "start_time": "2025-04-30T16:49:29.773906",
     "status": "completed"
    },
    "tags": []
   },
   "outputs": [
    {
     "data": {
      "text/html": [
       "<div>\n",
       "<style scoped>\n",
       "    .dataframe tbody tr th:only-of-type {\n",
       "        vertical-align: middle;\n",
       "    }\n",
       "\n",
       "    .dataframe tbody tr th {\n",
       "        vertical-align: top;\n",
       "    }\n",
       "\n",
       "    .dataframe thead th {\n",
       "        text-align: right;\n",
       "    }\n",
       "</style>\n",
       "<table border=\"1\" class=\"dataframe\">\n",
       "  <thead>\n",
       "    <tr style=\"text-align: right;\">\n",
       "      <th></th>\n",
       "      <th>match_id</th>\n",
       "      <th>city</th>\n",
       "      <th>winner</th>\n",
       "      <th>total_runs_x</th>\n",
       "      <th>inning</th>\n",
       "      <th>batting_team</th>\n",
       "      <th>bowling_team</th>\n",
       "      <th>over</th>\n",
       "      <th>ball</th>\n",
       "      <th>batter</th>\n",
       "      <th>...</th>\n",
       "      <th>is_dot_ball</th>\n",
       "      <th>is_boundary</th>\n",
       "      <th>is_six</th>\n",
       "      <th>is_four</th>\n",
       "      <th>over_ball</th>\n",
       "      <th>season</th>\n",
       "      <th>date</th>\n",
       "      <th>venue</th>\n",
       "      <th>current_run</th>\n",
       "      <th>runs_left</th>\n",
       "    </tr>\n",
       "  </thead>\n",
       "  <tbody>\n",
       "    <tr>\n",
       "      <th>124</th>\n",
       "      <td>335982</td>\n",
       "      <td>Bangalore</td>\n",
       "      <td>Kolkata Knight Riders</td>\n",
       "      <td>222</td>\n",
       "      <td>2</td>\n",
       "      <td>Royal Challengers Bangalore</td>\n",
       "      <td>Kolkata Knight Riders</td>\n",
       "      <td>0</td>\n",
       "      <td>1</td>\n",
       "      <td>R Dravid</td>\n",
       "      <td>...</td>\n",
       "      <td>0</td>\n",
       "      <td>0</td>\n",
       "      <td>0</td>\n",
       "      <td>0</td>\n",
       "      <td>0.1</td>\n",
       "      <td>2007/08</td>\n",
       "      <td>2008-04-18</td>\n",
       "      <td>M Chinnaswamy Stadium</td>\n",
       "      <td>1</td>\n",
       "      <td>221</td>\n",
       "    </tr>\n",
       "    <tr>\n",
       "      <th>125</th>\n",
       "      <td>335982</td>\n",
       "      <td>Bangalore</td>\n",
       "      <td>Kolkata Knight Riders</td>\n",
       "      <td>222</td>\n",
       "      <td>2</td>\n",
       "      <td>Royal Challengers Bangalore</td>\n",
       "      <td>Kolkata Knight Riders</td>\n",
       "      <td>0</td>\n",
       "      <td>2</td>\n",
       "      <td>W Jaffer</td>\n",
       "      <td>...</td>\n",
       "      <td>0</td>\n",
       "      <td>0</td>\n",
       "      <td>0</td>\n",
       "      <td>0</td>\n",
       "      <td>0.2</td>\n",
       "      <td>2007/08</td>\n",
       "      <td>2008-04-18</td>\n",
       "      <td>M Chinnaswamy Stadium</td>\n",
       "      <td>2</td>\n",
       "      <td>220</td>\n",
       "    </tr>\n",
       "    <tr>\n",
       "      <th>126</th>\n",
       "      <td>335982</td>\n",
       "      <td>Bangalore</td>\n",
       "      <td>Kolkata Knight Riders</td>\n",
       "      <td>222</td>\n",
       "      <td>2</td>\n",
       "      <td>Royal Challengers Bangalore</td>\n",
       "      <td>Kolkata Knight Riders</td>\n",
       "      <td>0</td>\n",
       "      <td>3</td>\n",
       "      <td>W Jaffer</td>\n",
       "      <td>...</td>\n",
       "      <td>1</td>\n",
       "      <td>0</td>\n",
       "      <td>0</td>\n",
       "      <td>0</td>\n",
       "      <td>0.3</td>\n",
       "      <td>2007/08</td>\n",
       "      <td>2008-04-18</td>\n",
       "      <td>M Chinnaswamy Stadium</td>\n",
       "      <td>2</td>\n",
       "      <td>220</td>\n",
       "    </tr>\n",
       "    <tr>\n",
       "      <th>127</th>\n",
       "      <td>335982</td>\n",
       "      <td>Bangalore</td>\n",
       "      <td>Kolkata Knight Riders</td>\n",
       "      <td>222</td>\n",
       "      <td>2</td>\n",
       "      <td>Royal Challengers Bangalore</td>\n",
       "      <td>Kolkata Knight Riders</td>\n",
       "      <td>0</td>\n",
       "      <td>4</td>\n",
       "      <td>W Jaffer</td>\n",
       "      <td>...</td>\n",
       "      <td>0</td>\n",
       "      <td>0</td>\n",
       "      <td>0</td>\n",
       "      <td>0</td>\n",
       "      <td>0.4</td>\n",
       "      <td>2007/08</td>\n",
       "      <td>2008-04-18</td>\n",
       "      <td>M Chinnaswamy Stadium</td>\n",
       "      <td>3</td>\n",
       "      <td>219</td>\n",
       "    </tr>\n",
       "    <tr>\n",
       "      <th>128</th>\n",
       "      <td>335982</td>\n",
       "      <td>Bangalore</td>\n",
       "      <td>Kolkata Knight Riders</td>\n",
       "      <td>222</td>\n",
       "      <td>2</td>\n",
       "      <td>Royal Challengers Bangalore</td>\n",
       "      <td>Kolkata Knight Riders</td>\n",
       "      <td>0</td>\n",
       "      <td>5</td>\n",
       "      <td>R Dravid</td>\n",
       "      <td>...</td>\n",
       "      <td>0</td>\n",
       "      <td>0</td>\n",
       "      <td>0</td>\n",
       "      <td>0</td>\n",
       "      <td>0.5</td>\n",
       "      <td>2007/08</td>\n",
       "      <td>2008-04-18</td>\n",
       "      <td>M Chinnaswamy Stadium</td>\n",
       "      <td>4</td>\n",
       "      <td>218</td>\n",
       "    </tr>\n",
       "  </tbody>\n",
       "</table>\n",
       "<p>5 rows × 31 columns</p>\n",
       "</div>"
      ],
      "text/plain": [
       "     match_id       city                 winner  total_runs_x  inning  \\\n",
       "124    335982  Bangalore  Kolkata Knight Riders           222       2   \n",
       "125    335982  Bangalore  Kolkata Knight Riders           222       2   \n",
       "126    335982  Bangalore  Kolkata Knight Riders           222       2   \n",
       "127    335982  Bangalore  Kolkata Knight Riders           222       2   \n",
       "128    335982  Bangalore  Kolkata Knight Riders           222       2   \n",
       "\n",
       "                    batting_team           bowling_team  over  ball    batter  \\\n",
       "124  Royal Challengers Bangalore  Kolkata Knight Riders     0     1  R Dravid   \n",
       "125  Royal Challengers Bangalore  Kolkata Knight Riders     0     2  W Jaffer   \n",
       "126  Royal Challengers Bangalore  Kolkata Knight Riders     0     3  W Jaffer   \n",
       "127  Royal Challengers Bangalore  Kolkata Knight Riders     0     4  W Jaffer   \n",
       "128  Royal Challengers Bangalore  Kolkata Knight Riders     0     5  R Dravid   \n",
       "\n",
       "     ... is_dot_ball is_boundary  is_six  is_four  over_ball   season  \\\n",
       "124  ...           0           0       0        0        0.1  2007/08   \n",
       "125  ...           0           0       0        0        0.2  2007/08   \n",
       "126  ...           1           0       0        0        0.3  2007/08   \n",
       "127  ...           0           0       0        0        0.4  2007/08   \n",
       "128  ...           0           0       0        0        0.5  2007/08   \n",
       "\n",
       "           date                  venue current_run runs_left  \n",
       "124  2008-04-18  M Chinnaswamy Stadium           1       221  \n",
       "125  2008-04-18  M Chinnaswamy Stadium           2       220  \n",
       "126  2008-04-18  M Chinnaswamy Stadium           2       220  \n",
       "127  2008-04-18  M Chinnaswamy Stadium           3       219  \n",
       "128  2008-04-18  M Chinnaswamy Stadium           4       218  \n",
       "\n",
       "[5 rows x 31 columns]"
      ]
     },
     "execution_count": 34,
     "metadata": {},
     "output_type": "execute_result"
    }
   ],
   "source": [
    "deliveries_df.head()"
   ]
  },
  {
   "cell_type": "code",
   "execution_count": 35,
   "id": "daa7cd31",
   "metadata": {
    "execution": {
     "iopub.execute_input": "2025-04-30T16:49:29.841419Z",
     "iopub.status.busy": "2025-04-30T16:49:29.841209Z",
     "iopub.status.idle": "2025-04-30T16:49:29.845547Z",
     "shell.execute_reply": "2025-04-30T16:49:29.845091Z"
    },
    "papermill": {
     "duration": 0.023189,
     "end_time": "2025-04-30T16:49:29.846497",
     "exception": false,
     "start_time": "2025-04-30T16:49:29.823308",
     "status": "completed"
    },
    "tags": []
   },
   "outputs": [],
   "source": [
    "deliveries_df['balls_left'] = 120 - (deliveries_df['over']*6 + deliveries_df['ball'])"
   ]
  },
  {
   "cell_type": "code",
   "execution_count": 36,
   "id": "e2a6eb9e",
   "metadata": {
    "execution": {
     "iopub.execute_input": "2025-04-30T16:49:29.880602Z",
     "iopub.status.busy": "2025-04-30T16:49:29.880051Z",
     "iopub.status.idle": "2025-04-30T16:49:29.893470Z",
     "shell.execute_reply": "2025-04-30T16:49:29.892940Z"
    },
    "papermill": {
     "duration": 0.031387,
     "end_time": "2025-04-30T16:49:29.894500",
     "exception": false,
     "start_time": "2025-04-30T16:49:29.863113",
     "status": "completed"
    },
    "tags": []
   },
   "outputs": [
    {
     "data": {
      "text/html": [
       "<div>\n",
       "<style scoped>\n",
       "    .dataframe tbody tr th:only-of-type {\n",
       "        vertical-align: middle;\n",
       "    }\n",
       "\n",
       "    .dataframe tbody tr th {\n",
       "        vertical-align: top;\n",
       "    }\n",
       "\n",
       "    .dataframe thead th {\n",
       "        text-align: right;\n",
       "    }\n",
       "</style>\n",
       "<table border=\"1\" class=\"dataframe\">\n",
       "  <thead>\n",
       "    <tr style=\"text-align: right;\">\n",
       "      <th></th>\n",
       "      <th>match_id</th>\n",
       "      <th>city</th>\n",
       "      <th>winner</th>\n",
       "      <th>total_runs_x</th>\n",
       "      <th>inning</th>\n",
       "      <th>batting_team</th>\n",
       "      <th>bowling_team</th>\n",
       "      <th>over</th>\n",
       "      <th>ball</th>\n",
       "      <th>batter</th>\n",
       "      <th>...</th>\n",
       "      <th>is_boundary</th>\n",
       "      <th>is_six</th>\n",
       "      <th>is_four</th>\n",
       "      <th>over_ball</th>\n",
       "      <th>season</th>\n",
       "      <th>date</th>\n",
       "      <th>venue</th>\n",
       "      <th>current_run</th>\n",
       "      <th>runs_left</th>\n",
       "      <th>balls_left</th>\n",
       "    </tr>\n",
       "  </thead>\n",
       "  <tbody>\n",
       "    <tr>\n",
       "      <th>124</th>\n",
       "      <td>335982</td>\n",
       "      <td>Bangalore</td>\n",
       "      <td>Kolkata Knight Riders</td>\n",
       "      <td>222</td>\n",
       "      <td>2</td>\n",
       "      <td>Royal Challengers Bangalore</td>\n",
       "      <td>Kolkata Knight Riders</td>\n",
       "      <td>0</td>\n",
       "      <td>1</td>\n",
       "      <td>R Dravid</td>\n",
       "      <td>...</td>\n",
       "      <td>0</td>\n",
       "      <td>0</td>\n",
       "      <td>0</td>\n",
       "      <td>0.1</td>\n",
       "      <td>2007/08</td>\n",
       "      <td>2008-04-18</td>\n",
       "      <td>M Chinnaswamy Stadium</td>\n",
       "      <td>1</td>\n",
       "      <td>221</td>\n",
       "      <td>119</td>\n",
       "    </tr>\n",
       "    <tr>\n",
       "      <th>125</th>\n",
       "      <td>335982</td>\n",
       "      <td>Bangalore</td>\n",
       "      <td>Kolkata Knight Riders</td>\n",
       "      <td>222</td>\n",
       "      <td>2</td>\n",
       "      <td>Royal Challengers Bangalore</td>\n",
       "      <td>Kolkata Knight Riders</td>\n",
       "      <td>0</td>\n",
       "      <td>2</td>\n",
       "      <td>W Jaffer</td>\n",
       "      <td>...</td>\n",
       "      <td>0</td>\n",
       "      <td>0</td>\n",
       "      <td>0</td>\n",
       "      <td>0.2</td>\n",
       "      <td>2007/08</td>\n",
       "      <td>2008-04-18</td>\n",
       "      <td>M Chinnaswamy Stadium</td>\n",
       "      <td>2</td>\n",
       "      <td>220</td>\n",
       "      <td>118</td>\n",
       "    </tr>\n",
       "    <tr>\n",
       "      <th>126</th>\n",
       "      <td>335982</td>\n",
       "      <td>Bangalore</td>\n",
       "      <td>Kolkata Knight Riders</td>\n",
       "      <td>222</td>\n",
       "      <td>2</td>\n",
       "      <td>Royal Challengers Bangalore</td>\n",
       "      <td>Kolkata Knight Riders</td>\n",
       "      <td>0</td>\n",
       "      <td>3</td>\n",
       "      <td>W Jaffer</td>\n",
       "      <td>...</td>\n",
       "      <td>0</td>\n",
       "      <td>0</td>\n",
       "      <td>0</td>\n",
       "      <td>0.3</td>\n",
       "      <td>2007/08</td>\n",
       "      <td>2008-04-18</td>\n",
       "      <td>M Chinnaswamy Stadium</td>\n",
       "      <td>2</td>\n",
       "      <td>220</td>\n",
       "      <td>117</td>\n",
       "    </tr>\n",
       "    <tr>\n",
       "      <th>127</th>\n",
       "      <td>335982</td>\n",
       "      <td>Bangalore</td>\n",
       "      <td>Kolkata Knight Riders</td>\n",
       "      <td>222</td>\n",
       "      <td>2</td>\n",
       "      <td>Royal Challengers Bangalore</td>\n",
       "      <td>Kolkata Knight Riders</td>\n",
       "      <td>0</td>\n",
       "      <td>4</td>\n",
       "      <td>W Jaffer</td>\n",
       "      <td>...</td>\n",
       "      <td>0</td>\n",
       "      <td>0</td>\n",
       "      <td>0</td>\n",
       "      <td>0.4</td>\n",
       "      <td>2007/08</td>\n",
       "      <td>2008-04-18</td>\n",
       "      <td>M Chinnaswamy Stadium</td>\n",
       "      <td>3</td>\n",
       "      <td>219</td>\n",
       "      <td>116</td>\n",
       "    </tr>\n",
       "    <tr>\n",
       "      <th>128</th>\n",
       "      <td>335982</td>\n",
       "      <td>Bangalore</td>\n",
       "      <td>Kolkata Knight Riders</td>\n",
       "      <td>222</td>\n",
       "      <td>2</td>\n",
       "      <td>Royal Challengers Bangalore</td>\n",
       "      <td>Kolkata Knight Riders</td>\n",
       "      <td>0</td>\n",
       "      <td>5</td>\n",
       "      <td>R Dravid</td>\n",
       "      <td>...</td>\n",
       "      <td>0</td>\n",
       "      <td>0</td>\n",
       "      <td>0</td>\n",
       "      <td>0.5</td>\n",
       "      <td>2007/08</td>\n",
       "      <td>2008-04-18</td>\n",
       "      <td>M Chinnaswamy Stadium</td>\n",
       "      <td>4</td>\n",
       "      <td>218</td>\n",
       "      <td>115</td>\n",
       "    </tr>\n",
       "  </tbody>\n",
       "</table>\n",
       "<p>5 rows × 32 columns</p>\n",
       "</div>"
      ],
      "text/plain": [
       "     match_id       city                 winner  total_runs_x  inning  \\\n",
       "124    335982  Bangalore  Kolkata Knight Riders           222       2   \n",
       "125    335982  Bangalore  Kolkata Knight Riders           222       2   \n",
       "126    335982  Bangalore  Kolkata Knight Riders           222       2   \n",
       "127    335982  Bangalore  Kolkata Knight Riders           222       2   \n",
       "128    335982  Bangalore  Kolkata Knight Riders           222       2   \n",
       "\n",
       "                    batting_team           bowling_team  over  ball    batter  \\\n",
       "124  Royal Challengers Bangalore  Kolkata Knight Riders     0     1  R Dravid   \n",
       "125  Royal Challengers Bangalore  Kolkata Knight Riders     0     2  W Jaffer   \n",
       "126  Royal Challengers Bangalore  Kolkata Knight Riders     0     3  W Jaffer   \n",
       "127  Royal Challengers Bangalore  Kolkata Knight Riders     0     4  W Jaffer   \n",
       "128  Royal Challengers Bangalore  Kolkata Knight Riders     0     5  R Dravid   \n",
       "\n",
       "     ... is_boundary is_six  is_four  over_ball   season        date  \\\n",
       "124  ...           0      0        0        0.1  2007/08  2008-04-18   \n",
       "125  ...           0      0        0        0.2  2007/08  2008-04-18   \n",
       "126  ...           0      0        0        0.3  2007/08  2008-04-18   \n",
       "127  ...           0      0        0        0.4  2007/08  2008-04-18   \n",
       "128  ...           0      0        0        0.5  2007/08  2008-04-18   \n",
       "\n",
       "                     venue current_run runs_left balls_left  \n",
       "124  M Chinnaswamy Stadium           1       221        119  \n",
       "125  M Chinnaswamy Stadium           2       220        118  \n",
       "126  M Chinnaswamy Stadium           2       220        117  \n",
       "127  M Chinnaswamy Stadium           3       219        116  \n",
       "128  M Chinnaswamy Stadium           4       218        115  \n",
       "\n",
       "[5 rows x 32 columns]"
      ]
     },
     "execution_count": 36,
     "metadata": {},
     "output_type": "execute_result"
    }
   ],
   "source": [
    "deliveries_df.head()"
   ]
  },
  {
   "cell_type": "code",
   "execution_count": 37,
   "id": "1a538b2d",
   "metadata": {
    "execution": {
     "iopub.execute_input": "2025-04-30T16:49:29.928591Z",
     "iopub.status.busy": "2025-04-30T16:49:29.927981Z",
     "iopub.status.idle": "2025-04-30T16:49:29.932198Z",
     "shell.execute_reply": "2025-04-30T16:49:29.931616Z"
    },
    "papermill": {
     "duration": 0.021893,
     "end_time": "2025-04-30T16:49:29.933278",
     "exception": false,
     "start_time": "2025-04-30T16:49:29.911385",
     "status": "completed"
    },
    "tags": []
   },
   "outputs": [
    {
     "data": {
      "text/plain": [
       "Index(['match_id', 'city', 'winner', 'total_runs_x', 'inning', 'batting_team',\n",
       "       'bowling_team', 'over', 'ball', 'batter', 'bowler', 'non_striker',\n",
       "       'batsman_runs', 'extra_runs', 'total_runs_y', 'extras_type',\n",
       "       'is_wicket', 'player_dismissed', 'dismissal_kind', 'fielder',\n",
       "       'ball_number', 'is_dot_ball', 'is_boundary', 'is_six', 'is_four',\n",
       "       'over_ball', 'season', 'date', 'venue', 'current_run', 'runs_left',\n",
       "       'balls_left'],\n",
       "      dtype='object')"
      ]
     },
     "execution_count": 37,
     "metadata": {},
     "output_type": "execute_result"
    }
   ],
   "source": [
    "deliveries_df.columns"
   ]
  },
  {
   "cell_type": "code",
   "execution_count": 38,
   "id": "35f6dccc",
   "metadata": {
    "execution": {
     "iopub.execute_input": "2025-04-30T16:49:29.967565Z",
     "iopub.status.busy": "2025-04-30T16:49:29.966911Z",
     "iopub.status.idle": "2025-04-30T16:49:29.971011Z",
     "shell.execute_reply": "2025-04-30T16:49:29.970488Z"
    },
    "papermill": {
     "duration": 0.022146,
     "end_time": "2025-04-30T16:49:29.972028",
     "exception": false,
     "start_time": "2025-04-30T16:49:29.949882",
     "status": "completed"
    },
    "tags": []
   },
   "outputs": [
    {
     "data": {
      "text/plain": [
       "dtype('int64')"
      ]
     },
     "execution_count": 38,
     "metadata": {},
     "output_type": "execute_result"
    }
   ],
   "source": [
    "deliveries_df['is_wicket'].dtype"
   ]
  },
  {
   "cell_type": "code",
   "execution_count": 39,
   "id": "8a2aa8e1",
   "metadata": {
    "execution": {
     "iopub.execute_input": "2025-04-30T16:49:30.006050Z",
     "iopub.status.busy": "2025-04-30T16:49:30.005491Z",
     "iopub.status.idle": "2025-04-30T16:49:30.011898Z",
     "shell.execute_reply": "2025-04-30T16:49:30.011190Z"
    },
    "papermill": {
     "duration": 0.024609,
     "end_time": "2025-04-30T16:49:30.013066",
     "exception": false,
     "start_time": "2025-04-30T16:49:29.988457",
     "status": "completed"
    },
    "tags": []
   },
   "outputs": [],
   "source": [
    "deliveries_df[\"wickets_left\"]= 10 - deliveries_df.groupby([\"match_id\"])[\"is_wicket\"].cumsum()"
   ]
  },
  {
   "cell_type": "code",
   "execution_count": 40,
   "id": "33bc4209",
   "metadata": {
    "execution": {
     "iopub.execute_input": "2025-04-30T16:49:30.048079Z",
     "iopub.status.busy": "2025-04-30T16:49:30.047463Z",
     "iopub.status.idle": "2025-04-30T16:49:30.063255Z",
     "shell.execute_reply": "2025-04-30T16:49:30.062673Z"
    },
    "papermill": {
     "duration": 0.034601,
     "end_time": "2025-04-30T16:49:30.064249",
     "exception": false,
     "start_time": "2025-04-30T16:49:30.029648",
     "status": "completed"
    },
    "tags": []
   },
   "outputs": [
    {
     "data": {
      "text/html": [
       "<div>\n",
       "<style scoped>\n",
       "    .dataframe tbody tr th:only-of-type {\n",
       "        vertical-align: middle;\n",
       "    }\n",
       "\n",
       "    .dataframe tbody tr th {\n",
       "        vertical-align: top;\n",
       "    }\n",
       "\n",
       "    .dataframe thead th {\n",
       "        text-align: right;\n",
       "    }\n",
       "</style>\n",
       "<table border=\"1\" class=\"dataframe\">\n",
       "  <thead>\n",
       "    <tr style=\"text-align: right;\">\n",
       "      <th></th>\n",
       "      <th>match_id</th>\n",
       "      <th>city</th>\n",
       "      <th>winner</th>\n",
       "      <th>total_runs_x</th>\n",
       "      <th>inning</th>\n",
       "      <th>batting_team</th>\n",
       "      <th>bowling_team</th>\n",
       "      <th>over</th>\n",
       "      <th>ball</th>\n",
       "      <th>batter</th>\n",
       "      <th>...</th>\n",
       "      <th>is_six</th>\n",
       "      <th>is_four</th>\n",
       "      <th>over_ball</th>\n",
       "      <th>season</th>\n",
       "      <th>date</th>\n",
       "      <th>venue</th>\n",
       "      <th>current_run</th>\n",
       "      <th>runs_left</th>\n",
       "      <th>balls_left</th>\n",
       "      <th>wickets_left</th>\n",
       "    </tr>\n",
       "  </thead>\n",
       "  <tbody>\n",
       "    <tr>\n",
       "      <th>124</th>\n",
       "      <td>335982</td>\n",
       "      <td>Bangalore</td>\n",
       "      <td>Kolkata Knight Riders</td>\n",
       "      <td>222</td>\n",
       "      <td>2</td>\n",
       "      <td>Royal Challengers Bangalore</td>\n",
       "      <td>Kolkata Knight Riders</td>\n",
       "      <td>0</td>\n",
       "      <td>1</td>\n",
       "      <td>R Dravid</td>\n",
       "      <td>...</td>\n",
       "      <td>0</td>\n",
       "      <td>0</td>\n",
       "      <td>0.1</td>\n",
       "      <td>2007/08</td>\n",
       "      <td>2008-04-18</td>\n",
       "      <td>M Chinnaswamy Stadium</td>\n",
       "      <td>1</td>\n",
       "      <td>221</td>\n",
       "      <td>119</td>\n",
       "      <td>10</td>\n",
       "    </tr>\n",
       "    <tr>\n",
       "      <th>125</th>\n",
       "      <td>335982</td>\n",
       "      <td>Bangalore</td>\n",
       "      <td>Kolkata Knight Riders</td>\n",
       "      <td>222</td>\n",
       "      <td>2</td>\n",
       "      <td>Royal Challengers Bangalore</td>\n",
       "      <td>Kolkata Knight Riders</td>\n",
       "      <td>0</td>\n",
       "      <td>2</td>\n",
       "      <td>W Jaffer</td>\n",
       "      <td>...</td>\n",
       "      <td>0</td>\n",
       "      <td>0</td>\n",
       "      <td>0.2</td>\n",
       "      <td>2007/08</td>\n",
       "      <td>2008-04-18</td>\n",
       "      <td>M Chinnaswamy Stadium</td>\n",
       "      <td>2</td>\n",
       "      <td>220</td>\n",
       "      <td>118</td>\n",
       "      <td>10</td>\n",
       "    </tr>\n",
       "    <tr>\n",
       "      <th>126</th>\n",
       "      <td>335982</td>\n",
       "      <td>Bangalore</td>\n",
       "      <td>Kolkata Knight Riders</td>\n",
       "      <td>222</td>\n",
       "      <td>2</td>\n",
       "      <td>Royal Challengers Bangalore</td>\n",
       "      <td>Kolkata Knight Riders</td>\n",
       "      <td>0</td>\n",
       "      <td>3</td>\n",
       "      <td>W Jaffer</td>\n",
       "      <td>...</td>\n",
       "      <td>0</td>\n",
       "      <td>0</td>\n",
       "      <td>0.3</td>\n",
       "      <td>2007/08</td>\n",
       "      <td>2008-04-18</td>\n",
       "      <td>M Chinnaswamy Stadium</td>\n",
       "      <td>2</td>\n",
       "      <td>220</td>\n",
       "      <td>117</td>\n",
       "      <td>10</td>\n",
       "    </tr>\n",
       "    <tr>\n",
       "      <th>127</th>\n",
       "      <td>335982</td>\n",
       "      <td>Bangalore</td>\n",
       "      <td>Kolkata Knight Riders</td>\n",
       "      <td>222</td>\n",
       "      <td>2</td>\n",
       "      <td>Royal Challengers Bangalore</td>\n",
       "      <td>Kolkata Knight Riders</td>\n",
       "      <td>0</td>\n",
       "      <td>4</td>\n",
       "      <td>W Jaffer</td>\n",
       "      <td>...</td>\n",
       "      <td>0</td>\n",
       "      <td>0</td>\n",
       "      <td>0.4</td>\n",
       "      <td>2007/08</td>\n",
       "      <td>2008-04-18</td>\n",
       "      <td>M Chinnaswamy Stadium</td>\n",
       "      <td>3</td>\n",
       "      <td>219</td>\n",
       "      <td>116</td>\n",
       "      <td>10</td>\n",
       "    </tr>\n",
       "    <tr>\n",
       "      <th>128</th>\n",
       "      <td>335982</td>\n",
       "      <td>Bangalore</td>\n",
       "      <td>Kolkata Knight Riders</td>\n",
       "      <td>222</td>\n",
       "      <td>2</td>\n",
       "      <td>Royal Challengers Bangalore</td>\n",
       "      <td>Kolkata Knight Riders</td>\n",
       "      <td>0</td>\n",
       "      <td>5</td>\n",
       "      <td>R Dravid</td>\n",
       "      <td>...</td>\n",
       "      <td>0</td>\n",
       "      <td>0</td>\n",
       "      <td>0.5</td>\n",
       "      <td>2007/08</td>\n",
       "      <td>2008-04-18</td>\n",
       "      <td>M Chinnaswamy Stadium</td>\n",
       "      <td>4</td>\n",
       "      <td>218</td>\n",
       "      <td>115</td>\n",
       "      <td>10</td>\n",
       "    </tr>\n",
       "    <tr>\n",
       "      <th>...</th>\n",
       "      <td>...</td>\n",
       "      <td>...</td>\n",
       "      <td>...</td>\n",
       "      <td>...</td>\n",
       "      <td>...</td>\n",
       "      <td>...</td>\n",
       "      <td>...</td>\n",
       "      <td>...</td>\n",
       "      <td>...</td>\n",
       "      <td>...</td>\n",
       "      <td>...</td>\n",
       "      <td>...</td>\n",
       "      <td>...</td>\n",
       "      <td>...</td>\n",
       "      <td>...</td>\n",
       "      <td>...</td>\n",
       "      <td>...</td>\n",
       "      <td>...</td>\n",
       "      <td>...</td>\n",
       "      <td>...</td>\n",
       "      <td>...</td>\n",
       "    </tr>\n",
       "    <tr>\n",
       "      <th>219</th>\n",
       "      <td>335982</td>\n",
       "      <td>Bangalore</td>\n",
       "      <td>Kolkata Knight Riders</td>\n",
       "      <td>222</td>\n",
       "      <td>2</td>\n",
       "      <td>Royal Challengers Bangalore</td>\n",
       "      <td>Kolkata Knight Riders</td>\n",
       "      <td>14</td>\n",
       "      <td>4</td>\n",
       "      <td>SB Joshi</td>\n",
       "      <td>...</td>\n",
       "      <td>0</td>\n",
       "      <td>0</td>\n",
       "      <td>14.4</td>\n",
       "      <td>2007/08</td>\n",
       "      <td>2008-04-18</td>\n",
       "      <td>M Chinnaswamy Stadium</td>\n",
       "      <td>79</td>\n",
       "      <td>143</td>\n",
       "      <td>32</td>\n",
       "      <td>1</td>\n",
       "    </tr>\n",
       "    <tr>\n",
       "      <th>220</th>\n",
       "      <td>335982</td>\n",
       "      <td>Bangalore</td>\n",
       "      <td>Kolkata Knight Riders</td>\n",
       "      <td>222</td>\n",
       "      <td>2</td>\n",
       "      <td>Royal Challengers Bangalore</td>\n",
       "      <td>Kolkata Knight Riders</td>\n",
       "      <td>14</td>\n",
       "      <td>5</td>\n",
       "      <td>P Kumar</td>\n",
       "      <td>...</td>\n",
       "      <td>0</td>\n",
       "      <td>0</td>\n",
       "      <td>14.5</td>\n",
       "      <td>2007/08</td>\n",
       "      <td>2008-04-18</td>\n",
       "      <td>M Chinnaswamy Stadium</td>\n",
       "      <td>80</td>\n",
       "      <td>142</td>\n",
       "      <td>31</td>\n",
       "      <td>1</td>\n",
       "    </tr>\n",
       "    <tr>\n",
       "      <th>221</th>\n",
       "      <td>335982</td>\n",
       "      <td>Bangalore</td>\n",
       "      <td>Kolkata Knight Riders</td>\n",
       "      <td>222</td>\n",
       "      <td>2</td>\n",
       "      <td>Royal Challengers Bangalore</td>\n",
       "      <td>Kolkata Knight Riders</td>\n",
       "      <td>14</td>\n",
       "      <td>6</td>\n",
       "      <td>SB Joshi</td>\n",
       "      <td>...</td>\n",
       "      <td>0</td>\n",
       "      <td>0</td>\n",
       "      <td>14.6</td>\n",
       "      <td>2007/08</td>\n",
       "      <td>2008-04-18</td>\n",
       "      <td>M Chinnaswamy Stadium</td>\n",
       "      <td>81</td>\n",
       "      <td>141</td>\n",
       "      <td>30</td>\n",
       "      <td>1</td>\n",
       "    </tr>\n",
       "    <tr>\n",
       "      <th>222</th>\n",
       "      <td>335982</td>\n",
       "      <td>Bangalore</td>\n",
       "      <td>Kolkata Knight Riders</td>\n",
       "      <td>222</td>\n",
       "      <td>2</td>\n",
       "      <td>Royal Challengers Bangalore</td>\n",
       "      <td>Kolkata Knight Riders</td>\n",
       "      <td>14</td>\n",
       "      <td>7</td>\n",
       "      <td>P Kumar</td>\n",
       "      <td>...</td>\n",
       "      <td>0</td>\n",
       "      <td>0</td>\n",
       "      <td>14.7</td>\n",
       "      <td>2007/08</td>\n",
       "      <td>2008-04-18</td>\n",
       "      <td>M Chinnaswamy Stadium</td>\n",
       "      <td>81</td>\n",
       "      <td>141</td>\n",
       "      <td>29</td>\n",
       "      <td>1</td>\n",
       "    </tr>\n",
       "    <tr>\n",
       "      <th>223</th>\n",
       "      <td>335982</td>\n",
       "      <td>Bangalore</td>\n",
       "      <td>Kolkata Knight Riders</td>\n",
       "      <td>222</td>\n",
       "      <td>2</td>\n",
       "      <td>Royal Challengers Bangalore</td>\n",
       "      <td>Kolkata Knight Riders</td>\n",
       "      <td>15</td>\n",
       "      <td>1</td>\n",
       "      <td>SB Joshi</td>\n",
       "      <td>...</td>\n",
       "      <td>0</td>\n",
       "      <td>0</td>\n",
       "      <td>15.1</td>\n",
       "      <td>2007/08</td>\n",
       "      <td>2008-04-18</td>\n",
       "      <td>M Chinnaswamy Stadium</td>\n",
       "      <td>82</td>\n",
       "      <td>140</td>\n",
       "      <td>29</td>\n",
       "      <td>1</td>\n",
       "    </tr>\n",
       "  </tbody>\n",
       "</table>\n",
       "<p>100 rows × 33 columns</p>\n",
       "</div>"
      ],
      "text/plain": [
       "     match_id       city                 winner  total_runs_x  inning  \\\n",
       "124    335982  Bangalore  Kolkata Knight Riders           222       2   \n",
       "125    335982  Bangalore  Kolkata Knight Riders           222       2   \n",
       "126    335982  Bangalore  Kolkata Knight Riders           222       2   \n",
       "127    335982  Bangalore  Kolkata Knight Riders           222       2   \n",
       "128    335982  Bangalore  Kolkata Knight Riders           222       2   \n",
       "..        ...        ...                    ...           ...     ...   \n",
       "219    335982  Bangalore  Kolkata Knight Riders           222       2   \n",
       "220    335982  Bangalore  Kolkata Knight Riders           222       2   \n",
       "221    335982  Bangalore  Kolkata Knight Riders           222       2   \n",
       "222    335982  Bangalore  Kolkata Knight Riders           222       2   \n",
       "223    335982  Bangalore  Kolkata Knight Riders           222       2   \n",
       "\n",
       "                    batting_team           bowling_team  over  ball    batter  \\\n",
       "124  Royal Challengers Bangalore  Kolkata Knight Riders     0     1  R Dravid   \n",
       "125  Royal Challengers Bangalore  Kolkata Knight Riders     0     2  W Jaffer   \n",
       "126  Royal Challengers Bangalore  Kolkata Knight Riders     0     3  W Jaffer   \n",
       "127  Royal Challengers Bangalore  Kolkata Knight Riders     0     4  W Jaffer   \n",
       "128  Royal Challengers Bangalore  Kolkata Knight Riders     0     5  R Dravid   \n",
       "..                           ...                    ...   ...   ...       ...   \n",
       "219  Royal Challengers Bangalore  Kolkata Knight Riders    14     4  SB Joshi   \n",
       "220  Royal Challengers Bangalore  Kolkata Knight Riders    14     5   P Kumar   \n",
       "221  Royal Challengers Bangalore  Kolkata Knight Riders    14     6  SB Joshi   \n",
       "222  Royal Challengers Bangalore  Kolkata Knight Riders    14     7   P Kumar   \n",
       "223  Royal Challengers Bangalore  Kolkata Knight Riders    15     1  SB Joshi   \n",
       "\n",
       "     ... is_six is_four  over_ball   season        date  \\\n",
       "124  ...      0       0        0.1  2007/08  2008-04-18   \n",
       "125  ...      0       0        0.2  2007/08  2008-04-18   \n",
       "126  ...      0       0        0.3  2007/08  2008-04-18   \n",
       "127  ...      0       0        0.4  2007/08  2008-04-18   \n",
       "128  ...      0       0        0.5  2007/08  2008-04-18   \n",
       "..   ...    ...     ...        ...      ...         ...   \n",
       "219  ...      0       0       14.4  2007/08  2008-04-18   \n",
       "220  ...      0       0       14.5  2007/08  2008-04-18   \n",
       "221  ...      0       0       14.6  2007/08  2008-04-18   \n",
       "222  ...      0       0       14.7  2007/08  2008-04-18   \n",
       "223  ...      0       0       15.1  2007/08  2008-04-18   \n",
       "\n",
       "                     venue  current_run runs_left balls_left wickets_left  \n",
       "124  M Chinnaswamy Stadium            1       221        119           10  \n",
       "125  M Chinnaswamy Stadium            2       220        118           10  \n",
       "126  M Chinnaswamy Stadium            2       220        117           10  \n",
       "127  M Chinnaswamy Stadium            3       219        116           10  \n",
       "128  M Chinnaswamy Stadium            4       218        115           10  \n",
       "..                     ...          ...       ...        ...          ...  \n",
       "219  M Chinnaswamy Stadium           79       143         32            1  \n",
       "220  M Chinnaswamy Stadium           80       142         31            1  \n",
       "221  M Chinnaswamy Stadium           81       141         30            1  \n",
       "222  M Chinnaswamy Stadium           81       141         29            1  \n",
       "223  M Chinnaswamy Stadium           82       140         29            1  \n",
       "\n",
       "[100 rows x 33 columns]"
      ]
     },
     "execution_count": 40,
     "metadata": {},
     "output_type": "execute_result"
    }
   ],
   "source": [
    "deliveries_df.head(100)"
   ]
  },
  {
   "cell_type": "code",
   "execution_count": 41,
   "id": "7f9c9871",
   "metadata": {
    "execution": {
     "iopub.execute_input": "2025-04-30T16:49:30.099124Z",
     "iopub.status.busy": "2025-04-30T16:49:30.098645Z",
     "iopub.status.idle": "2025-04-30T16:49:30.133579Z",
     "shell.execute_reply": "2025-04-30T16:49:30.132918Z"
    },
    "papermill": {
     "duration": 0.053039,
     "end_time": "2025-04-30T16:49:30.134612",
     "exception": false,
     "start_time": "2025-04-30T16:49:30.081573",
     "status": "completed"
    },
    "tags": []
   },
   "outputs": [],
   "source": [
    "deliveries_df['crr'] = (deliveries_df['current_run']/(120-deliveries_df['balls_left']))*6"
   ]
  },
  {
   "cell_type": "code",
   "execution_count": 42,
   "id": "cf35a998",
   "metadata": {
    "execution": {
     "iopub.execute_input": "2025-04-30T16:49:30.169769Z",
     "iopub.status.busy": "2025-04-30T16:49:30.169161Z",
     "iopub.status.idle": "2025-04-30T16:49:30.183749Z",
     "shell.execute_reply": "2025-04-30T16:49:30.183171Z"
    },
    "papermill": {
     "duration": 0.03308,
     "end_time": "2025-04-30T16:49:30.184939",
     "exception": false,
     "start_time": "2025-04-30T16:49:30.151859",
     "status": "completed"
    },
    "tags": []
   },
   "outputs": [
    {
     "data": {
      "text/html": [
       "<div>\n",
       "<style scoped>\n",
       "    .dataframe tbody tr th:only-of-type {\n",
       "        vertical-align: middle;\n",
       "    }\n",
       "\n",
       "    .dataframe tbody tr th {\n",
       "        vertical-align: top;\n",
       "    }\n",
       "\n",
       "    .dataframe thead th {\n",
       "        text-align: right;\n",
       "    }\n",
       "</style>\n",
       "<table border=\"1\" class=\"dataframe\">\n",
       "  <thead>\n",
       "    <tr style=\"text-align: right;\">\n",
       "      <th></th>\n",
       "      <th>match_id</th>\n",
       "      <th>city</th>\n",
       "      <th>winner</th>\n",
       "      <th>total_runs_x</th>\n",
       "      <th>inning</th>\n",
       "      <th>batting_team</th>\n",
       "      <th>bowling_team</th>\n",
       "      <th>over</th>\n",
       "      <th>ball</th>\n",
       "      <th>batter</th>\n",
       "      <th>...</th>\n",
       "      <th>is_four</th>\n",
       "      <th>over_ball</th>\n",
       "      <th>season</th>\n",
       "      <th>date</th>\n",
       "      <th>venue</th>\n",
       "      <th>current_run</th>\n",
       "      <th>runs_left</th>\n",
       "      <th>balls_left</th>\n",
       "      <th>wickets_left</th>\n",
       "      <th>crr</th>\n",
       "    </tr>\n",
       "  </thead>\n",
       "  <tbody>\n",
       "    <tr>\n",
       "      <th>124</th>\n",
       "      <td>335982</td>\n",
       "      <td>Bangalore</td>\n",
       "      <td>Kolkata Knight Riders</td>\n",
       "      <td>222</td>\n",
       "      <td>2</td>\n",
       "      <td>Royal Challengers Bangalore</td>\n",
       "      <td>Kolkata Knight Riders</td>\n",
       "      <td>0</td>\n",
       "      <td>1</td>\n",
       "      <td>R Dravid</td>\n",
       "      <td>...</td>\n",
       "      <td>0</td>\n",
       "      <td>0.1</td>\n",
       "      <td>2007/08</td>\n",
       "      <td>2008-04-18</td>\n",
       "      <td>M Chinnaswamy Stadium</td>\n",
       "      <td>1</td>\n",
       "      <td>221</td>\n",
       "      <td>119</td>\n",
       "      <td>10</td>\n",
       "      <td>6.0</td>\n",
       "    </tr>\n",
       "    <tr>\n",
       "      <th>125</th>\n",
       "      <td>335982</td>\n",
       "      <td>Bangalore</td>\n",
       "      <td>Kolkata Knight Riders</td>\n",
       "      <td>222</td>\n",
       "      <td>2</td>\n",
       "      <td>Royal Challengers Bangalore</td>\n",
       "      <td>Kolkata Knight Riders</td>\n",
       "      <td>0</td>\n",
       "      <td>2</td>\n",
       "      <td>W Jaffer</td>\n",
       "      <td>...</td>\n",
       "      <td>0</td>\n",
       "      <td>0.2</td>\n",
       "      <td>2007/08</td>\n",
       "      <td>2008-04-18</td>\n",
       "      <td>M Chinnaswamy Stadium</td>\n",
       "      <td>2</td>\n",
       "      <td>220</td>\n",
       "      <td>118</td>\n",
       "      <td>10</td>\n",
       "      <td>6.0</td>\n",
       "    </tr>\n",
       "    <tr>\n",
       "      <th>126</th>\n",
       "      <td>335982</td>\n",
       "      <td>Bangalore</td>\n",
       "      <td>Kolkata Knight Riders</td>\n",
       "      <td>222</td>\n",
       "      <td>2</td>\n",
       "      <td>Royal Challengers Bangalore</td>\n",
       "      <td>Kolkata Knight Riders</td>\n",
       "      <td>0</td>\n",
       "      <td>3</td>\n",
       "      <td>W Jaffer</td>\n",
       "      <td>...</td>\n",
       "      <td>0</td>\n",
       "      <td>0.3</td>\n",
       "      <td>2007/08</td>\n",
       "      <td>2008-04-18</td>\n",
       "      <td>M Chinnaswamy Stadium</td>\n",
       "      <td>2</td>\n",
       "      <td>220</td>\n",
       "      <td>117</td>\n",
       "      <td>10</td>\n",
       "      <td>4.0</td>\n",
       "    </tr>\n",
       "    <tr>\n",
       "      <th>127</th>\n",
       "      <td>335982</td>\n",
       "      <td>Bangalore</td>\n",
       "      <td>Kolkata Knight Riders</td>\n",
       "      <td>222</td>\n",
       "      <td>2</td>\n",
       "      <td>Royal Challengers Bangalore</td>\n",
       "      <td>Kolkata Knight Riders</td>\n",
       "      <td>0</td>\n",
       "      <td>4</td>\n",
       "      <td>W Jaffer</td>\n",
       "      <td>...</td>\n",
       "      <td>0</td>\n",
       "      <td>0.4</td>\n",
       "      <td>2007/08</td>\n",
       "      <td>2008-04-18</td>\n",
       "      <td>M Chinnaswamy Stadium</td>\n",
       "      <td>3</td>\n",
       "      <td>219</td>\n",
       "      <td>116</td>\n",
       "      <td>10</td>\n",
       "      <td>4.5</td>\n",
       "    </tr>\n",
       "    <tr>\n",
       "      <th>128</th>\n",
       "      <td>335982</td>\n",
       "      <td>Bangalore</td>\n",
       "      <td>Kolkata Knight Riders</td>\n",
       "      <td>222</td>\n",
       "      <td>2</td>\n",
       "      <td>Royal Challengers Bangalore</td>\n",
       "      <td>Kolkata Knight Riders</td>\n",
       "      <td>0</td>\n",
       "      <td>5</td>\n",
       "      <td>R Dravid</td>\n",
       "      <td>...</td>\n",
       "      <td>0</td>\n",
       "      <td>0.5</td>\n",
       "      <td>2007/08</td>\n",
       "      <td>2008-04-18</td>\n",
       "      <td>M Chinnaswamy Stadium</td>\n",
       "      <td>4</td>\n",
       "      <td>218</td>\n",
       "      <td>115</td>\n",
       "      <td>10</td>\n",
       "      <td>4.8</td>\n",
       "    </tr>\n",
       "  </tbody>\n",
       "</table>\n",
       "<p>5 rows × 34 columns</p>\n",
       "</div>"
      ],
      "text/plain": [
       "     match_id       city                 winner  total_runs_x  inning  \\\n",
       "124    335982  Bangalore  Kolkata Knight Riders           222       2   \n",
       "125    335982  Bangalore  Kolkata Knight Riders           222       2   \n",
       "126    335982  Bangalore  Kolkata Knight Riders           222       2   \n",
       "127    335982  Bangalore  Kolkata Knight Riders           222       2   \n",
       "128    335982  Bangalore  Kolkata Knight Riders           222       2   \n",
       "\n",
       "                    batting_team           bowling_team  over  ball    batter  \\\n",
       "124  Royal Challengers Bangalore  Kolkata Knight Riders     0     1  R Dravid   \n",
       "125  Royal Challengers Bangalore  Kolkata Knight Riders     0     2  W Jaffer   \n",
       "126  Royal Challengers Bangalore  Kolkata Knight Riders     0     3  W Jaffer   \n",
       "127  Royal Challengers Bangalore  Kolkata Knight Riders     0     4  W Jaffer   \n",
       "128  Royal Challengers Bangalore  Kolkata Knight Riders     0     5  R Dravid   \n",
       "\n",
       "     ... is_four over_ball   season        date                  venue  \\\n",
       "124  ...       0       0.1  2007/08  2008-04-18  M Chinnaswamy Stadium   \n",
       "125  ...       0       0.2  2007/08  2008-04-18  M Chinnaswamy Stadium   \n",
       "126  ...       0       0.3  2007/08  2008-04-18  M Chinnaswamy Stadium   \n",
       "127  ...       0       0.4  2007/08  2008-04-18  M Chinnaswamy Stadium   \n",
       "128  ...       0       0.5  2007/08  2008-04-18  M Chinnaswamy Stadium   \n",
       "\n",
       "    current_run  runs_left balls_left wickets_left  crr  \n",
       "124           1        221        119           10  6.0  \n",
       "125           2        220        118           10  6.0  \n",
       "126           2        220        117           10  4.0  \n",
       "127           3        219        116           10  4.5  \n",
       "128           4        218        115           10  4.8  \n",
       "\n",
       "[5 rows x 34 columns]"
      ]
     },
     "execution_count": 42,
     "metadata": {},
     "output_type": "execute_result"
    }
   ],
   "source": [
    "deliveries_df.head()"
   ]
  },
  {
   "cell_type": "code",
   "execution_count": 43,
   "id": "b9cad11a",
   "metadata": {
    "execution": {
     "iopub.execute_input": "2025-04-30T16:49:30.223181Z",
     "iopub.status.busy": "2025-04-30T16:49:30.222962Z",
     "iopub.status.idle": "2025-04-30T16:49:30.232810Z",
     "shell.execute_reply": "2025-04-30T16:49:30.232331Z"
    },
    "papermill": {
     "duration": 0.029367,
     "end_time": "2025-04-30T16:49:30.233724",
     "exception": false,
     "start_time": "2025-04-30T16:49:30.204357",
     "status": "completed"
    },
    "tags": []
   },
   "outputs": [],
   "source": [
    "deliveries_df['rr'] = (deliveries_df['runs_left']/deliveries_df['balls_left'])*6"
   ]
  },
  {
   "cell_type": "code",
   "execution_count": 44,
   "id": "53515c18",
   "metadata": {
    "execution": {
     "iopub.execute_input": "2025-04-30T16:49:30.269862Z",
     "iopub.status.busy": "2025-04-30T16:49:30.269496Z",
     "iopub.status.idle": "2025-04-30T16:49:30.283492Z",
     "shell.execute_reply": "2025-04-30T16:49:30.282982Z"
    },
    "papermill": {
     "duration": 0.032843,
     "end_time": "2025-04-30T16:49:30.284444",
     "exception": false,
     "start_time": "2025-04-30T16:49:30.251601",
     "status": "completed"
    },
    "tags": []
   },
   "outputs": [
    {
     "data": {
      "text/html": [
       "<div>\n",
       "<style scoped>\n",
       "    .dataframe tbody tr th:only-of-type {\n",
       "        vertical-align: middle;\n",
       "    }\n",
       "\n",
       "    .dataframe tbody tr th {\n",
       "        vertical-align: top;\n",
       "    }\n",
       "\n",
       "    .dataframe thead th {\n",
       "        text-align: right;\n",
       "    }\n",
       "</style>\n",
       "<table border=\"1\" class=\"dataframe\">\n",
       "  <thead>\n",
       "    <tr style=\"text-align: right;\">\n",
       "      <th></th>\n",
       "      <th>match_id</th>\n",
       "      <th>city</th>\n",
       "      <th>winner</th>\n",
       "      <th>total_runs_x</th>\n",
       "      <th>inning</th>\n",
       "      <th>batting_team</th>\n",
       "      <th>bowling_team</th>\n",
       "      <th>over</th>\n",
       "      <th>ball</th>\n",
       "      <th>batter</th>\n",
       "      <th>...</th>\n",
       "      <th>over_ball</th>\n",
       "      <th>season</th>\n",
       "      <th>date</th>\n",
       "      <th>venue</th>\n",
       "      <th>current_run</th>\n",
       "      <th>runs_left</th>\n",
       "      <th>balls_left</th>\n",
       "      <th>wickets_left</th>\n",
       "      <th>crr</th>\n",
       "      <th>rr</th>\n",
       "    </tr>\n",
       "  </thead>\n",
       "  <tbody>\n",
       "    <tr>\n",
       "      <th>124</th>\n",
       "      <td>335982</td>\n",
       "      <td>Bangalore</td>\n",
       "      <td>Kolkata Knight Riders</td>\n",
       "      <td>222</td>\n",
       "      <td>2</td>\n",
       "      <td>Royal Challengers Bangalore</td>\n",
       "      <td>Kolkata Knight Riders</td>\n",
       "      <td>0</td>\n",
       "      <td>1</td>\n",
       "      <td>R Dravid</td>\n",
       "      <td>...</td>\n",
       "      <td>0.1</td>\n",
       "      <td>2007/08</td>\n",
       "      <td>2008-04-18</td>\n",
       "      <td>M Chinnaswamy Stadium</td>\n",
       "      <td>1</td>\n",
       "      <td>221</td>\n",
       "      <td>119</td>\n",
       "      <td>10</td>\n",
       "      <td>6.0</td>\n",
       "      <td>11.142857</td>\n",
       "    </tr>\n",
       "    <tr>\n",
       "      <th>125</th>\n",
       "      <td>335982</td>\n",
       "      <td>Bangalore</td>\n",
       "      <td>Kolkata Knight Riders</td>\n",
       "      <td>222</td>\n",
       "      <td>2</td>\n",
       "      <td>Royal Challengers Bangalore</td>\n",
       "      <td>Kolkata Knight Riders</td>\n",
       "      <td>0</td>\n",
       "      <td>2</td>\n",
       "      <td>W Jaffer</td>\n",
       "      <td>...</td>\n",
       "      <td>0.2</td>\n",
       "      <td>2007/08</td>\n",
       "      <td>2008-04-18</td>\n",
       "      <td>M Chinnaswamy Stadium</td>\n",
       "      <td>2</td>\n",
       "      <td>220</td>\n",
       "      <td>118</td>\n",
       "      <td>10</td>\n",
       "      <td>6.0</td>\n",
       "      <td>11.186441</td>\n",
       "    </tr>\n",
       "    <tr>\n",
       "      <th>126</th>\n",
       "      <td>335982</td>\n",
       "      <td>Bangalore</td>\n",
       "      <td>Kolkata Knight Riders</td>\n",
       "      <td>222</td>\n",
       "      <td>2</td>\n",
       "      <td>Royal Challengers Bangalore</td>\n",
       "      <td>Kolkata Knight Riders</td>\n",
       "      <td>0</td>\n",
       "      <td>3</td>\n",
       "      <td>W Jaffer</td>\n",
       "      <td>...</td>\n",
       "      <td>0.3</td>\n",
       "      <td>2007/08</td>\n",
       "      <td>2008-04-18</td>\n",
       "      <td>M Chinnaswamy Stadium</td>\n",
       "      <td>2</td>\n",
       "      <td>220</td>\n",
       "      <td>117</td>\n",
       "      <td>10</td>\n",
       "      <td>4.0</td>\n",
       "      <td>11.282051</td>\n",
       "    </tr>\n",
       "    <tr>\n",
       "      <th>127</th>\n",
       "      <td>335982</td>\n",
       "      <td>Bangalore</td>\n",
       "      <td>Kolkata Knight Riders</td>\n",
       "      <td>222</td>\n",
       "      <td>2</td>\n",
       "      <td>Royal Challengers Bangalore</td>\n",
       "      <td>Kolkata Knight Riders</td>\n",
       "      <td>0</td>\n",
       "      <td>4</td>\n",
       "      <td>W Jaffer</td>\n",
       "      <td>...</td>\n",
       "      <td>0.4</td>\n",
       "      <td>2007/08</td>\n",
       "      <td>2008-04-18</td>\n",
       "      <td>M Chinnaswamy Stadium</td>\n",
       "      <td>3</td>\n",
       "      <td>219</td>\n",
       "      <td>116</td>\n",
       "      <td>10</td>\n",
       "      <td>4.5</td>\n",
       "      <td>11.327586</td>\n",
       "    </tr>\n",
       "    <tr>\n",
       "      <th>128</th>\n",
       "      <td>335982</td>\n",
       "      <td>Bangalore</td>\n",
       "      <td>Kolkata Knight Riders</td>\n",
       "      <td>222</td>\n",
       "      <td>2</td>\n",
       "      <td>Royal Challengers Bangalore</td>\n",
       "      <td>Kolkata Knight Riders</td>\n",
       "      <td>0</td>\n",
       "      <td>5</td>\n",
       "      <td>R Dravid</td>\n",
       "      <td>...</td>\n",
       "      <td>0.5</td>\n",
       "      <td>2007/08</td>\n",
       "      <td>2008-04-18</td>\n",
       "      <td>M Chinnaswamy Stadium</td>\n",
       "      <td>4</td>\n",
       "      <td>218</td>\n",
       "      <td>115</td>\n",
       "      <td>10</td>\n",
       "      <td>4.8</td>\n",
       "      <td>11.373913</td>\n",
       "    </tr>\n",
       "  </tbody>\n",
       "</table>\n",
       "<p>5 rows × 35 columns</p>\n",
       "</div>"
      ],
      "text/plain": [
       "     match_id       city                 winner  total_runs_x  inning  \\\n",
       "124    335982  Bangalore  Kolkata Knight Riders           222       2   \n",
       "125    335982  Bangalore  Kolkata Knight Riders           222       2   \n",
       "126    335982  Bangalore  Kolkata Knight Riders           222       2   \n",
       "127    335982  Bangalore  Kolkata Knight Riders           222       2   \n",
       "128    335982  Bangalore  Kolkata Knight Riders           222       2   \n",
       "\n",
       "                    batting_team           bowling_team  over  ball    batter  \\\n",
       "124  Royal Challengers Bangalore  Kolkata Knight Riders     0     1  R Dravid   \n",
       "125  Royal Challengers Bangalore  Kolkata Knight Riders     0     2  W Jaffer   \n",
       "126  Royal Challengers Bangalore  Kolkata Knight Riders     0     3  W Jaffer   \n",
       "127  Royal Challengers Bangalore  Kolkata Knight Riders     0     4  W Jaffer   \n",
       "128  Royal Challengers Bangalore  Kolkata Knight Riders     0     5  R Dravid   \n",
       "\n",
       "     ... over_ball   season        date                  venue  current_run  \\\n",
       "124  ...       0.1  2007/08  2008-04-18  M Chinnaswamy Stadium            1   \n",
       "125  ...       0.2  2007/08  2008-04-18  M Chinnaswamy Stadium            2   \n",
       "126  ...       0.3  2007/08  2008-04-18  M Chinnaswamy Stadium            2   \n",
       "127  ...       0.4  2007/08  2008-04-18  M Chinnaswamy Stadium            3   \n",
       "128  ...       0.5  2007/08  2008-04-18  M Chinnaswamy Stadium            4   \n",
       "\n",
       "    runs_left  balls_left wickets_left  crr         rr  \n",
       "124       221         119           10  6.0  11.142857  \n",
       "125       220         118           10  6.0  11.186441  \n",
       "126       220         117           10  4.0  11.282051  \n",
       "127       219         116           10  4.5  11.327586  \n",
       "128       218         115           10  4.8  11.373913  \n",
       "\n",
       "[5 rows x 35 columns]"
      ]
     },
     "execution_count": 44,
     "metadata": {},
     "output_type": "execute_result"
    }
   ],
   "source": [
    "deliveries_df.head()"
   ]
  },
  {
   "cell_type": "code",
   "execution_count": 45,
   "id": "be95089f",
   "metadata": {
    "execution": {
     "iopub.execute_input": "2025-04-30T16:49:30.321821Z",
     "iopub.status.busy": "2025-04-30T16:49:30.321623Z",
     "iopub.status.idle": "2025-04-30T16:49:30.324639Z",
     "shell.execute_reply": "2025-04-30T16:49:30.324182Z"
    },
    "papermill": {
     "duration": 0.023311,
     "end_time": "2025-04-30T16:49:30.325658",
     "exception": false,
     "start_time": "2025-04-30T16:49:30.302347",
     "status": "completed"
    },
    "tags": []
   },
   "outputs": [],
   "source": [
    "def result(row):\n",
    "  return 1 if row['batting_team']== row['winner'] else 0"
   ]
  },
  {
   "cell_type": "code",
   "execution_count": 46,
   "id": "d23dbca5",
   "metadata": {
    "execution": {
     "iopub.execute_input": "2025-04-30T16:49:30.361884Z",
     "iopub.status.busy": "2025-04-30T16:49:30.361489Z",
     "iopub.status.idle": "2025-04-30T16:49:30.938735Z",
     "shell.execute_reply": "2025-04-30T16:49:30.938175Z"
    },
    "papermill": {
     "duration": 0.596627,
     "end_time": "2025-04-30T16:49:30.940115",
     "exception": false,
     "start_time": "2025-04-30T16:49:30.343488",
     "status": "completed"
    },
    "tags": []
   },
   "outputs": [],
   "source": [
    "deliveries_df['result'] = deliveries_df.apply(result,axis=1)"
   ]
  },
  {
   "cell_type": "code",
   "execution_count": 47,
   "id": "b582a8b5",
   "metadata": {
    "execution": {
     "iopub.execute_input": "2025-04-30T16:49:30.981401Z",
     "iopub.status.busy": "2025-04-30T16:49:30.980782Z",
     "iopub.status.idle": "2025-04-30T16:49:30.996646Z",
     "shell.execute_reply": "2025-04-30T16:49:30.996068Z"
    },
    "papermill": {
     "duration": 0.037036,
     "end_time": "2025-04-30T16:49:30.997750",
     "exception": false,
     "start_time": "2025-04-30T16:49:30.960714",
     "status": "completed"
    },
    "tags": []
   },
   "outputs": [
    {
     "data": {
      "text/html": [
       "<div>\n",
       "<style scoped>\n",
       "    .dataframe tbody tr th:only-of-type {\n",
       "        vertical-align: middle;\n",
       "    }\n",
       "\n",
       "    .dataframe tbody tr th {\n",
       "        vertical-align: top;\n",
       "    }\n",
       "\n",
       "    .dataframe thead th {\n",
       "        text-align: right;\n",
       "    }\n",
       "</style>\n",
       "<table border=\"1\" class=\"dataframe\">\n",
       "  <thead>\n",
       "    <tr style=\"text-align: right;\">\n",
       "      <th></th>\n",
       "      <th>match_id</th>\n",
       "      <th>city</th>\n",
       "      <th>winner</th>\n",
       "      <th>total_runs_x</th>\n",
       "      <th>inning</th>\n",
       "      <th>batting_team</th>\n",
       "      <th>bowling_team</th>\n",
       "      <th>over</th>\n",
       "      <th>ball</th>\n",
       "      <th>batter</th>\n",
       "      <th>...</th>\n",
       "      <th>season</th>\n",
       "      <th>date</th>\n",
       "      <th>venue</th>\n",
       "      <th>current_run</th>\n",
       "      <th>runs_left</th>\n",
       "      <th>balls_left</th>\n",
       "      <th>wickets_left</th>\n",
       "      <th>crr</th>\n",
       "      <th>rr</th>\n",
       "      <th>result</th>\n",
       "    </tr>\n",
       "  </thead>\n",
       "  <tbody>\n",
       "    <tr>\n",
       "      <th>124</th>\n",
       "      <td>335982</td>\n",
       "      <td>Bangalore</td>\n",
       "      <td>Kolkata Knight Riders</td>\n",
       "      <td>222</td>\n",
       "      <td>2</td>\n",
       "      <td>Royal Challengers Bangalore</td>\n",
       "      <td>Kolkata Knight Riders</td>\n",
       "      <td>0</td>\n",
       "      <td>1</td>\n",
       "      <td>R Dravid</td>\n",
       "      <td>...</td>\n",
       "      <td>2007/08</td>\n",
       "      <td>2008-04-18</td>\n",
       "      <td>M Chinnaswamy Stadium</td>\n",
       "      <td>1</td>\n",
       "      <td>221</td>\n",
       "      <td>119</td>\n",
       "      <td>10</td>\n",
       "      <td>6.0</td>\n",
       "      <td>11.142857</td>\n",
       "      <td>0</td>\n",
       "    </tr>\n",
       "    <tr>\n",
       "      <th>125</th>\n",
       "      <td>335982</td>\n",
       "      <td>Bangalore</td>\n",
       "      <td>Kolkata Knight Riders</td>\n",
       "      <td>222</td>\n",
       "      <td>2</td>\n",
       "      <td>Royal Challengers Bangalore</td>\n",
       "      <td>Kolkata Knight Riders</td>\n",
       "      <td>0</td>\n",
       "      <td>2</td>\n",
       "      <td>W Jaffer</td>\n",
       "      <td>...</td>\n",
       "      <td>2007/08</td>\n",
       "      <td>2008-04-18</td>\n",
       "      <td>M Chinnaswamy Stadium</td>\n",
       "      <td>2</td>\n",
       "      <td>220</td>\n",
       "      <td>118</td>\n",
       "      <td>10</td>\n",
       "      <td>6.0</td>\n",
       "      <td>11.186441</td>\n",
       "      <td>0</td>\n",
       "    </tr>\n",
       "    <tr>\n",
       "      <th>126</th>\n",
       "      <td>335982</td>\n",
       "      <td>Bangalore</td>\n",
       "      <td>Kolkata Knight Riders</td>\n",
       "      <td>222</td>\n",
       "      <td>2</td>\n",
       "      <td>Royal Challengers Bangalore</td>\n",
       "      <td>Kolkata Knight Riders</td>\n",
       "      <td>0</td>\n",
       "      <td>3</td>\n",
       "      <td>W Jaffer</td>\n",
       "      <td>...</td>\n",
       "      <td>2007/08</td>\n",
       "      <td>2008-04-18</td>\n",
       "      <td>M Chinnaswamy Stadium</td>\n",
       "      <td>2</td>\n",
       "      <td>220</td>\n",
       "      <td>117</td>\n",
       "      <td>10</td>\n",
       "      <td>4.0</td>\n",
       "      <td>11.282051</td>\n",
       "      <td>0</td>\n",
       "    </tr>\n",
       "    <tr>\n",
       "      <th>127</th>\n",
       "      <td>335982</td>\n",
       "      <td>Bangalore</td>\n",
       "      <td>Kolkata Knight Riders</td>\n",
       "      <td>222</td>\n",
       "      <td>2</td>\n",
       "      <td>Royal Challengers Bangalore</td>\n",
       "      <td>Kolkata Knight Riders</td>\n",
       "      <td>0</td>\n",
       "      <td>4</td>\n",
       "      <td>W Jaffer</td>\n",
       "      <td>...</td>\n",
       "      <td>2007/08</td>\n",
       "      <td>2008-04-18</td>\n",
       "      <td>M Chinnaswamy Stadium</td>\n",
       "      <td>3</td>\n",
       "      <td>219</td>\n",
       "      <td>116</td>\n",
       "      <td>10</td>\n",
       "      <td>4.5</td>\n",
       "      <td>11.327586</td>\n",
       "      <td>0</td>\n",
       "    </tr>\n",
       "    <tr>\n",
       "      <th>128</th>\n",
       "      <td>335982</td>\n",
       "      <td>Bangalore</td>\n",
       "      <td>Kolkata Knight Riders</td>\n",
       "      <td>222</td>\n",
       "      <td>2</td>\n",
       "      <td>Royal Challengers Bangalore</td>\n",
       "      <td>Kolkata Knight Riders</td>\n",
       "      <td>0</td>\n",
       "      <td>5</td>\n",
       "      <td>R Dravid</td>\n",
       "      <td>...</td>\n",
       "      <td>2007/08</td>\n",
       "      <td>2008-04-18</td>\n",
       "      <td>M Chinnaswamy Stadium</td>\n",
       "      <td>4</td>\n",
       "      <td>218</td>\n",
       "      <td>115</td>\n",
       "      <td>10</td>\n",
       "      <td>4.8</td>\n",
       "      <td>11.373913</td>\n",
       "      <td>0</td>\n",
       "    </tr>\n",
       "  </tbody>\n",
       "</table>\n",
       "<p>5 rows × 36 columns</p>\n",
       "</div>"
      ],
      "text/plain": [
       "     match_id       city                 winner  total_runs_x  inning  \\\n",
       "124    335982  Bangalore  Kolkata Knight Riders           222       2   \n",
       "125    335982  Bangalore  Kolkata Knight Riders           222       2   \n",
       "126    335982  Bangalore  Kolkata Knight Riders           222       2   \n",
       "127    335982  Bangalore  Kolkata Knight Riders           222       2   \n",
       "128    335982  Bangalore  Kolkata Knight Riders           222       2   \n",
       "\n",
       "                    batting_team           bowling_team  over  ball    batter  \\\n",
       "124  Royal Challengers Bangalore  Kolkata Knight Riders     0     1  R Dravid   \n",
       "125  Royal Challengers Bangalore  Kolkata Knight Riders     0     2  W Jaffer   \n",
       "126  Royal Challengers Bangalore  Kolkata Knight Riders     0     3  W Jaffer   \n",
       "127  Royal Challengers Bangalore  Kolkata Knight Riders     0     4  W Jaffer   \n",
       "128  Royal Challengers Bangalore  Kolkata Knight Riders     0     5  R Dravid   \n",
       "\n",
       "     ...   season        date                  venue  current_run  runs_left  \\\n",
       "124  ...  2007/08  2008-04-18  M Chinnaswamy Stadium            1        221   \n",
       "125  ...  2007/08  2008-04-18  M Chinnaswamy Stadium            2        220   \n",
       "126  ...  2007/08  2008-04-18  M Chinnaswamy Stadium            2        220   \n",
       "127  ...  2007/08  2008-04-18  M Chinnaswamy Stadium            3        219   \n",
       "128  ...  2007/08  2008-04-18  M Chinnaswamy Stadium            4        218   \n",
       "\n",
       "    balls_left  wickets_left  crr         rr result  \n",
       "124        119            10  6.0  11.142857      0  \n",
       "125        118            10  6.0  11.186441      0  \n",
       "126        117            10  4.0  11.282051      0  \n",
       "127        116            10  4.5  11.327586      0  \n",
       "128        115            10  4.8  11.373913      0  \n",
       "\n",
       "[5 rows x 36 columns]"
      ]
     },
     "execution_count": 47,
     "metadata": {},
     "output_type": "execute_result"
    }
   ],
   "source": [
    "deliveries_df.head()"
   ]
  },
  {
   "cell_type": "code",
   "execution_count": 48,
   "id": "dfb02224",
   "metadata": {
    "execution": {
     "iopub.execute_input": "2025-04-30T16:49:31.035075Z",
     "iopub.status.busy": "2025-04-30T16:49:31.034688Z",
     "iopub.status.idle": "2025-04-30T16:49:31.041661Z",
     "shell.execute_reply": "2025-04-30T16:49:31.041160Z"
    },
    "papermill": {
     "duration": 0.026318,
     "end_time": "2025-04-30T16:49:31.042606",
     "exception": false,
     "start_time": "2025-04-30T16:49:31.016288",
     "status": "completed"
    },
    "tags": []
   },
   "outputs": [],
   "source": [
    "final_df= deliveries_df[[\"batting_team\",\"bowling_team\",\"city\",\"runs_left\",\"balls_left\",\"wickets_left\",\"total_runs_x\",\"crr\",\"rr\",\"result\"]]"
   ]
  },
  {
   "cell_type": "code",
   "execution_count": 49,
   "id": "5704dd16",
   "metadata": {
    "execution": {
     "iopub.execute_input": "2025-04-30T16:49:31.080482Z",
     "iopub.status.busy": "2025-04-30T16:49:31.080056Z",
     "iopub.status.idle": "2025-04-30T16:49:31.090241Z",
     "shell.execute_reply": "2025-04-30T16:49:31.089672Z"
    },
    "papermill": {
     "duration": 0.029755,
     "end_time": "2025-04-30T16:49:31.091392",
     "exception": false,
     "start_time": "2025-04-30T16:49:31.061637",
     "status": "completed"
    },
    "tags": []
   },
   "outputs": [
    {
     "data": {
      "text/html": [
       "<div>\n",
       "<style scoped>\n",
       "    .dataframe tbody tr th:only-of-type {\n",
       "        vertical-align: middle;\n",
       "    }\n",
       "\n",
       "    .dataframe tbody tr th {\n",
       "        vertical-align: top;\n",
       "    }\n",
       "\n",
       "    .dataframe thead th {\n",
       "        text-align: right;\n",
       "    }\n",
       "</style>\n",
       "<table border=\"1\" class=\"dataframe\">\n",
       "  <thead>\n",
       "    <tr style=\"text-align: right;\">\n",
       "      <th></th>\n",
       "      <th>batting_team</th>\n",
       "      <th>bowling_team</th>\n",
       "      <th>city</th>\n",
       "      <th>runs_left</th>\n",
       "      <th>balls_left</th>\n",
       "      <th>wickets_left</th>\n",
       "      <th>total_runs_x</th>\n",
       "      <th>crr</th>\n",
       "      <th>rr</th>\n",
       "      <th>result</th>\n",
       "    </tr>\n",
       "  </thead>\n",
       "  <tbody>\n",
       "    <tr>\n",
       "      <th>124</th>\n",
       "      <td>Royal Challengers Bangalore</td>\n",
       "      <td>Kolkata Knight Riders</td>\n",
       "      <td>Bangalore</td>\n",
       "      <td>221</td>\n",
       "      <td>119</td>\n",
       "      <td>10</td>\n",
       "      <td>222</td>\n",
       "      <td>6.0</td>\n",
       "      <td>11.142857</td>\n",
       "      <td>0</td>\n",
       "    </tr>\n",
       "    <tr>\n",
       "      <th>125</th>\n",
       "      <td>Royal Challengers Bangalore</td>\n",
       "      <td>Kolkata Knight Riders</td>\n",
       "      <td>Bangalore</td>\n",
       "      <td>220</td>\n",
       "      <td>118</td>\n",
       "      <td>10</td>\n",
       "      <td>222</td>\n",
       "      <td>6.0</td>\n",
       "      <td>11.186441</td>\n",
       "      <td>0</td>\n",
       "    </tr>\n",
       "    <tr>\n",
       "      <th>126</th>\n",
       "      <td>Royal Challengers Bangalore</td>\n",
       "      <td>Kolkata Knight Riders</td>\n",
       "      <td>Bangalore</td>\n",
       "      <td>220</td>\n",
       "      <td>117</td>\n",
       "      <td>10</td>\n",
       "      <td>222</td>\n",
       "      <td>4.0</td>\n",
       "      <td>11.282051</td>\n",
       "      <td>0</td>\n",
       "    </tr>\n",
       "    <tr>\n",
       "      <th>127</th>\n",
       "      <td>Royal Challengers Bangalore</td>\n",
       "      <td>Kolkata Knight Riders</td>\n",
       "      <td>Bangalore</td>\n",
       "      <td>219</td>\n",
       "      <td>116</td>\n",
       "      <td>10</td>\n",
       "      <td>222</td>\n",
       "      <td>4.5</td>\n",
       "      <td>11.327586</td>\n",
       "      <td>0</td>\n",
       "    </tr>\n",
       "    <tr>\n",
       "      <th>128</th>\n",
       "      <td>Royal Challengers Bangalore</td>\n",
       "      <td>Kolkata Knight Riders</td>\n",
       "      <td>Bangalore</td>\n",
       "      <td>218</td>\n",
       "      <td>115</td>\n",
       "      <td>10</td>\n",
       "      <td>222</td>\n",
       "      <td>4.8</td>\n",
       "      <td>11.373913</td>\n",
       "      <td>0</td>\n",
       "    </tr>\n",
       "  </tbody>\n",
       "</table>\n",
       "</div>"
      ],
      "text/plain": [
       "                    batting_team           bowling_team       city  runs_left  \\\n",
       "124  Royal Challengers Bangalore  Kolkata Knight Riders  Bangalore        221   \n",
       "125  Royal Challengers Bangalore  Kolkata Knight Riders  Bangalore        220   \n",
       "126  Royal Challengers Bangalore  Kolkata Knight Riders  Bangalore        220   \n",
       "127  Royal Challengers Bangalore  Kolkata Knight Riders  Bangalore        219   \n",
       "128  Royal Challengers Bangalore  Kolkata Knight Riders  Bangalore        218   \n",
       "\n",
       "     balls_left  wickets_left  total_runs_x  crr         rr  result  \n",
       "124         119            10           222  6.0  11.142857       0  \n",
       "125         118            10           222  6.0  11.186441       0  \n",
       "126         117            10           222  4.0  11.282051       0  \n",
       "127         116            10           222  4.5  11.327586       0  \n",
       "128         115            10           222  4.8  11.373913       0  "
      ]
     },
     "execution_count": 49,
     "metadata": {},
     "output_type": "execute_result"
    }
   ],
   "source": [
    "final_df.head()"
   ]
  },
  {
   "cell_type": "code",
   "execution_count": 50,
   "id": "18477f11",
   "metadata": {
    "execution": {
     "iopub.execute_input": "2025-04-30T16:49:31.129167Z",
     "iopub.status.busy": "2025-04-30T16:49:31.128825Z",
     "iopub.status.idle": "2025-04-30T16:49:31.155837Z",
     "shell.execute_reply": "2025-04-30T16:49:31.155095Z"
    },
    "papermill": {
     "duration": 0.047387,
     "end_time": "2025-04-30T16:49:31.156995",
     "exception": false,
     "start_time": "2025-04-30T16:49:31.109608",
     "status": "completed"
    },
    "tags": []
   },
   "outputs": [
    {
     "name": "stderr",
     "output_type": "stream",
     "text": [
      "C:\\Users\\DELL-7373\\AppData\\Local\\Temp\\ipykernel_11432\\1942946218.py:1: SettingWithCopyWarning: \n",
      "A value is trying to be set on a copy of a slice from a DataFrame\n",
      "\n",
      "See the caveats in the documentation: https://pandas.pydata.org/pandas-docs/stable/user_guide/indexing.html#returning-a-view-versus-a-copy\n",
      "  final_df.dropna(inplace=True)\n"
     ]
    }
   ],
   "source": [
    "final_df.dropna(inplace=True)\n"
   ]
  },
  {
   "cell_type": "code",
   "execution_count": 51,
   "id": "1b2f4251",
   "metadata": {
    "execution": {
     "iopub.execute_input": "2025-04-30T16:49:31.194877Z",
     "iopub.status.busy": "2025-04-30T16:49:31.194681Z",
     "iopub.status.idle": "2025-04-30T16:49:31.204410Z",
     "shell.execute_reply": "2025-04-30T16:49:31.203686Z"
    },
    "papermill": {
     "duration": 0.029505,
     "end_time": "2025-04-30T16:49:31.205668",
     "exception": false,
     "start_time": "2025-04-30T16:49:31.176163",
     "status": "completed"
    },
    "tags": []
   },
   "outputs": [],
   "source": [
    "final_df=final_df[final_df[\"balls_left\"]!=0]\n"
   ]
  },
  {
   "cell_type": "code",
   "execution_count": 52,
   "id": "18421e41",
   "metadata": {
    "execution": {
     "iopub.execute_input": "2025-04-30T16:49:31.247163Z",
     "iopub.status.busy": "2025-04-30T16:49:31.246737Z",
     "iopub.status.idle": "2025-04-30T16:49:31.256326Z",
     "shell.execute_reply": "2025-04-30T16:49:31.255668Z"
    },
    "papermill": {
     "duration": 0.031544,
     "end_time": "2025-04-30T16:49:31.257532",
     "exception": false,
     "start_time": "2025-04-30T16:49:31.225988",
     "status": "completed"
    },
    "tags": []
   },
   "outputs": [
    {
     "data": {
      "text/html": [
       "<div>\n",
       "<style scoped>\n",
       "    .dataframe tbody tr th:only-of-type {\n",
       "        vertical-align: middle;\n",
       "    }\n",
       "\n",
       "    .dataframe tbody tr th {\n",
       "        vertical-align: top;\n",
       "    }\n",
       "\n",
       "    .dataframe thead th {\n",
       "        text-align: right;\n",
       "    }\n",
       "</style>\n",
       "<table border=\"1\" class=\"dataframe\">\n",
       "  <thead>\n",
       "    <tr style=\"text-align: right;\">\n",
       "      <th></th>\n",
       "      <th>batting_team</th>\n",
       "      <th>bowling_team</th>\n",
       "      <th>city</th>\n",
       "      <th>runs_left</th>\n",
       "      <th>balls_left</th>\n",
       "      <th>wickets_left</th>\n",
       "      <th>total_runs_x</th>\n",
       "      <th>crr</th>\n",
       "      <th>rr</th>\n",
       "      <th>result</th>\n",
       "    </tr>\n",
       "  </thead>\n",
       "  <tbody>\n",
       "    <tr>\n",
       "      <th>124</th>\n",
       "      <td>Royal Challengers Bangalore</td>\n",
       "      <td>Kolkata Knight Riders</td>\n",
       "      <td>Bangalore</td>\n",
       "      <td>221</td>\n",
       "      <td>119</td>\n",
       "      <td>10</td>\n",
       "      <td>222</td>\n",
       "      <td>6.0</td>\n",
       "      <td>11.142857</td>\n",
       "      <td>0</td>\n",
       "    </tr>\n",
       "    <tr>\n",
       "      <th>125</th>\n",
       "      <td>Royal Challengers Bangalore</td>\n",
       "      <td>Kolkata Knight Riders</td>\n",
       "      <td>Bangalore</td>\n",
       "      <td>220</td>\n",
       "      <td>118</td>\n",
       "      <td>10</td>\n",
       "      <td>222</td>\n",
       "      <td>6.0</td>\n",
       "      <td>11.186441</td>\n",
       "      <td>0</td>\n",
       "    </tr>\n",
       "    <tr>\n",
       "      <th>126</th>\n",
       "      <td>Royal Challengers Bangalore</td>\n",
       "      <td>Kolkata Knight Riders</td>\n",
       "      <td>Bangalore</td>\n",
       "      <td>220</td>\n",
       "      <td>117</td>\n",
       "      <td>10</td>\n",
       "      <td>222</td>\n",
       "      <td>4.0</td>\n",
       "      <td>11.282051</td>\n",
       "      <td>0</td>\n",
       "    </tr>\n",
       "    <tr>\n",
       "      <th>127</th>\n",
       "      <td>Royal Challengers Bangalore</td>\n",
       "      <td>Kolkata Knight Riders</td>\n",
       "      <td>Bangalore</td>\n",
       "      <td>219</td>\n",
       "      <td>116</td>\n",
       "      <td>10</td>\n",
       "      <td>222</td>\n",
       "      <td>4.5</td>\n",
       "      <td>11.327586</td>\n",
       "      <td>0</td>\n",
       "    </tr>\n",
       "    <tr>\n",
       "      <th>128</th>\n",
       "      <td>Royal Challengers Bangalore</td>\n",
       "      <td>Kolkata Knight Riders</td>\n",
       "      <td>Bangalore</td>\n",
       "      <td>218</td>\n",
       "      <td>115</td>\n",
       "      <td>10</td>\n",
       "      <td>222</td>\n",
       "      <td>4.8</td>\n",
       "      <td>11.373913</td>\n",
       "      <td>0</td>\n",
       "    </tr>\n",
       "  </tbody>\n",
       "</table>\n",
       "</div>"
      ],
      "text/plain": [
       "                    batting_team           bowling_team       city  runs_left  \\\n",
       "124  Royal Challengers Bangalore  Kolkata Knight Riders  Bangalore        221   \n",
       "125  Royal Challengers Bangalore  Kolkata Knight Riders  Bangalore        220   \n",
       "126  Royal Challengers Bangalore  Kolkata Knight Riders  Bangalore        220   \n",
       "127  Royal Challengers Bangalore  Kolkata Knight Riders  Bangalore        219   \n",
       "128  Royal Challengers Bangalore  Kolkata Knight Riders  Bangalore        218   \n",
       "\n",
       "     balls_left  wickets_left  total_runs_x  crr         rr  result  \n",
       "124         119            10           222  6.0  11.142857       0  \n",
       "125         118            10           222  6.0  11.186441       0  \n",
       "126         117            10           222  4.0  11.282051       0  \n",
       "127         116            10           222  4.5  11.327586       0  \n",
       "128         115            10           222  4.8  11.373913       0  "
      ]
     },
     "execution_count": 52,
     "metadata": {},
     "output_type": "execute_result"
    }
   ],
   "source": [
    "final_df.head()"
   ]
  },
  {
   "cell_type": "code",
   "execution_count": 53,
   "id": "55fc8025",
   "metadata": {
    "execution": {
     "iopub.execute_input": "2025-04-30T16:49:31.296065Z",
     "iopub.status.busy": "2025-04-30T16:49:31.295841Z",
     "iopub.status.idle": "2025-04-30T16:49:31.299235Z",
     "shell.execute_reply": "2025-04-30T16:49:31.298706Z"
    },
    "papermill": {
     "duration": 0.023862,
     "end_time": "2025-04-30T16:49:31.300299",
     "exception": false,
     "start_time": "2025-04-30T16:49:31.276437",
     "status": "completed"
    },
    "tags": []
   },
   "outputs": [],
   "source": [
    "batting = final_df['batting_team']\n",
    "bowling = final_df['bowling_team']\n",
    "city = final_df['city']"
   ]
  },
  {
   "cell_type": "code",
   "execution_count": 54,
   "id": "b0714490",
   "metadata": {
    "execution": {
     "iopub.execute_input": "2025-04-30T16:49:31.339059Z",
     "iopub.status.busy": "2025-04-30T16:49:31.338868Z",
     "iopub.status.idle": "2025-04-30T16:49:31.343855Z",
     "shell.execute_reply": "2025-04-30T16:49:31.343339Z"
    },
    "papermill": {
     "duration": 0.025282,
     "end_time": "2025-04-30T16:49:31.344971",
     "exception": false,
     "start_time": "2025-04-30T16:49:31.319689",
     "status": "completed"
    },
    "tags": []
   },
   "outputs": [
    {
     "data": {
      "text/plain": [
       "124       Royal Challengers Bangalore\n",
       "125       Royal Challengers Bangalore\n",
       "126       Royal Challengers Bangalore\n",
       "127       Royal Challengers Bangalore\n",
       "128       Royal Challengers Bangalore\n",
       "                     ...             \n",
       "192237          Kolkata Knight Riders\n",
       "192238          Kolkata Knight Riders\n",
       "192239          Kolkata Knight Riders\n",
       "192240          Kolkata Knight Riders\n",
       "192241          Kolkata Knight Riders\n",
       "Name: batting_team, Length: 87885, dtype: object"
      ]
     },
     "execution_count": 54,
     "metadata": {},
     "output_type": "execute_result"
    }
   ],
   "source": [
    "batting"
   ]
  },
  {
   "cell_type": "markdown",
   "id": "80284323",
   "metadata": {
    "papermill": {
     "duration": 0.01957,
     "end_time": "2025-04-30T16:49:31.385191",
     "exception": false,
     "start_time": "2025-04-30T16:49:31.365621",
     "status": "completed"
    },
    "tags": []
   },
   "source": [
    "**Converting non numeric into numeric columns**"
   ]
  },
  {
   "cell_type": "code",
   "execution_count": 55,
   "id": "811bbac6",
   "metadata": {
    "execution": {
     "iopub.execute_input": "2025-04-30T16:49:31.425053Z",
     "iopub.status.busy": "2025-04-30T16:49:31.424855Z",
     "iopub.status.idle": "2025-04-30T16:49:31.696602Z",
     "shell.execute_reply": "2025-04-30T16:49:31.696061Z"
    },
    "papermill": {
     "duration": 0.293578,
     "end_time": "2025-04-30T16:49:31.697891",
     "exception": false,
     "start_time": "2025-04-30T16:49:31.404313",
     "status": "completed"
    },
    "tags": []
   },
   "outputs": [],
   "source": [
    "from sklearn.preprocessing import StandardScaler, LabelEncoder"
   ]
  },
  {
   "cell_type": "code",
   "execution_count": 56,
   "id": "d58d3c3b",
   "metadata": {
    "execution": {
     "iopub.execute_input": "2025-04-30T16:49:31.736407Z",
     "iopub.status.busy": "2025-04-30T16:49:31.736156Z",
     "iopub.status.idle": "2025-04-30T16:49:31.785409Z",
     "shell.execute_reply": "2025-04-30T16:49:31.784841Z"
    },
    "papermill": {
     "duration": 0.069584,
     "end_time": "2025-04-30T16:49:31.786562",
     "exception": false,
     "start_time": "2025-04-30T16:49:31.716978",
     "status": "completed"
    },
    "tags": []
   },
   "outputs": [],
   "source": [
    "categorical_cols = final_df.select_dtypes(include=['object']).columns\n",
    "for col in categorical_cols:\n",
    "    encoder = LabelEncoder()\n",
    "    final_df[col] = encoder.fit_transform(final_df[col])"
   ]
  },
  {
   "cell_type": "code",
   "execution_count": 57,
   "id": "a5b0ecbd",
   "metadata": {
    "execution": {
     "iopub.execute_input": "2025-04-30T16:49:31.825196Z",
     "iopub.status.busy": "2025-04-30T16:49:31.824961Z",
     "iopub.status.idle": "2025-04-30T16:49:31.833805Z",
     "shell.execute_reply": "2025-04-30T16:49:31.833284Z"
    },
    "papermill": {
     "duration": 0.028434,
     "end_time": "2025-04-30T16:49:31.834735",
     "exception": false,
     "start_time": "2025-04-30T16:49:31.806301",
     "status": "completed"
    },
    "tags": []
   },
   "outputs": [
    {
     "data": {
      "text/html": [
       "<div>\n",
       "<style scoped>\n",
       "    .dataframe tbody tr th:only-of-type {\n",
       "        vertical-align: middle;\n",
       "    }\n",
       "\n",
       "    .dataframe tbody tr th {\n",
       "        vertical-align: top;\n",
       "    }\n",
       "\n",
       "    .dataframe thead th {\n",
       "        text-align: right;\n",
       "    }\n",
       "</style>\n",
       "<table border=\"1\" class=\"dataframe\">\n",
       "  <thead>\n",
       "    <tr style=\"text-align: right;\">\n",
       "      <th></th>\n",
       "      <th>batting_team</th>\n",
       "      <th>bowling_team</th>\n",
       "      <th>city</th>\n",
       "      <th>runs_left</th>\n",
       "      <th>balls_left</th>\n",
       "      <th>wickets_left</th>\n",
       "      <th>total_runs_x</th>\n",
       "      <th>crr</th>\n",
       "      <th>rr</th>\n",
       "      <th>result</th>\n",
       "    </tr>\n",
       "  </thead>\n",
       "  <tbody>\n",
       "    <tr>\n",
       "      <th>124</th>\n",
       "      <td>10</td>\n",
       "      <td>5</td>\n",
       "      <td>2</td>\n",
       "      <td>221</td>\n",
       "      <td>119</td>\n",
       "      <td>10</td>\n",
       "      <td>222</td>\n",
       "      <td>6.0</td>\n",
       "      <td>11.142857</td>\n",
       "      <td>0</td>\n",
       "    </tr>\n",
       "    <tr>\n",
       "      <th>125</th>\n",
       "      <td>10</td>\n",
       "      <td>5</td>\n",
       "      <td>2</td>\n",
       "      <td>220</td>\n",
       "      <td>118</td>\n",
       "      <td>10</td>\n",
       "      <td>222</td>\n",
       "      <td>6.0</td>\n",
       "      <td>11.186441</td>\n",
       "      <td>0</td>\n",
       "    </tr>\n",
       "    <tr>\n",
       "      <th>126</th>\n",
       "      <td>10</td>\n",
       "      <td>5</td>\n",
       "      <td>2</td>\n",
       "      <td>220</td>\n",
       "      <td>117</td>\n",
       "      <td>10</td>\n",
       "      <td>222</td>\n",
       "      <td>4.0</td>\n",
       "      <td>11.282051</td>\n",
       "      <td>0</td>\n",
       "    </tr>\n",
       "    <tr>\n",
       "      <th>127</th>\n",
       "      <td>10</td>\n",
       "      <td>5</td>\n",
       "      <td>2</td>\n",
       "      <td>219</td>\n",
       "      <td>116</td>\n",
       "      <td>10</td>\n",
       "      <td>222</td>\n",
       "      <td>4.5</td>\n",
       "      <td>11.327586</td>\n",
       "      <td>0</td>\n",
       "    </tr>\n",
       "    <tr>\n",
       "      <th>128</th>\n",
       "      <td>10</td>\n",
       "      <td>5</td>\n",
       "      <td>2</td>\n",
       "      <td>218</td>\n",
       "      <td>115</td>\n",
       "      <td>10</td>\n",
       "      <td>222</td>\n",
       "      <td>4.8</td>\n",
       "      <td>11.373913</td>\n",
       "      <td>0</td>\n",
       "    </tr>\n",
       "  </tbody>\n",
       "</table>\n",
       "</div>"
      ],
      "text/plain": [
       "     batting_team  bowling_team  city  runs_left  balls_left  wickets_left  \\\n",
       "124            10             5     2        221         119            10   \n",
       "125            10             5     2        220         118            10   \n",
       "126            10             5     2        220         117            10   \n",
       "127            10             5     2        219         116            10   \n",
       "128            10             5     2        218         115            10   \n",
       "\n",
       "     total_runs_x  crr         rr  result  \n",
       "124           222  6.0  11.142857       0  \n",
       "125           222  6.0  11.186441       0  \n",
       "126           222  4.0  11.282051       0  \n",
       "127           222  4.5  11.327586       0  \n",
       "128           222  4.8  11.373913       0  "
      ]
     },
     "execution_count": 57,
     "metadata": {},
     "output_type": "execute_result"
    }
   ],
   "source": [
    "final_df.head()"
   ]
  },
  {
   "cell_type": "markdown",
   "id": "703f4990",
   "metadata": {
    "papermill": {
     "duration": 0.017722,
     "end_time": "2025-04-30T16:49:31.870707",
     "exception": false,
     "start_time": "2025-04-30T16:49:31.852985",
     "status": "completed"
    },
    "tags": []
   },
   "source": [
    "**Scaling**"
   ]
  },
  {
   "cell_type": "code",
   "execution_count": 58,
   "id": "3a3830e2",
   "metadata": {
    "execution": {
     "iopub.execute_input": "2025-04-30T16:49:31.908760Z",
     "iopub.status.busy": "2025-04-30T16:49:31.908547Z",
     "iopub.status.idle": "2025-04-30T16:49:31.914109Z",
     "shell.execute_reply": "2025-04-30T16:49:31.913651Z"
    },
    "papermill": {
     "duration": 0.025719,
     "end_time": "2025-04-30T16:49:31.915082",
     "exception": false,
     "start_time": "2025-04-30T16:49:31.889363",
     "status": "completed"
    },
    "tags": []
   },
   "outputs": [],
   "source": [
    "\n",
    "X = final_df.iloc[:,:-1]\n",
    "y= final_df.iloc[:,-1]"
   ]
  },
  {
   "cell_type": "code",
   "execution_count": 59,
   "id": "0ed789f3",
   "metadata": {
    "execution": {
     "iopub.execute_input": "2025-04-30T16:49:31.953001Z",
     "iopub.status.busy": "2025-04-30T16:49:31.952712Z",
     "iopub.status.idle": "2025-04-30T16:49:31.993960Z",
     "shell.execute_reply": "2025-04-30T16:49:31.993401Z"
    },
    "papermill": {
     "duration": 0.061133,
     "end_time": "2025-04-30T16:49:31.995081",
     "exception": false,
     "start_time": "2025-04-30T16:49:31.933948",
     "status": "completed"
    },
    "tags": []
   },
   "outputs": [],
   "source": [
    "scaler = StandardScaler()\n",
    "numerical_cols = X.select_dtypes(include=['float64', 'int64']).columns\n",
    "X[numerical_cols] = scaler.fit_transform(X[numerical_cols])"
   ]
  },
  {
   "cell_type": "code",
   "execution_count": 60,
   "id": "6bd1960b",
   "metadata": {
    "execution": {
     "iopub.execute_input": "2025-04-30T16:49:32.034257Z",
     "iopub.status.busy": "2025-04-30T16:49:32.033806Z",
     "iopub.status.idle": "2025-04-30T16:49:32.037312Z",
     "shell.execute_reply": "2025-04-30T16:49:32.036775Z"
    },
    "papermill": {
     "duration": 0.023774,
     "end_time": "2025-04-30T16:49:32.038369",
     "exception": false,
     "start_time": "2025-04-30T16:49:32.014595",
     "status": "completed"
    },
    "tags": []
   },
   "outputs": [],
   "source": [
    "import pickle\n",
    "pickle.dump(scaler, open(\"scaler.pkl\",'wb'))"
   ]
  },
  {
   "cell_type": "code",
   "execution_count": 61,
   "id": "7fcb62dc",
   "metadata": {
    "execution": {
     "iopub.execute_input": "2025-04-30T16:49:32.077501Z",
     "iopub.status.busy": "2025-04-30T16:49:32.076869Z",
     "iopub.status.idle": "2025-04-30T16:49:32.086783Z",
     "shell.execute_reply": "2025-04-30T16:49:32.086196Z"
    },
    "papermill": {
     "duration": 0.030046,
     "end_time": "2025-04-30T16:49:32.087739",
     "exception": false,
     "start_time": "2025-04-30T16:49:32.057693",
     "status": "completed"
    },
    "tags": []
   },
   "outputs": [
    {
     "data": {
      "text/html": [
       "<div>\n",
       "<style scoped>\n",
       "    .dataframe tbody tr th:only-of-type {\n",
       "        vertical-align: middle;\n",
       "    }\n",
       "\n",
       "    .dataframe tbody tr th {\n",
       "        vertical-align: top;\n",
       "    }\n",
       "\n",
       "    .dataframe thead th {\n",
       "        text-align: right;\n",
       "    }\n",
       "</style>\n",
       "<table border=\"1\" class=\"dataframe\">\n",
       "  <thead>\n",
       "    <tr style=\"text-align: right;\">\n",
       "      <th></th>\n",
       "      <th>batting_team</th>\n",
       "      <th>bowling_team</th>\n",
       "      <th>city</th>\n",
       "      <th>runs_left</th>\n",
       "      <th>balls_left</th>\n",
       "      <th>wickets_left</th>\n",
       "      <th>total_runs_x</th>\n",
       "      <th>crr</th>\n",
       "      <th>rr</th>\n",
       "    </tr>\n",
       "  </thead>\n",
       "  <tbody>\n",
       "    <tr>\n",
       "      <th>124</th>\n",
       "      <td>1.050164</td>\n",
       "      <td>-0.269023</td>\n",
       "      <td>-1.474843</td>\n",
       "      <td>2.495814</td>\n",
       "      <td>1.684522</td>\n",
       "      <td>1.149667</td>\n",
       "      <td>1.714586</td>\n",
       "      <td>-0.683195</td>\n",
       "      <td>0.049441</td>\n",
       "    </tr>\n",
       "    <tr>\n",
       "      <th>125</th>\n",
       "      <td>1.050164</td>\n",
       "      <td>-0.269023</td>\n",
       "      <td>-1.474843</td>\n",
       "      <td>2.476173</td>\n",
       "      <td>1.654478</td>\n",
       "      <td>1.149667</td>\n",
       "      <td>1.714586</td>\n",
       "      <td>-0.683195</td>\n",
       "      <td>0.052674</td>\n",
       "    </tr>\n",
       "    <tr>\n",
       "      <th>126</th>\n",
       "      <td>1.050164</td>\n",
       "      <td>-0.269023</td>\n",
       "      <td>-1.474843</td>\n",
       "      <td>2.476173</td>\n",
       "      <td>1.624435</td>\n",
       "      <td>1.149667</td>\n",
       "      <td>1.714586</td>\n",
       "      <td>-1.519806</td>\n",
       "      <td>0.059766</td>\n",
       "    </tr>\n",
       "    <tr>\n",
       "      <th>127</th>\n",
       "      <td>1.050164</td>\n",
       "      <td>-0.269023</td>\n",
       "      <td>-1.474843</td>\n",
       "      <td>2.456532</td>\n",
       "      <td>1.594391</td>\n",
       "      <td>1.149667</td>\n",
       "      <td>1.714586</td>\n",
       "      <td>-1.310653</td>\n",
       "      <td>0.063144</td>\n",
       "    </tr>\n",
       "    <tr>\n",
       "      <th>128</th>\n",
       "      <td>1.050164</td>\n",
       "      <td>-0.269023</td>\n",
       "      <td>-1.474843</td>\n",
       "      <td>2.436891</td>\n",
       "      <td>1.564347</td>\n",
       "      <td>1.149667</td>\n",
       "      <td>1.714586</td>\n",
       "      <td>-1.185161</td>\n",
       "      <td>0.066581</td>\n",
       "    </tr>\n",
       "  </tbody>\n",
       "</table>\n",
       "</div>"
      ],
      "text/plain": [
       "     batting_team  bowling_team      city  runs_left  balls_left  \\\n",
       "124      1.050164     -0.269023 -1.474843   2.495814    1.684522   \n",
       "125      1.050164     -0.269023 -1.474843   2.476173    1.654478   \n",
       "126      1.050164     -0.269023 -1.474843   2.476173    1.624435   \n",
       "127      1.050164     -0.269023 -1.474843   2.456532    1.594391   \n",
       "128      1.050164     -0.269023 -1.474843   2.436891    1.564347   \n",
       "\n",
       "     wickets_left  total_runs_x       crr        rr  \n",
       "124      1.149667      1.714586 -0.683195  0.049441  \n",
       "125      1.149667      1.714586 -0.683195  0.052674  \n",
       "126      1.149667      1.714586 -1.519806  0.059766  \n",
       "127      1.149667      1.714586 -1.310653  0.063144  \n",
       "128      1.149667      1.714586 -1.185161  0.066581  "
      ]
     },
     "execution_count": 61,
     "metadata": {},
     "output_type": "execute_result"
    }
   ],
   "source": [
    "X.head()"
   ]
  },
  {
   "cell_type": "code",
   "execution_count": 62,
   "id": "41ef9a89",
   "metadata": {
    "execution": {
     "iopub.execute_input": "2025-04-30T16:49:32.125949Z",
     "iopub.status.busy": "2025-04-30T16:49:32.125508Z",
     "iopub.status.idle": "2025-04-30T16:49:32.129089Z",
     "shell.execute_reply": "2025-04-30T16:49:32.128458Z"
    },
    "papermill": {
     "duration": 0.023826,
     "end_time": "2025-04-30T16:49:32.130208",
     "exception": false,
     "start_time": "2025-04-30T16:49:32.106382",
     "status": "completed"
    },
    "tags": []
   },
   "outputs": [],
   "source": [
    "batting1 = X['batting_team']\n",
    "bowling1 = X['bowling_team']\n",
    "city1 = X['city']"
   ]
  },
  {
   "cell_type": "code",
   "execution_count": 63,
   "id": "735e4b3a",
   "metadata": {
    "execution": {
     "iopub.execute_input": "2025-04-30T16:49:32.169145Z",
     "iopub.status.busy": "2025-04-30T16:49:32.168630Z",
     "iopub.status.idle": "2025-04-30T16:49:32.174685Z",
     "shell.execute_reply": "2025-04-30T16:49:32.173977Z"
    },
    "papermill": {
     "duration": 0.026897,
     "end_time": "2025-04-30T16:49:32.175696",
     "exception": false,
     "start_time": "2025-04-30T16:49:32.148799",
     "status": "completed"
    },
    "tags": []
   },
   "outputs": [
    {
     "name": "stdout",
     "output_type": "stream",
     "text": [
      "                                  1         2\n",
      "124     Royal Challengers Bangalore  1.050164\n",
      "125     Royal Challengers Bangalore  1.050164\n",
      "126     Royal Challengers Bangalore  1.050164\n",
      "127     Royal Challengers Bangalore  1.050164\n",
      "128     Royal Challengers Bangalore  1.050164\n",
      "...                             ...       ...\n",
      "192237        Kolkata Knight Riders -0.295495\n",
      "192238        Kolkata Knight Riders -0.295495\n",
      "192239        Kolkata Knight Riders -0.295495\n",
      "192240        Kolkata Knight Riders -0.295495\n",
      "192241        Kolkata Knight Riders -0.295495\n",
      "\n",
      "[87885 rows x 2 columns]\n"
     ]
    }
   ],
   "source": [
    "data = {\n",
    "    '1': batting,\n",
    "    '2': batting1,\n",
    "\n",
    "}\n",
    "\n",
    "df1 = pd.DataFrame(data)\n",
    "\n",
    "print(df1)"
   ]
  },
  {
   "cell_type": "code",
   "execution_count": 64,
   "id": "7b91bcce",
   "metadata": {
    "execution": {
     "iopub.execute_input": "2025-04-30T16:49:32.216274Z",
     "iopub.status.busy": "2025-04-30T16:49:32.215823Z",
     "iopub.status.idle": "2025-04-30T16:49:32.224112Z",
     "shell.execute_reply": "2025-04-30T16:49:32.223462Z"
    },
    "papermill": {
     "duration": 0.028906,
     "end_time": "2025-04-30T16:49:32.225100",
     "exception": false,
     "start_time": "2025-04-30T16:49:32.196194",
     "status": "completed"
    },
    "tags": []
   },
   "outputs": [
    {
     "data": {
      "text/plain": [
       "array(['Royal Challengers Bangalore', 'Delhi Daredevils',\n",
       "       'Kolkata Knight Riders', 'Mumbai Indians', 'Rajasthan Royals',\n",
       "       'Chennai Super Kings', 'Deccan Chargers', 'Sunrisers Hyderabad',\n",
       "       'Delhi Capitals', 'Punjab Kings', 'Gujarat Titans',\n",
       "       'Lucknow Super Giants', 'Royal Challengers Bengaluru'],\n",
       "      dtype=object)"
      ]
     },
     "execution_count": 64,
     "metadata": {},
     "output_type": "execute_result"
    }
   ],
   "source": [
    "df1['1'].unique()"
   ]
  },
  {
   "cell_type": "code",
   "execution_count": 65,
   "id": "7b5f8ec2",
   "metadata": {
    "execution": {
     "iopub.execute_input": "2025-04-30T16:49:32.263241Z",
     "iopub.status.busy": "2025-04-30T16:49:32.263040Z",
     "iopub.status.idle": "2025-04-30T16:49:32.269093Z",
     "shell.execute_reply": "2025-04-30T16:49:32.268321Z"
    },
    "papermill": {
     "duration": 0.026491,
     "end_time": "2025-04-30T16:49:32.270162",
     "exception": false,
     "start_time": "2025-04-30T16:49:32.243671",
     "status": "completed"
    },
    "tags": []
   },
   "outputs": [
    {
     "name": "stdout",
     "output_type": "stream",
     "text": [
      "                            1         2\n",
      "124     Kolkata Knight Riders -0.269023\n",
      "125     Kolkata Knight Riders -0.269023\n",
      "126     Kolkata Knight Riders -0.269023\n",
      "127     Kolkata Knight Riders -0.269023\n",
      "128     Kolkata Knight Riders -0.269023\n",
      "...                       ...       ...\n",
      "192237    Sunrisers Hyderabad  1.554725\n",
      "192238    Sunrisers Hyderabad  1.554725\n",
      "192239    Sunrisers Hyderabad  1.554725\n",
      "192240    Sunrisers Hyderabad  1.554725\n",
      "192241    Sunrisers Hyderabad  1.554725\n",
      "\n",
      "[87885 rows x 2 columns]\n"
     ]
    }
   ],
   "source": [
    "data = {\n",
    "    '1': bowling,\n",
    "    '2': bowling1,\n",
    "\n",
    "}\n",
    "\n",
    "df2 = pd.DataFrame(data)\n",
    "\n",
    "print(df2)"
   ]
  },
  {
   "cell_type": "code",
   "execution_count": 66,
   "id": "ad0fed81",
   "metadata": {
    "execution": {
     "iopub.execute_input": "2025-04-30T16:49:32.308797Z",
     "iopub.status.busy": "2025-04-30T16:49:32.308607Z",
     "iopub.status.idle": "2025-04-30T16:49:32.314702Z",
     "shell.execute_reply": "2025-04-30T16:49:32.314080Z"
    },
    "papermill": {
     "duration": 0.02626,
     "end_time": "2025-04-30T16:49:32.315691",
     "exception": false,
     "start_time": "2025-04-30T16:49:32.289431",
     "status": "completed"
    },
    "tags": []
   },
   "outputs": [
    {
     "name": "stdout",
     "output_type": "stream",
     "text": [
      "                1         2\n",
      "124     Bangalore -1.474843\n",
      "125     Bangalore -1.474843\n",
      "126     Bangalore -1.474843\n",
      "127     Bangalore -1.474843\n",
      "128     Bangalore -1.474843\n",
      "...           ...       ...\n",
      "192237    Chennai -0.775839\n",
      "192238    Chennai -0.775839\n",
      "192239    Chennai -0.775839\n",
      "192240    Chennai -0.775839\n",
      "192241    Chennai -0.775839\n",
      "\n",
      "[87885 rows x 2 columns]\n"
     ]
    }
   ],
   "source": [
    "data = {\n",
    "    '1': city,\n",
    "    '2': city1,\n",
    "\n",
    "}\n",
    "\n",
    "df3 = pd.DataFrame(data)\n",
    "\n",
    "print(df3)"
   ]
  },
  {
   "cell_type": "code",
   "execution_count": 67,
   "id": "18028cb1",
   "metadata": {
    "execution": {
     "iopub.execute_input": "2025-04-30T16:49:32.357889Z",
     "iopub.status.busy": "2025-04-30T16:49:32.357685Z",
     "iopub.status.idle": "2025-04-30T16:49:32.376883Z",
     "shell.execute_reply": "2025-04-30T16:49:32.376063Z"
    },
    "papermill": {
     "duration": 0.040637,
     "end_time": "2025-04-30T16:49:32.378066",
     "exception": false,
     "start_time": "2025-04-30T16:49:32.337429",
     "status": "completed"
    },
    "tags": []
   },
   "outputs": [
    {
     "name": "stdout",
     "output_type": "stream",
     "text": [
      "{'Royal Challengers Bangalore': 1.0501639183034202, 'Delhi Daredevils': -0.8337590624730994, 'Kolkata Knight Riders': -0.29549535367980806, 'Mumbai Indians': 0.24276835511348324, 'Rajasthan Royals': 0.7810320639067745, 'Chennai Super Kings': -1.6411546256630363, 'Deccan Chargers': -1.3720227712663906, 'Sunrisers Hyderabad': 1.5884276270967115, 'Delhi Capitals': -1.102890916869745, 'Punjab Kings': 0.5119002095101288, 'Gujarat Titans': -0.5646272080764537, 'Lucknow Super Giants': -0.026363499283162412, 'Royal Challengers Bengaluru': 1.3192957727000658}\n"
     ]
    }
   ],
   "source": [
    "\n",
    "\n",
    "# Convert the DataFrame to a dictionary\n",
    "dictionary1 = df1.set_index('1')['2'].to_dict()\n",
    "\n",
    "print(dictionary1)"
   ]
  },
  {
   "cell_type": "code",
   "execution_count": 68,
   "id": "bec65eb4",
   "metadata": {
    "execution": {
     "iopub.execute_input": "2025-04-30T16:49:32.421017Z",
     "iopub.status.busy": "2025-04-30T16:49:32.420782Z",
     "iopub.status.idle": "2025-04-30T16:49:32.450395Z",
     "shell.execute_reply": "2025-04-30T16:49:32.449451Z"
    },
    "papermill": {
     "duration": 0.054008,
     "end_time": "2025-04-30T16:49:32.452085",
     "exception": false,
     "start_time": "2025-04-30T16:49:32.398077",
     "status": "completed"
    },
    "tags": []
   },
   "outputs": [
    {
     "name": "stdout",
     "output_type": "stream",
     "text": [
      "{'Kolkata Knight Riders': -0.2690228174973648, 'Rajasthan Royals': 0.7731189516107543, 'Mumbai Indians': 0.25204806705669475, 'Deccan Chargers': -1.3111645866054837, 'Chennai Super Kings': -1.5717000288825136, 'Royal Challengers Bangalore': 1.033654393887784, 'Delhi Daredevils': -0.7900937020514243, 'Sunrisers Hyderabad': 1.5547252784418435, 'Delhi Capitals': -1.0506291443284541, 'Punjab Kings': 0.5125835093337245, 'Lucknow Super Giants': -0.008487375220335028, 'Gujarat Titans': -0.5295582597743945, 'Royal Challengers Bengaluru': 1.2941898361648139}\n"
     ]
    }
   ],
   "source": [
    "# Convert the DataFrame to a dictionary\n",
    "dictionary2 = df2.set_index('1')['2'].to_dict()\n",
    "\n",
    "print(dictionary2)"
   ]
  },
  {
   "cell_type": "code",
   "execution_count": 69,
   "id": "0c8ce639",
   "metadata": {
    "execution": {
     "iopub.execute_input": "2025-04-30T16:49:32.507041Z",
     "iopub.status.busy": "2025-04-30T16:49:32.506821Z",
     "iopub.status.idle": "2025-04-30T16:49:32.526598Z",
     "shell.execute_reply": "2025-04-30T16:49:32.525980Z"
    },
    "papermill": {
     "duration": 0.041913,
     "end_time": "2025-04-30T16:49:32.527691",
     "exception": false,
     "start_time": "2025-04-30T16:49:32.485778",
     "status": "completed"
    },
    "tags": []
   },
   "outputs": [
    {
     "name": "stdout",
     "output_type": "stream",
     "text": [
      "{'Bangalore': -1.4748428504565294, 'Delhi': -0.5428382168256213, 'Mumbai': 0.9716693128246044, 'Kolkata': 0.6221675752130139, 'Hyderabad': 0.15616525839755982, 'Chennai': -0.7758393752333483, 'Jaipur': 0.2726658376014233, 'Cape Town': -1.1253411128449389, 'Port Elizabeth': 1.321171050436195, 'Durban': -0.19333647921403074, 'Centurion': -1.0088405336410753, 'East London': -0.07683590001016721, 'Johannesburg': 0.38916641680528685, 'Kimberley': 0.5056669960091503, 'Bloemfontein': -1.2418416920488025, 'Ahmedabad': -1.591343429660393, 'Cuttack': -0.6593387960294848, 'Nagpur': 1.088169892028468, 'Visakhapatnam': 1.9036739464555124, 'Pune': 1.4376716296400585, 'Raipur': 1.554172208843922, 'Ranchi': 1.6706727880477856, 'Abu Dhabi': -1.7078440088642566, 'Bengaluru': -1.3583422712526658, 'Dubai': -0.3098370584178943, 'Sharjah': 1.787173367251649, 'Navi Mumbai': 1.2046704712323315, 'Chandigarh': -0.8923399544372118, 'Lucknow': 0.7386681544168774, 'Guwahati': 0.0396646791936963, 'Dharamsala': -0.42633763762175775, 'Mohali': 0.855168733620741}\n"
     ]
    }
   ],
   "source": [
    "# Convert the DataFrame to a dictionary\n",
    "dictionary3 = df3.set_index('1')['2'].to_dict()\n",
    "\n",
    "print(dictionary3)"
   ]
  },
  {
   "cell_type": "code",
   "execution_count": 70,
   "id": "7eaa65de",
   "metadata": {
    "execution": {
     "iopub.execute_input": "2025-04-30T16:49:32.568956Z",
     "iopub.status.busy": "2025-04-30T16:49:32.568745Z",
     "iopub.status.idle": "2025-04-30T16:49:32.573522Z",
     "shell.execute_reply": "2025-04-30T16:49:32.573024Z"
    },
    "papermill": {
     "duration": 0.02651,
     "end_time": "2025-04-30T16:49:32.574479",
     "exception": false,
     "start_time": "2025-04-30T16:49:32.547969",
     "status": "completed"
    },
    "tags": []
   },
   "outputs": [
    {
     "data": {
      "text/plain": [
       "124    0\n",
       "125    0\n",
       "126    0\n",
       "127    0\n",
       "128    0\n",
       "Name: result, dtype: int64"
      ]
     },
     "execution_count": 70,
     "metadata": {},
     "output_type": "execute_result"
    }
   ],
   "source": [
    "y.head()"
   ]
  },
  {
   "cell_type": "code",
   "execution_count": 71,
   "id": "1be76e61",
   "metadata": {
    "execution": {
     "iopub.execute_input": "2025-04-30T16:49:32.612783Z",
     "iopub.status.busy": "2025-04-30T16:49:32.612586Z",
     "iopub.status.idle": "2025-04-30T16:49:32.792622Z",
     "shell.execute_reply": "2025-04-30T16:49:32.792102Z"
    },
    "papermill": {
     "duration": 0.200376,
     "end_time": "2025-04-30T16:49:32.793928",
     "exception": false,
     "start_time": "2025-04-30T16:49:32.593552",
     "status": "completed"
    },
    "tags": []
   },
   "outputs": [],
   "source": [
    "from sklearn.model_selection import train_test_split"
   ]
  },
  {
   "cell_type": "code",
   "execution_count": 72,
   "id": "8eecc963",
   "metadata": {
    "execution": {
     "iopub.execute_input": "2025-04-30T16:49:32.835511Z",
     "iopub.status.busy": "2025-04-30T16:49:32.835307Z",
     "iopub.status.idle": "2025-04-30T16:49:32.852005Z",
     "shell.execute_reply": "2025-04-30T16:49:32.851515Z"
    },
    "papermill": {
     "duration": 0.03783,
     "end_time": "2025-04-30T16:49:32.853121",
     "exception": false,
     "start_time": "2025-04-30T16:49:32.815291",
     "status": "completed"
    },
    "tags": []
   },
   "outputs": [],
   "source": [
    "X_train, X_test, y_train, y_test = train_test_split( X, y, test_size=0.2, random_state=1)"
   ]
  },
  {
   "cell_type": "code",
   "execution_count": 73,
   "id": "b365b792",
   "metadata": {
    "execution": {
     "iopub.execute_input": "2025-04-30T16:49:32.896085Z",
     "iopub.status.busy": "2025-04-30T16:49:32.895871Z",
     "iopub.status.idle": "2025-04-30T16:49:32.900252Z",
     "shell.execute_reply": "2025-04-30T16:49:32.899582Z"
    },
    "papermill": {
     "duration": 0.027712,
     "end_time": "2025-04-30T16:49:32.901461",
     "exception": false,
     "start_time": "2025-04-30T16:49:32.873749",
     "status": "completed"
    },
    "tags": []
   },
   "outputs": [
    {
     "data": {
      "text/plain": [
       "(70308, 9)"
      ]
     },
     "execution_count": 73,
     "metadata": {},
     "output_type": "execute_result"
    }
   ],
   "source": [
    "X_train.shape"
   ]
  },
  {
   "cell_type": "code",
   "execution_count": 74,
   "id": "e9a695b3",
   "metadata": {
    "execution": {
     "iopub.execute_input": "2025-04-30T16:49:32.940708Z",
     "iopub.status.busy": "2025-04-30T16:49:32.940174Z",
     "iopub.status.idle": "2025-04-30T16:49:51.787800Z",
     "shell.execute_reply": "2025-04-30T16:49:51.787190Z"
    },
    "papermill": {
     "duration": 18.868237,
     "end_time": "2025-04-30T16:49:51.789110",
     "exception": false,
     "start_time": "2025-04-30T16:49:32.920873",
     "status": "completed"
    },
    "tags": []
   },
   "outputs": [],
   "source": [
    "from tensorflow.keras.models import Sequential\n",
    "from tensorflow.keras.layers import Dense"
   ]
  },
  {
   "cell_type": "code",
   "execution_count": 75,
   "id": "cee011bc",
   "metadata": {
    "execution": {
     "iopub.execute_input": "2025-04-30T16:49:51.830015Z",
     "iopub.status.busy": "2025-04-30T16:49:51.829540Z",
     "iopub.status.idle": "2025-04-30T16:49:55.969023Z",
     "shell.execute_reply": "2025-04-30T16:49:55.968417Z"
    },
    "papermill": {
     "duration": 4.160952,
     "end_time": "2025-04-30T16:49:55.970457",
     "exception": false,
     "start_time": "2025-04-30T16:49:51.809505",
     "status": "completed"
    },
    "tags": []
   },
   "outputs": [
    {
     "name": "stderr",
     "output_type": "stream",
     "text": [
      "c:\\Users\\DELL-7373\\Desktop\\internship\\AI_engineer_intern_tasks\\task1\\venv\\Lib\\site-packages\\keras\\src\\layers\\core\\dense.py:87: UserWarning: Do not pass an `input_shape`/`input_dim` argument to a layer. When using Sequential models, prefer using an `Input(shape)` object as the first layer in the model instead.\n",
      "  super().__init__(activity_regularizer=activity_regularizer, **kwargs)\n"
     ]
    }
   ],
   "source": [
    "model = Sequential()\n",
    "\n",
    "# Input layer and one hidden layer\n",
    "model.add(Dense(16, input_dim=X_train.shape[1], activation='relu'))  # 16 neurons in hidden layer\n",
    "\n",
    "# Another hidden layer (optional)\n",
    "model.add(Dense(8, activation='relu'))\n",
    "\n",
    "# Output layer (1 neuron for binary classification)\n",
    "model.add(Dense(1, activation='sigmoid'))\n"
   ]
  },
  {
   "cell_type": "code",
   "execution_count": 76,
   "id": "9ffcb563",
   "metadata": {
    "execution": {
     "iopub.execute_input": "2025-04-30T16:49:56.011945Z",
     "iopub.status.busy": "2025-04-30T16:49:56.011708Z",
     "iopub.status.idle": "2025-04-30T16:49:56.024414Z",
     "shell.execute_reply": "2025-04-30T16:49:56.023796Z"
    },
    "papermill": {
     "duration": 0.034122,
     "end_time": "2025-04-30T16:49:56.025481",
     "exception": false,
     "start_time": "2025-04-30T16:49:55.991359",
     "status": "completed"
    },
    "tags": []
   },
   "outputs": [
    {
     "data": {
      "text/html": [
       "<pre style=\"white-space:pre;overflow-x:auto;line-height:normal;font-family:Menlo,'DejaVu Sans Mono',consolas,'Courier New',monospace\"><span style=\"font-weight: bold\">Model: \"sequential\"</span>\n",
       "</pre>\n"
      ],
      "text/plain": [
       "\u001b[1mModel: \"sequential\"\u001b[0m\n"
      ]
     },
     "metadata": {},
     "output_type": "display_data"
    },
    {
     "data": {
      "text/html": [
       "<pre style=\"white-space:pre;overflow-x:auto;line-height:normal;font-family:Menlo,'DejaVu Sans Mono',consolas,'Courier New',monospace\">┏━━━━━━━━━━━━━━━━━━━━━━━━━━━━━━━━━┳━━━━━━━━━━━━━━━━━━━━━━━━┳━━━━━━━━━━━━━━━┓\n",
       "┃<span style=\"font-weight: bold\"> Layer (type)                    </span>┃<span style=\"font-weight: bold\"> Output Shape           </span>┃<span style=\"font-weight: bold\">       Param # </span>┃\n",
       "┡━━━━━━━━━━━━━━━━━━━━━━━━━━━━━━━━━╇━━━━━━━━━━━━━━━━━━━━━━━━╇━━━━━━━━━━━━━━━┩\n",
       "│ dense (<span style=\"color: #0087ff; text-decoration-color: #0087ff\">Dense</span>)                   │ (<span style=\"color: #00d7ff; text-decoration-color: #00d7ff\">None</span>, <span style=\"color: #00af00; text-decoration-color: #00af00\">16</span>)             │           <span style=\"color: #00af00; text-decoration-color: #00af00\">160</span> │\n",
       "├─────────────────────────────────┼────────────────────────┼───────────────┤\n",
       "│ dense_1 (<span style=\"color: #0087ff; text-decoration-color: #0087ff\">Dense</span>)                 │ (<span style=\"color: #00d7ff; text-decoration-color: #00d7ff\">None</span>, <span style=\"color: #00af00; text-decoration-color: #00af00\">8</span>)              │           <span style=\"color: #00af00; text-decoration-color: #00af00\">136</span> │\n",
       "├─────────────────────────────────┼────────────────────────┼───────────────┤\n",
       "│ dense_2 (<span style=\"color: #0087ff; text-decoration-color: #0087ff\">Dense</span>)                 │ (<span style=\"color: #00d7ff; text-decoration-color: #00d7ff\">None</span>, <span style=\"color: #00af00; text-decoration-color: #00af00\">1</span>)              │             <span style=\"color: #00af00; text-decoration-color: #00af00\">9</span> │\n",
       "└─────────────────────────────────┴────────────────────────┴───────────────┘\n",
       "</pre>\n"
      ],
      "text/plain": [
       "┏━━━━━━━━━━━━━━━━━━━━━━━━━━━━━━━━━┳━━━━━━━━━━━━━━━━━━━━━━━━┳━━━━━━━━━━━━━━━┓\n",
       "┃\u001b[1m \u001b[0m\u001b[1mLayer (type)                   \u001b[0m\u001b[1m \u001b[0m┃\u001b[1m \u001b[0m\u001b[1mOutput Shape          \u001b[0m\u001b[1m \u001b[0m┃\u001b[1m \u001b[0m\u001b[1m      Param #\u001b[0m\u001b[1m \u001b[0m┃\n",
       "┡━━━━━━━━━━━━━━━━━━━━━━━━━━━━━━━━━╇━━━━━━━━━━━━━━━━━━━━━━━━╇━━━━━━━━━━━━━━━┩\n",
       "│ dense (\u001b[38;5;33mDense\u001b[0m)                   │ (\u001b[38;5;45mNone\u001b[0m, \u001b[38;5;34m16\u001b[0m)             │           \u001b[38;5;34m160\u001b[0m │\n",
       "├─────────────────────────────────┼────────────────────────┼───────────────┤\n",
       "│ dense_1 (\u001b[38;5;33mDense\u001b[0m)                 │ (\u001b[38;5;45mNone\u001b[0m, \u001b[38;5;34m8\u001b[0m)              │           \u001b[38;5;34m136\u001b[0m │\n",
       "├─────────────────────────────────┼────────────────────────┼───────────────┤\n",
       "│ dense_2 (\u001b[38;5;33mDense\u001b[0m)                 │ (\u001b[38;5;45mNone\u001b[0m, \u001b[38;5;34m1\u001b[0m)              │             \u001b[38;5;34m9\u001b[0m │\n",
       "└─────────────────────────────────┴────────────────────────┴───────────────┘\n"
      ]
     },
     "metadata": {},
     "output_type": "display_data"
    },
    {
     "data": {
      "text/html": [
       "<pre style=\"white-space:pre;overflow-x:auto;line-height:normal;font-family:Menlo,'DejaVu Sans Mono',consolas,'Courier New',monospace\"><span style=\"font-weight: bold\"> Total params: </span><span style=\"color: #00af00; text-decoration-color: #00af00\">305</span> (1.19 KB)\n",
       "</pre>\n"
      ],
      "text/plain": [
       "\u001b[1m Total params: \u001b[0m\u001b[38;5;34m305\u001b[0m (1.19 KB)\n"
      ]
     },
     "metadata": {},
     "output_type": "display_data"
    },
    {
     "data": {
      "text/html": [
       "<pre style=\"white-space:pre;overflow-x:auto;line-height:normal;font-family:Menlo,'DejaVu Sans Mono',consolas,'Courier New',monospace\"><span style=\"font-weight: bold\"> Trainable params: </span><span style=\"color: #00af00; text-decoration-color: #00af00\">305</span> (1.19 KB)\n",
       "</pre>\n"
      ],
      "text/plain": [
       "\u001b[1m Trainable params: \u001b[0m\u001b[38;5;34m305\u001b[0m (1.19 KB)\n"
      ]
     },
     "metadata": {},
     "output_type": "display_data"
    },
    {
     "data": {
      "text/html": [
       "<pre style=\"white-space:pre;overflow-x:auto;line-height:normal;font-family:Menlo,'DejaVu Sans Mono',consolas,'Courier New',monospace\"><span style=\"font-weight: bold\"> Non-trainable params: </span><span style=\"color: #00af00; text-decoration-color: #00af00\">0</span> (0.00 B)\n",
       "</pre>\n"
      ],
      "text/plain": [
       "\u001b[1m Non-trainable params: \u001b[0m\u001b[38;5;34m0\u001b[0m (0.00 B)\n"
      ]
     },
     "metadata": {},
     "output_type": "display_data"
    }
   ],
   "source": [
    "model.summary()"
   ]
  },
  {
   "cell_type": "code",
   "execution_count": 77,
   "id": "d09ffbf6",
   "metadata": {
    "execution": {
     "iopub.execute_input": "2025-04-30T16:49:56.066375Z",
     "iopub.status.busy": "2025-04-30T16:49:56.066160Z",
     "iopub.status.idle": "2025-04-30T16:49:56.077328Z",
     "shell.execute_reply": "2025-04-30T16:49:56.076820Z"
    },
    "papermill": {
     "duration": 0.032786,
     "end_time": "2025-04-30T16:49:56.078363",
     "exception": false,
     "start_time": "2025-04-30T16:49:56.045577",
     "status": "completed"
    },
    "tags": []
   },
   "outputs": [],
   "source": [
    "model.compile(optimizer='adam', loss='binary_crossentropy', metrics=['accuracy'])"
   ]
  },
  {
   "cell_type": "code",
   "execution_count": 78,
   "id": "3d778ec6",
   "metadata": {
    "execution": {
     "iopub.execute_input": "2025-04-30T16:49:56.118897Z",
     "iopub.status.busy": "2025-04-30T16:49:56.118372Z",
     "iopub.status.idle": "2025-04-30T16:52:56.890578Z",
     "shell.execute_reply": "2025-04-30T16:52:56.889805Z"
    },
    "papermill": {
     "duration": 180.934897,
     "end_time": "2025-04-30T16:52:57.033013",
     "exception": false,
     "start_time": "2025-04-30T16:49:56.098116",
     "status": "completed"
    },
    "tags": []
   },
   "outputs": [
    {
     "name": "stdout",
     "output_type": "stream",
     "text": [
      "Epoch 1/20\n",
      "\u001b[1m7031/7031\u001b[0m \u001b[32m━━━━━━━━━━━━━━━━━━━━\u001b[0m\u001b[37m\u001b[0m \u001b[1m32s\u001b[0m 4ms/step - accuracy: 0.7652 - loss: 0.4680 - val_accuracy: 0.7988 - val_loss: 0.4144\n",
      "Epoch 2/20\n",
      "\u001b[1m7031/7031\u001b[0m \u001b[32m━━━━━━━━━━━━━━━━━━━━\u001b[0m\u001b[37m\u001b[0m \u001b[1m29s\u001b[0m 4ms/step - accuracy: 0.8068 - loss: 0.4059 - val_accuracy: 0.8104 - val_loss: 0.3962\n",
      "Epoch 3/20\n",
      "\u001b[1m7031/7031\u001b[0m \u001b[32m━━━━━━━━━━━━━━━━━━━━\u001b[0m\u001b[37m\u001b[0m \u001b[1m29s\u001b[0m 4ms/step - accuracy: 0.8159 - loss: 0.3885 - val_accuracy: 0.8132 - val_loss: 0.3851\n",
      "Epoch 4/20\n",
      "\u001b[1m7031/7031\u001b[0m \u001b[32m━━━━━━━━━━━━━━━━━━━━\u001b[0m\u001b[37m\u001b[0m \u001b[1m27s\u001b[0m 4ms/step - accuracy: 0.8200 - loss: 0.3773 - val_accuracy: 0.8245 - val_loss: 0.3736\n",
      "Epoch 5/20\n",
      "\u001b[1m7031/7031\u001b[0m \u001b[32m━━━━━━━━━━━━━━━━━━━━\u001b[0m\u001b[37m\u001b[0m \u001b[1m27s\u001b[0m 4ms/step - accuracy: 0.8289 - loss: 0.3662 - val_accuracy: 0.8301 - val_loss: 0.3590\n",
      "Epoch 6/20\n",
      "\u001b[1m7031/7031\u001b[0m \u001b[32m━━━━━━━━━━━━━━━━━━━━\u001b[0m\u001b[37m\u001b[0m \u001b[1m28s\u001b[0m 4ms/step - accuracy: 0.8342 - loss: 0.3536 - val_accuracy: 0.8356 - val_loss: 0.3514\n",
      "Epoch 7/20\n",
      "\u001b[1m7031/7031\u001b[0m \u001b[32m━━━━━━━━━━━━━━━━━━━━\u001b[0m\u001b[37m\u001b[0m \u001b[1m28s\u001b[0m 4ms/step - accuracy: 0.8393 - loss: 0.3453 - val_accuracy: 0.8394 - val_loss: 0.3436\n",
      "Epoch 8/20\n",
      "\u001b[1m7031/7031\u001b[0m \u001b[32m━━━━━━━━━━━━━━━━━━━━\u001b[0m\u001b[37m\u001b[0m \u001b[1m28s\u001b[0m 4ms/step - accuracy: 0.8421 - loss: 0.3405 - val_accuracy: 0.8445 - val_loss: 0.3418\n",
      "Epoch 9/20\n",
      "\u001b[1m7031/7031\u001b[0m \u001b[32m━━━━━━━━━━━━━━━━━━━━\u001b[0m\u001b[37m\u001b[0m \u001b[1m28s\u001b[0m 4ms/step - accuracy: 0.8454 - loss: 0.3333 - val_accuracy: 0.8447 - val_loss: 0.3359\n",
      "Epoch 10/20\n",
      "\u001b[1m7031/7031\u001b[0m \u001b[32m━━━━━━━━━━━━━━━━━━━━\u001b[0m\u001b[37m\u001b[0m \u001b[1m28s\u001b[0m 4ms/step - accuracy: 0.8487 - loss: 0.3299 - val_accuracy: 0.8493 - val_loss: 0.3314\n",
      "Epoch 11/20\n",
      "\u001b[1m7031/7031\u001b[0m \u001b[32m━━━━━━━━━━━━━━━━━━━━\u001b[0m\u001b[37m\u001b[0m \u001b[1m29s\u001b[0m 4ms/step - accuracy: 0.8477 - loss: 0.3292 - val_accuracy: 0.8430 - val_loss: 0.3359\n",
      "Epoch 12/20\n",
      "\u001b[1m7031/7031\u001b[0m \u001b[32m━━━━━━━━━━━━━━━━━━━━\u001b[0m\u001b[37m\u001b[0m \u001b[1m28s\u001b[0m 4ms/step - accuracy: 0.8508 - loss: 0.3227 - val_accuracy: 0.8499 - val_loss: 0.3285\n",
      "Epoch 13/20\n",
      "\u001b[1m7031/7031\u001b[0m \u001b[32m━━━━━━━━━━━━━━━━━━━━\u001b[0m\u001b[37m\u001b[0m \u001b[1m27s\u001b[0m 4ms/step - accuracy: 0.8528 - loss: 0.3185 - val_accuracy: 0.8534 - val_loss: 0.3264\n",
      "Epoch 14/20\n",
      "\u001b[1m7031/7031\u001b[0m \u001b[32m━━━━━━━━━━━━━━━━━━━━\u001b[0m\u001b[37m\u001b[0m \u001b[1m28s\u001b[0m 4ms/step - accuracy: 0.8549 - loss: 0.3160 - val_accuracy: 0.8546 - val_loss: 0.3227\n",
      "Epoch 15/20\n",
      "\u001b[1m7031/7031\u001b[0m \u001b[32m━━━━━━━━━━━━━━━━━━━━\u001b[0m\u001b[37m\u001b[0m \u001b[1m29s\u001b[0m 4ms/step - accuracy: 0.8561 - loss: 0.3157 - val_accuracy: 0.8541 - val_loss: 0.3217\n",
      "Epoch 16/20\n",
      "\u001b[1m7031/7031\u001b[0m \u001b[32m━━━━━━━━━━━━━━━━━━━━\u001b[0m\u001b[37m\u001b[0m \u001b[1m29s\u001b[0m 4ms/step - accuracy: 0.8570 - loss: 0.3118 - val_accuracy: 0.8523 - val_loss: 0.3219\n",
      "Epoch 17/20\n",
      "\u001b[1m7031/7031\u001b[0m \u001b[32m━━━━━━━━━━━━━━━━━━━━\u001b[0m\u001b[37m\u001b[0m \u001b[1m28s\u001b[0m 4ms/step - accuracy: 0.8603 - loss: 0.3086 - val_accuracy: 0.8609 - val_loss: 0.3150\n",
      "Epoch 18/20\n",
      "\u001b[1m7031/7031\u001b[0m \u001b[32m━━━━━━━━━━━━━━━━━━━━\u001b[0m\u001b[37m\u001b[0m \u001b[1m31s\u001b[0m 4ms/step - accuracy: 0.8583 - loss: 0.3108 - val_accuracy: 0.8617 - val_loss: 0.3106\n",
      "Epoch 19/20\n",
      "\u001b[1m7031/7031\u001b[0m \u001b[32m━━━━━━━━━━━━━━━━━━━━\u001b[0m\u001b[37m\u001b[0m \u001b[1m28s\u001b[0m 4ms/step - accuracy: 0.8639 - loss: 0.3019 - val_accuracy: 0.8590 - val_loss: 0.3061\n",
      "Epoch 20/20\n",
      "\u001b[1m7031/7031\u001b[0m \u001b[32m━━━━━━━━━━━━━━━━━━━━\u001b[0m\u001b[37m\u001b[0m \u001b[1m28s\u001b[0m 4ms/step - accuracy: 0.8652 - loss: 0.2978 - val_accuracy: 0.8592 - val_loss: 0.3093\n"
     ]
    }
   ],
   "source": [
    "history = model.fit(X_train, y_train, epochs=20, batch_size=10, validation_data=(X_test, y_test))"
   ]
  },
  {
   "cell_type": "code",
   "execution_count": 79,
   "id": "333cfaf5",
   "metadata": {
    "execution": {
     "iopub.execute_input": "2025-04-30T16:52:57.368626Z",
     "iopub.status.busy": "2025-04-30T16:52:57.368349Z",
     "iopub.status.idle": "2025-04-30T16:52:58.520525Z",
     "shell.execute_reply": "2025-04-30T16:52:58.519923Z"
    },
    "papermill": {
     "duration": 1.345486,
     "end_time": "2025-04-30T16:52:58.521590",
     "exception": false,
     "start_time": "2025-04-30T16:52:57.176104",
     "status": "completed"
    },
    "tags": []
   },
   "outputs": [
    {
     "name": "stdout",
     "output_type": "stream",
     "text": [
      "\u001b[1m550/550\u001b[0m \u001b[32m━━━━━━━━━━━━━━━━━━━━\u001b[0m\u001b[37m\u001b[0m \u001b[1m2s\u001b[0m 3ms/step - accuracy: 0.8607 - loss: 0.3081\n",
      "Test Accuracy: 85.92%\n"
     ]
    }
   ],
   "source": [
    "loss, accuracy = model.evaluate(X_test, y_test)\n",
    "print(f'Test Accuracy: {accuracy * 100:.2f}%')"
   ]
  },
  {
   "cell_type": "code",
   "execution_count": 80,
   "id": "92cf90ff",
   "metadata": {
    "execution": {
     "iopub.execute_input": "2025-04-30T16:52:58.807598Z",
     "iopub.status.busy": "2025-04-30T16:52:58.807005Z",
     "iopub.status.idle": "2025-04-30T16:52:58.810633Z",
     "shell.execute_reply": "2025-04-30T16:52:58.810070Z"
    },
    "papermill": {
     "duration": 0.145615,
     "end_time": "2025-04-30T16:52:58.811698",
     "exception": false,
     "start_time": "2025-04-30T16:52:58.666083",
     "status": "completed"
    },
    "tags": []
   },
   "outputs": [],
   "source": [
    "import matplotlib.pyplot as plt"
   ]
  },
  {
   "cell_type": "code",
   "execution_count": 81,
   "id": "75c17798",
   "metadata": {
    "execution": {
     "iopub.execute_input": "2025-04-30T16:52:59.094726Z",
     "iopub.status.busy": "2025-04-30T16:52:59.094262Z",
     "iopub.status.idle": "2025-04-30T16:52:59.273762Z",
     "shell.execute_reply": "2025-04-30T16:52:59.272969Z"
    },
    "papermill": {
     "duration": 0.323155,
     "end_time": "2025-04-30T16:52:59.275119",
     "exception": false,
     "start_time": "2025-04-30T16:52:58.951964",
     "status": "completed"
    },
    "tags": []
   },
   "outputs": [
    {
     "data": {
      "image/png": "[encoded data removed]",
      "text/plain": [
       "<Figure size 640x480 with 1 Axes>"
      ]
     },
     "metadata": {},
     "output_type": "display_data"
    }
   ],
   "source": [
    "plt.plot(history.history['accuracy'], label='Training Accuracy')\n",
    "plt.plot(history.history['val_accuracy'], label='Validation Accuracy')\n",
    "plt.title('Model Accuracy')\n",
    "plt.ylabel('Accuracy')\n",
    "plt.xlabel('Epoch')\n",
    "plt.legend(loc='upper left')\n",
    "plt.show()"
   ]
  },
  {
   "cell_type": "code",
   "execution_count": 82,
   "id": "60e7118b",
   "metadata": {},
   "outputs": [
    {
     "name": "stderr",
     "output_type": "stream",
     "text": [
      "WARNING:absl:You are saving your model as an HDF5 file via `model.save()` or `keras.saving.save_model(model)`. This file format is considered legacy. We recommend using instead the native Keras format, e.g. `model.save('my_model.keras')` or `keras.saving.save_model(model, 'my_model.keras')`. \n"
     ]
    }
   ],
   "source": [
    "# Save the model\n",
    "model.save('ipl_winner_model.h5')"
   ]
  },
  {
   "cell_type": "code",
   "execution_count": 83,
   "id": "d1a823b6",
   "metadata": {},
   "outputs": [],
   "source": [
    "import numpy as np\n",
    "import pandas as pd\n",
    "from tensorflow.keras.models import load_model\n",
    "import pickle\n",
    "\n",
    "def predict_winner(batting_team, bowling_team, city, runs_left, balls_left, wickets_left, total_runs, current_run_rate, required_run_rate):\n",
    "    # Load the model and scaler\n",
    "    model = load_model('ipl_winner_model.h5')\n",
    "    scaler = pickle.load(open(\"scaler.pkl\", 'rb'))\n",
    "    \n",
    "    # Create a DataFrame with the input data\n",
    "    input_df = pd.DataFrame({\n",
    "        'batting_team': [batting_team],\n",
    "        'bowling_team': [bowling_team],\n",
    "        'city': [city],\n",
    "        'runs_left': [runs_left],\n",
    "        'balls_left': [balls_left],\n",
    "        'wickets_left': [wickets_left],\n",
    "        'total_runs_x': [total_runs],\n",
    "        'crr': [current_run_rate],\n",
    "        'rr': [required_run_rate]\n",
    "    })\n",
    "    \n",
    "    # Encode categorical variables using the dictionaries from training\n",
    "    input_df['batting_team'] = input_df['batting_team'].map(dictionary1)\n",
    "    input_df['bowling_team'] = input_df['bowling_team'].map(dictionary2)\n",
    "    input_df['city'] = input_df['city'].map(dictionary3)\n",
    "    \n",
    "    # Scale numerical features\n",
    "    numerical_cols = input_df.select_dtypes(include=['float64', 'int64']).columns\n",
    "    input_df[numerical_cols] = scaler.transform(input_df[numerical_cols])\n",
    "    \n",
    "    # Make prediction\n",
    "    prediction = model.predict(input_df)[0][0]\n",
    "    \n",
    "    # Return probability of batting team winning\n",
    "    return prediction"
   ]
  },
  {
   "cell_type": "code",
   "execution_count": 97,
   "id": "7d8178f1",
   "metadata": {},
   "outputs": [
    {
     "name": "stderr",
     "output_type": "stream",
     "text": [
      "WARNING:absl:Compiled the loaded model, but the compiled metrics have yet to be built. `model.compile_metrics` will be empty until you train or evaluate the model.\n"
     ]
    },
    {
     "name": "stdout",
     "output_type": "stream",
     "text": [
      "\u001b[1m1/1\u001b[0m \u001b[32m━━━━━━━━━━━━━━━━━━━━\u001b[0m\u001b[37m\u001b[0m \u001b[1m0s\u001b[0m 159ms/step\n",
      "Probability of Royal Challengers Bengaluru winning: 63.47%\n",
      "Royal Challengers Bengaluru is predicted to win!\n"
     ]
    }
   ],
   "source": [
    "# Example scenario: CSK batting against MI\n",
    "batting_team = \"Royal Challengers Bengaluru\"\n",
    "bowling_team = \"Mumbai Indians\"\n",
    "city = \"Mumbai\"\n",
    "runs_left = 10\n",
    "balls_left = 30\n",
    "wickets_left = 6\n",
    "total_runs = 130\n",
    "current_run_rate = 10.0\n",
    "required_run_rate = 10.0\n",
    "\n",
    "win_probability = predict_winner(\n",
    "    batting_team, bowling_team, city, \n",
    "    runs_left, balls_left, wickets_left, \n",
    "    total_runs, current_run_rate, required_run_rate\n",
    ")\n",
    "\n",
    "print(f\"Probability of {batting_team} winning: {win_probability:.2%}\")\n",
    "if win_probability > 0.5:\n",
    "    print(f\"{batting_team} is predicted to win!\")\n",
    "else:\n",
    "    print(f\"{bowling_team} is predicted to win!\")"
   ]
  },
  {
   "cell_type": "code",
   "execution_count": null,
   "id": "a948b81f",
   "metadata": {},
   "outputs": [],
   "source": []
  }
 ],
 "metadata": {
  "kaggle": {
   "accelerator": "nvidiaTeslaT4",
   "dataSources": [
    {
     "datasetId": 990900,
     "sourceId": 8637500,
     "sourceType": "datasetVersion"
    }
   ],
   "dockerImageVersionId": 31011,
   "isGpuEnabled": true,
   "isInternetEnabled": true,
   "language": "python",
   "sourceType": "notebook"
  },
  "kernelspec": {
   "display_name": "venv",
   "language": "python",
   "name": "python3"
  },
  "language_info": {
   "codemirror_mode": {
    "name": "ipython",
    "version": 3
   },
   "file_extension": ".py",
   "mimetype": "text/x-python",
   "name": "python",
   "nbconvert_exporter": "python",
   "pygments_lexer": "ipython3",
   "version": "3.11.3"
  },
  "papermill": {
   "default_parameters": {},
   "duration": 228.14033,
   "end_time": "2025-04-30T16:53:02.659170",
   "environment_variables": {},
   "exception": null,
   "input_path": "__notebook__.ipynb",
   "output_path": "__notebook__.ipynb",
   "parameters": {},
   "start_time": "2025-04-30T16:49:14.518840",
   "version": "2.6.0"
  }
 },
 "nbformat": 4,
 "nbformat_minor": 5
}
